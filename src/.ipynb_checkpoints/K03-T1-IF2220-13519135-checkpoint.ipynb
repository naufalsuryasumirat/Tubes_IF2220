{
 "cells": [
  {
   "cell_type": "markdown",
   "metadata": {},
   "source": [
    "# Tubes IF2220 Probabilitas dan Statistika\n",
    "Naufal Alexander Suryasumirat - 13519135\n",
    "\n",
    "Naufal Yahya Kurnianto - 13519141"
   ]
  },
  {
   "cell_type": "markdown",
   "metadata": {},
   "source": [
    "* [Soal1](#Soal1)\n",
    "* [Soal2](#Soal2)\n",
    "* [Soal3](#Soal3)\n",
    "* [Soal4](#Soal4)\n",
    "* [Soal5](#Soal5)\n",
    "* [Soal6](#Soal6)"
   ]
  },
  {
   "cell_type": "code",
   "execution_count": 143,
   "metadata": {},
   "outputs": [],
   "source": [
    "import pandas\n",
    "import warnings\n",
    "import matplotlib.pyplot\n",
    "import numpy\n",
    "import seaborn\n",
    "from scipy.stats import shapiro, norm, zscore, ttest_1samp, ttest_ind\n",
    "from statsmodels.stats.proportion import proportions_ztest\n",
    "\n",
    "warnings.simplefilter(action = 'ignore', category=FutureWarning) # Menghilangkan warning untuk distplot"
   ]
  },
  {
   "cell_type": "code",
   "execution_count": 2,
   "metadata": {},
   "outputs": [
    {
     "data": {
      "text/html": [
       "<div>\n",
       "<style scoped>\n",
       "    .dataframe tbody tr th:only-of-type {\n",
       "        vertical-align: middle;\n",
       "    }\n",
       "\n",
       "    .dataframe tbody tr th {\n",
       "        vertical-align: top;\n",
       "    }\n",
       "\n",
       "    .dataframe thead th {\n",
       "        text-align: right;\n",
       "    }\n",
       "</style>\n",
       "<table border=\"1\" class=\"dataframe\">\n",
       "  <thead>\n",
       "    <tr style=\"text-align: right;\">\n",
       "      <th></th>\n",
       "      <th>id</th>\n",
       "      <th>Daerah</th>\n",
       "      <th>SumbuUtama</th>\n",
       "      <th>SumbuKecil</th>\n",
       "      <th>Keunikan</th>\n",
       "      <th>AreaBulatan</th>\n",
       "      <th>Diameter</th>\n",
       "      <th>KadarAir</th>\n",
       "      <th>Keliling</th>\n",
       "      <th>Bulatan</th>\n",
       "      <th>Ransum</th>\n",
       "      <th>Kelas</th>\n",
       "    </tr>\n",
       "  </thead>\n",
       "  <tbody>\n",
       "    <tr>\n",
       "      <th>0</th>\n",
       "      <td>1</td>\n",
       "      <td>5781</td>\n",
       "      <td>128.288875</td>\n",
       "      <td>58.470846</td>\n",
       "      <td>0.890095</td>\n",
       "      <td>5954</td>\n",
       "      <td>85.793926</td>\n",
       "      <td>0.674090</td>\n",
       "      <td>316.756</td>\n",
       "      <td>0.724041</td>\n",
       "      <td>2.194066</td>\n",
       "      <td>1</td>\n",
       "    </tr>\n",
       "    <tr>\n",
       "      <th>1</th>\n",
       "      <td>2</td>\n",
       "      <td>4176</td>\n",
       "      <td>109.348294</td>\n",
       "      <td>49.837688</td>\n",
       "      <td>0.890098</td>\n",
       "      <td>4277</td>\n",
       "      <td>72.918093</td>\n",
       "      <td>0.596231</td>\n",
       "      <td>260.346</td>\n",
       "      <td>0.774227</td>\n",
       "      <td>2.194088</td>\n",
       "      <td>1</td>\n",
       "    </tr>\n",
       "    <tr>\n",
       "      <th>2</th>\n",
       "      <td>3</td>\n",
       "      <td>4555</td>\n",
       "      <td>114.427991</td>\n",
       "      <td>52.151207</td>\n",
       "      <td>0.890105</td>\n",
       "      <td>4706</td>\n",
       "      <td>76.155145</td>\n",
       "      <td>0.776641</td>\n",
       "      <td>279.606</td>\n",
       "      <td>0.732159</td>\n",
       "      <td>2.194158</td>\n",
       "      <td>1</td>\n",
       "    </tr>\n",
       "    <tr>\n",
       "      <th>3</th>\n",
       "      <td>4</td>\n",
       "      <td>4141</td>\n",
       "      <td>108.701190</td>\n",
       "      <td>49.457349</td>\n",
       "      <td>0.890499</td>\n",
       "      <td>4236</td>\n",
       "      <td>72.611879</td>\n",
       "      <td>0.633180</td>\n",
       "      <td>260.478</td>\n",
       "      <td>0.766961</td>\n",
       "      <td>2.197877</td>\n",
       "      <td>1</td>\n",
       "    </tr>\n",
       "    <tr>\n",
       "      <th>4</th>\n",
       "      <td>5</td>\n",
       "      <td>5273</td>\n",
       "      <td>122.747868</td>\n",
       "      <td>55.757848</td>\n",
       "      <td>0.890876</td>\n",
       "      <td>5431</td>\n",
       "      <td>81.937733</td>\n",
       "      <td>0.669842</td>\n",
       "      <td>302.730</td>\n",
       "      <td>0.723031</td>\n",
       "      <td>2.201446</td>\n",
       "      <td>1</td>\n",
       "    </tr>\n",
       "    <tr>\n",
       "      <th>...</th>\n",
       "      <td>...</td>\n",
       "      <td>...</td>\n",
       "      <td>...</td>\n",
       "      <td>...</td>\n",
       "      <td>...</td>\n",
       "      <td>...</td>\n",
       "      <td>...</td>\n",
       "      <td>...</td>\n",
       "      <td>...</td>\n",
       "      <td>...</td>\n",
       "      <td>...</td>\n",
       "      <td>...</td>\n",
       "    </tr>\n",
       "    <tr>\n",
       "      <th>495</th>\n",
       "      <td>496</td>\n",
       "      <td>5083</td>\n",
       "      <td>120.083450</td>\n",
       "      <td>54.821580</td>\n",
       "      <td>0.889709</td>\n",
       "      <td>5179</td>\n",
       "      <td>80.447975</td>\n",
       "      <td>0.534827</td>\n",
       "      <td>286.377</td>\n",
       "      <td>0.778850</td>\n",
       "      <td>2.190441</td>\n",
       "      <td>2</td>\n",
       "    </tr>\n",
       "    <tr>\n",
       "      <th>496</th>\n",
       "      <td>497</td>\n",
       "      <td>4432</td>\n",
       "      <td>112.367050</td>\n",
       "      <td>51.294914</td>\n",
       "      <td>0.889726</td>\n",
       "      <td>4550</td>\n",
       "      <td>75.119889</td>\n",
       "      <td>0.601194</td>\n",
       "      <td>270.823</td>\n",
       "      <td>0.759344</td>\n",
       "      <td>2.190608</td>\n",
       "      <td>2</td>\n",
       "    </tr>\n",
       "    <tr>\n",
       "      <th>497</th>\n",
       "      <td>498</td>\n",
       "      <td>5020</td>\n",
       "      <td>119.873742</td>\n",
       "      <td>54.718545</td>\n",
       "      <td>0.889740</td>\n",
       "      <td>5104</td>\n",
       "      <td>79.947874</td>\n",
       "      <td>0.528421</td>\n",
       "      <td>285.799</td>\n",
       "      <td>0.772311</td>\n",
       "      <td>2.190733</td>\n",
       "      <td>2</td>\n",
       "    </tr>\n",
       "    <tr>\n",
       "      <th>498</th>\n",
       "      <td>499</td>\n",
       "      <td>4035</td>\n",
       "      <td>107.311728</td>\n",
       "      <td>48.930802</td>\n",
       "      <td>0.889996</td>\n",
       "      <td>4150</td>\n",
       "      <td>71.676506</td>\n",
       "      <td>0.584698</td>\n",
       "      <td>258.503</td>\n",
       "      <td>0.758791</td>\n",
       "      <td>2.193132</td>\n",
       "      <td>2</td>\n",
       "    </tr>\n",
       "    <tr>\n",
       "      <th>499</th>\n",
       "      <td>500</td>\n",
       "      <td>3379</td>\n",
       "      <td>99.014789</td>\n",
       "      <td>44.631551</td>\n",
       "      <td>0.892647</td>\n",
       "      <td>3491</td>\n",
       "      <td>65.591741</td>\n",
       "      <td>0.653578</td>\n",
       "      <td>237.593</td>\n",
       "      <td>0.752196</td>\n",
       "      <td>2.218493</td>\n",
       "      <td>2</td>\n",
       "    </tr>\n",
       "  </tbody>\n",
       "</table>\n",
       "<p>500 rows × 12 columns</p>\n",
       "</div>"
      ],
      "text/plain": [
       "      id  Daerah  SumbuUtama  SumbuKecil  Keunikan  AreaBulatan   Diameter  \\\n",
       "0      1    5781  128.288875   58.470846  0.890095         5954  85.793926   \n",
       "1      2    4176  109.348294   49.837688  0.890098         4277  72.918093   \n",
       "2      3    4555  114.427991   52.151207  0.890105         4706  76.155145   \n",
       "3      4    4141  108.701190   49.457349  0.890499         4236  72.611879   \n",
       "4      5    5273  122.747868   55.757848  0.890876         5431  81.937733   \n",
       "..   ...     ...         ...         ...       ...          ...        ...   \n",
       "495  496    5083  120.083450   54.821580  0.889709         5179  80.447975   \n",
       "496  497    4432  112.367050   51.294914  0.889726         4550  75.119889   \n",
       "497  498    5020  119.873742   54.718545  0.889740         5104  79.947874   \n",
       "498  499    4035  107.311728   48.930802  0.889996         4150  71.676506   \n",
       "499  500    3379   99.014789   44.631551  0.892647         3491  65.591741   \n",
       "\n",
       "     KadarAir  Keliling   Bulatan    Ransum  Kelas  \n",
       "0    0.674090   316.756  0.724041  2.194066      1  \n",
       "1    0.596231   260.346  0.774227  2.194088      1  \n",
       "2    0.776641   279.606  0.732159  2.194158      1  \n",
       "3    0.633180   260.478  0.766961  2.197877      1  \n",
       "4    0.669842   302.730  0.723031  2.201446      1  \n",
       "..        ...       ...       ...       ...    ...  \n",
       "495  0.534827   286.377  0.778850  2.190441      2  \n",
       "496  0.601194   270.823  0.759344  2.190608      2  \n",
       "497  0.528421   285.799  0.772311  2.190733      2  \n",
       "498  0.584698   258.503  0.758791  2.193132      2  \n",
       "499  0.653578   237.593  0.752196  2.218493      2  \n",
       "\n",
       "[500 rows x 12 columns]"
      ]
     },
     "execution_count": 2,
     "metadata": {},
     "output_type": "execute_result"
    }
   ],
   "source": [
    "column_names = [\"id\", \"Daerah\", \"SumbuUtama\", \"SumbuKecil\", \"Keunikan\", \"AreaBulatan\", \"Diameter\", \"KadarAir\", \"Keliling\", \"Bulatan\", \"Ransum\", \"Kelas\"]\n",
    "gandum = pandas.read_csv(\"./../test/Gandum.csv\", header = None, names = column_names) # Membaca file\n",
    "gandum  # Memperlihatkan Gandum.csv\n",
    "        # Kolom 2 - 11 adalah kolom atribut (non-target), kolom 12 adalah target"
   ]
  },
  {
   "cell_type": "markdown",
   "metadata": {},
   "source": [
    "### Soal1\n",
    "1. Menulis deskripsi statistika (Descriptive Statistics) dari semua kolom pada data yang bersifat numerik, terdiri dari mean, median, modus, standar deviasi, variansi, range, nilai minimum, maksimum, kuartil, IQR, skewness dan kurtosis. Boleh juga ditambahkan deskripsi lain."
   ]
  },
  {
   "cell_type": "code",
   "execution_count": 3,
   "metadata": {
    "scrolled": true
   },
   "outputs": [
    {
     "data": {
      "text/html": [
       "<div>\n",
       "<style scoped>\n",
       "    .dataframe tbody tr th:only-of-type {\n",
       "        vertical-align: middle;\n",
       "    }\n",
       "\n",
       "    .dataframe tbody tr th {\n",
       "        vertical-align: top;\n",
       "    }\n",
       "\n",
       "    .dataframe thead th {\n",
       "        text-align: right;\n",
       "    }\n",
       "</style>\n",
       "<table border=\"1\" class=\"dataframe\">\n",
       "  <thead>\n",
       "    <tr style=\"text-align: right;\">\n",
       "      <th></th>\n",
       "      <th>Mean</th>\n",
       "      <th>Median</th>\n",
       "      <th>Modus</th>\n",
       "      <th>Std.Deviasi</th>\n",
       "      <th>Variansi</th>\n",
       "      <th>Range</th>\n",
       "      <th>Maksimum</th>\n",
       "      <th>Minimum</th>\n",
       "      <th>Q1</th>\n",
       "      <th>Q3</th>\n",
       "      <th>IQR</th>\n",
       "      <th>Skewness</th>\n",
       "      <th>Kurtosis</th>\n",
       "    </tr>\n",
       "  </thead>\n",
       "  <tbody>\n",
       "    <tr>\n",
       "      <th>Daerah</th>\n",
       "      <td>4801.246000</td>\n",
       "      <td>4735.000000</td>\n",
       "      <td>3992, 4881, 5642, 6083</td>\n",
       "      <td>986.395491</td>\n",
       "      <td>9.729761e+05</td>\n",
       "      <td>4932.000000</td>\n",
       "      <td>7453.000000</td>\n",
       "      <td>2522.000000</td>\n",
       "      <td>4042.750000</td>\n",
       "      <td>5495.500000</td>\n",
       "      <td>1452.750000</td>\n",
       "      <td>0.238144</td>\n",
       "      <td>-0.434631</td>\n",
       "    </tr>\n",
       "    <tr>\n",
       "      <th>SumbuUtama</th>\n",
       "      <td>116.045171</td>\n",
       "      <td>115.405140</td>\n",
       "      <td>None</td>\n",
       "      <td>18.282626</td>\n",
       "      <td>3.342544e+02</td>\n",
       "      <td>154.795469</td>\n",
       "      <td>227.928583</td>\n",
       "      <td>74.133114</td>\n",
       "      <td>104.116098</td>\n",
       "      <td>129.046792</td>\n",
       "      <td>24.930694</td>\n",
       "      <td>0.761529</td>\n",
       "      <td>4.330534</td>\n",
       "    </tr>\n",
       "    <tr>\n",
       "      <th>SumbuKecil</th>\n",
       "      <td>53.715246</td>\n",
       "      <td>53.731199</td>\n",
       "      <td>None</td>\n",
       "      <td>4.071075</td>\n",
       "      <td>1.657365e+01</td>\n",
       "      <td>30.071182</td>\n",
       "      <td>68.977700</td>\n",
       "      <td>39.906517</td>\n",
       "      <td>51.193576</td>\n",
       "      <td>56.325158</td>\n",
       "      <td>5.131582</td>\n",
       "      <td>-0.010828</td>\n",
       "      <td>0.475568</td>\n",
       "    </tr>\n",
       "    <tr>\n",
       "      <th>Keunikan</th>\n",
       "      <td>0.878764</td>\n",
       "      <td>0.890045</td>\n",
       "      <td>None</td>\n",
       "      <td>0.036586</td>\n",
       "      <td>1.338528e-03</td>\n",
       "      <td>1.194085</td>\n",
       "      <td>0.914001</td>\n",
       "      <td>0.719916</td>\n",
       "      <td>0.863676</td>\n",
       "      <td>0.907578</td>\n",
       "      <td>0.043902</td>\n",
       "      <td>-1.623472</td>\n",
       "      <td>2.917256</td>\n",
       "    </tr>\n",
       "    <tr>\n",
       "      <th>AreaBulatan</th>\n",
       "      <td>4937.048000</td>\n",
       "      <td>4857.000000</td>\n",
       "      <td>3802, 4913</td>\n",
       "      <td>1011.696255</td>\n",
       "      <td>1.023529e+06</td>\n",
       "      <td>5142.000000</td>\n",
       "      <td>7720.000000</td>\n",
       "      <td>2579.000000</td>\n",
       "      <td>4170.250000</td>\n",
       "      <td>5654.250000</td>\n",
       "      <td>1484.000000</td>\n",
       "      <td>0.257560</td>\n",
       "      <td>-0.409685</td>\n",
       "    </tr>\n",
       "    <tr>\n",
       "      <th>Diameter</th>\n",
       "      <td>77.771158</td>\n",
       "      <td>77.645277</td>\n",
       "      <td>71.29356396, 78.83325579, 84.75622403, 88.0063...</td>\n",
       "      <td>8.056867</td>\n",
       "      <td>6.491311e+01</td>\n",
       "      <td>41.747172</td>\n",
       "      <td>97.413830</td>\n",
       "      <td>56.666658</td>\n",
       "      <td>71.745308</td>\n",
       "      <td>83.648598</td>\n",
       "      <td>11.903290</td>\n",
       "      <td>0.002725</td>\n",
       "      <td>-0.466455</td>\n",
       "    </tr>\n",
       "    <tr>\n",
       "      <th>KadarAir</th>\n",
       "      <td>0.648372</td>\n",
       "      <td>0.626117</td>\n",
       "      <td>0.735849057, 0.824404762</td>\n",
       "      <td>0.094367</td>\n",
       "      <td>8.905149e-03</td>\n",
       "      <td>1.468972</td>\n",
       "      <td>0.878899</td>\n",
       "      <td>0.409927</td>\n",
       "      <td>0.572632</td>\n",
       "      <td>0.726633</td>\n",
       "      <td>0.154001</td>\n",
       "      <td>0.493661</td>\n",
       "      <td>-0.740326</td>\n",
       "    </tr>\n",
       "    <tr>\n",
       "      <th>Keliling</th>\n",
       "      <td>281.479722</td>\n",
       "      <td>280.045500</td>\n",
       "      <td>None</td>\n",
       "      <td>37.335402</td>\n",
       "      <td>1.393932e+03</td>\n",
       "      <td>292.822000</td>\n",
       "      <td>488.837000</td>\n",
       "      <td>197.015000</td>\n",
       "      <td>255.883000</td>\n",
       "      <td>306.062500</td>\n",
       "      <td>50.179500</td>\n",
       "      <td>0.733627</td>\n",
       "      <td>2.272685</td>\n",
       "    </tr>\n",
       "    <tr>\n",
       "      <th>Bulatan</th>\n",
       "      <td>0.761737</td>\n",
       "      <td>0.761288</td>\n",
       "      <td>None</td>\n",
       "      <td>0.061702</td>\n",
       "      <td>3.807194e-03</td>\n",
       "      <td>1.730158</td>\n",
       "      <td>0.904748</td>\n",
       "      <td>0.174590</td>\n",
       "      <td>0.731991</td>\n",
       "      <td>0.796361</td>\n",
       "      <td>0.064370</td>\n",
       "      <td>-3.599237</td>\n",
       "      <td>29.975096</td>\n",
       "    </tr>\n",
       "    <tr>\n",
       "      <th>Ransum</th>\n",
       "      <td>2.150915</td>\n",
       "      <td>2.193599</td>\n",
       "      <td>None</td>\n",
       "      <td>0.249767</td>\n",
       "      <td>6.238350e-02</td>\n",
       "      <td>2.024013</td>\n",
       "      <td>2.464809</td>\n",
       "      <td>1.440796</td>\n",
       "      <td>1.983939</td>\n",
       "      <td>2.381612</td>\n",
       "      <td>0.397673</td>\n",
       "      <td>-0.658188</td>\n",
       "      <td>-0.428656</td>\n",
       "    </tr>\n",
       "  </tbody>\n",
       "</table>\n",
       "</div>"
      ],
      "text/plain": [
       "                    Mean       Median  \\\n",
       "Daerah       4801.246000  4735.000000   \n",
       "SumbuUtama    116.045171   115.405140   \n",
       "SumbuKecil     53.715246    53.731199   \n",
       "Keunikan        0.878764     0.890045   \n",
       "AreaBulatan  4937.048000  4857.000000   \n",
       "Diameter       77.771158    77.645277   \n",
       "KadarAir        0.648372     0.626117   \n",
       "Keliling      281.479722   280.045500   \n",
       "Bulatan         0.761737     0.761288   \n",
       "Ransum          2.150915     2.193599   \n",
       "\n",
       "                                                         Modus  Std.Deviasi  \\\n",
       "Daerah                                  3992, 4881, 5642, 6083   986.395491   \n",
       "SumbuUtama                                                None    18.282626   \n",
       "SumbuKecil                                                None     4.071075   \n",
       "Keunikan                                                  None     0.036586   \n",
       "AreaBulatan                                         3802, 4913  1011.696255   \n",
       "Diameter     71.29356396, 78.83325579, 84.75622403, 88.0063...     8.056867   \n",
       "KadarAir                              0.735849057, 0.824404762     0.094367   \n",
       "Keliling                                                  None    37.335402   \n",
       "Bulatan                                                   None     0.061702   \n",
       "Ransum                                                    None     0.249767   \n",
       "\n",
       "                 Variansi        Range     Maksimum      Minimum           Q1  \\\n",
       "Daerah       9.729761e+05  4932.000000  7453.000000  2522.000000  4042.750000   \n",
       "SumbuUtama   3.342544e+02   154.795469   227.928583    74.133114   104.116098   \n",
       "SumbuKecil   1.657365e+01    30.071182    68.977700    39.906517    51.193576   \n",
       "Keunikan     1.338528e-03     1.194085     0.914001     0.719916     0.863676   \n",
       "AreaBulatan  1.023529e+06  5142.000000  7720.000000  2579.000000  4170.250000   \n",
       "Diameter     6.491311e+01    41.747172    97.413830    56.666658    71.745308   \n",
       "KadarAir     8.905149e-03     1.468972     0.878899     0.409927     0.572632   \n",
       "Keliling     1.393932e+03   292.822000   488.837000   197.015000   255.883000   \n",
       "Bulatan      3.807194e-03     1.730158     0.904748     0.174590     0.731991   \n",
       "Ransum       6.238350e-02     2.024013     2.464809     1.440796     1.983939   \n",
       "\n",
       "                      Q3          IQR  Skewness   Kurtosis  \n",
       "Daerah       5495.500000  1452.750000  0.238144  -0.434631  \n",
       "SumbuUtama    129.046792    24.930694  0.761529   4.330534  \n",
       "SumbuKecil     56.325158     5.131582 -0.010828   0.475568  \n",
       "Keunikan        0.907578     0.043902 -1.623472   2.917256  \n",
       "AreaBulatan  5654.250000  1484.000000  0.257560  -0.409685  \n",
       "Diameter       83.648598    11.903290  0.002725  -0.466455  \n",
       "KadarAir        0.726633     0.154001  0.493661  -0.740326  \n",
       "Keliling      306.062500    50.179500  0.733627   2.272685  \n",
       "Bulatan         0.796361     0.064370 -3.599237  29.975096  \n",
       "Ransum          2.381612     0.397673 -0.658188  -0.428656  "
      ]
     },
     "execution_count": 3,
     "metadata": {},
     "output_type": "execute_result"
    }
   ],
   "source": [
    "# Soal 1\n",
    "descGandum = gandum.drop(columns = [\"id\", \"Kelas\"]) # Drop kolom id dan Kelas\n",
    "statistik = pandas.DataFrame() # Membuat DataFrame baru\n",
    "statistik[\"Mean\"] = descGandum.mean() # Mean\n",
    "statistik[\"Median\"] = descGandum.median() # Median\n",
    "\n",
    "# Modus tiap kolom\n",
    "mode = [] # Kolom \"Modus\"\n",
    "for column in descGandum.columns:\n",
    "    if (descGandum[column].mode().dropna().count() == gandum[\"id\"].count()):\n",
    "        mode.append(\"None\") # Jika tidak terdapat modus (seluruh data unik)\n",
    "        continue\n",
    "    mode.append(descGandum[column].mode().astype(str).str.cat(sep = ', ')) # Modus tiap kolom\n",
    "\n",
    "statistik[\"Modus\"] = mode # Modus (diperlihatkan seluruh modus)\n",
    "statistik[\"Std.Deviasi\"] = descGandum.std() # Standar Deviasi\n",
    "statistik[\"Variansi\"] = descGandum.var() # Variansi\n",
    "statistik[\"Range\"] = descGandum.max() - descGandum.min() + 1 # Range\n",
    "statistik[\"Maksimum\"] = descGandum.max() # Maksimum\n",
    "statistik[\"Minimum\"] = descGandum.min() # Minimum\n",
    "statistik[\"Q1\"] = descGandum.quantile(.25) # Quartil pertama\n",
    "statistik[\"Q3\"] = descGandum.quantile(.75) # Quartil ketiga\n",
    "statistik[\"IQR\"] = statistik[\"Q3\"] - statistik[\"Q1\"] # Interquartile Range (IQR)\n",
    "statistik[\"Skewness\"] = descGandum.skew() # Skewness\n",
    "statistik[\"Kurtosis\"] = descGandum.kurtosis() # Kurtosis\n",
    "statistik # Memperlihatkan DataFrame 'statistik'"
   ]
  },
  {
   "cell_type": "code",
   "execution_count": 4,
   "metadata": {},
   "outputs": [],
   "source": [
    "#notes\n",
    "# mode1 = descGandum[\"Daerah\"].mode().astype(str).str.cat(sep = ', ') # Modus kolom Daerah\n",
    "# mode2 = descGandum[\"SumbuUtama\"].mode().astype(str).str.cat(sep = ', ') # Modus kolom SumbuUtama\n",
    "# mode3 = descGandum[\"SumbuKecil\"].mode().astype(str).str.cat(sep = ', ') # Modus kolom SumbuKecil\n",
    "# mode4 = descGandum[\"Keunikan\"].mode().astype(str).str.cat(sep = ', ') # Modus kolom Keunikan\n",
    "# mode5 = descGandum[\"AreaBulatan\"].mode().astype(str).str.cat(sep = ', ') # Modus kolom AreaBulatan\n",
    "# mode6 = descGandum[\"Diameter\"].mode().astype(str).str.cat(sep = ', ') # Modus kolom Diameter\n",
    "# mode7 = descGandum[\"KadarAir\"].mode().astype(str).str.cat(sep = ', ') # Modus kolom KadarAir\n",
    "# mode8 = descGandum[\"Keliling\"].mode().astype(str).str.cat(sep = ', ') # Modus kolom Keliling\n",
    "# mode9 = descGandum[\"Bulatan\"].mode().astype(str).str.cat(sep = ', ') # Modus kolom Bulatan\n",
    "# mode10 = descGandum[\"Ransum\"].mode().astype(str).str.cat(sep = ', ') # Modus kolom Ransum\n",
    "\n",
    "# statistik[\"Modus\"] = descGandum.mode(axis = 0, numeric_only = True).dropna().iloc[0] # Modus\n",
    "# statistik[\"Modus\"] = [mode1, mode2, mode3, mode4, mode5, mode6, mode7, mode8, mode9, mode10] "
   ]
  },
  {
   "cell_type": "markdown",
   "metadata": {},
   "source": [
    "### Soal2\n",
    "2. Membuat Visualisasi plot distribusi, dalam bentuk histogram dan boxplot untuk setiap kolom numerik. Berikan uraian penjelasan kondisi setiap kolom berdasarkan kedua plot tersebut.\n",
    "\n",
    "### TODO Soal2 : Deskripsi"
   ]
  },
  {
   "cell_type": "markdown",
   "metadata": {},
   "source": [
    "#### Kolom \"Daerah\"\n",
    "\n",
    "Penjelasan:\n",
    "\n",
    "Dapat terlihat pada histogram plot kolom daerah, tabel tidak terdistribusi normal dan dari Box plot dapat terlihat tidak terdapat outlier untuk kolom \"Daerah\""
   ]
  },
  {
   "cell_type": "code",
   "execution_count": 5,
   "metadata": {},
   "outputs": [
    {
     "data": {
      "text/plain": [
       "<AxesSubplot:ylabel='Frequency'>"
      ]
     },
     "execution_count": 5,
     "metadata": {},
     "output_type": "execute_result"
    },
    {
     "data": {
      "image/png": "[encoded data removed]",
      "text/plain": [
       "<Figure size 432x288 with 1 Axes>"
      ]
     },
     "metadata": {
      "needs_background": "light"
     },
     "output_type": "display_data"
    }
   ],
   "source": [
    "# Histogram Plot Kolom Daerah (Histogram)\n",
    "gandum[\"Daerah\"].plot(kind = 'hist')"
   ]
  },
  {
   "cell_type": "code",
   "execution_count": 6,
   "metadata": {},
   "outputs": [
    {
     "data": {
      "text/plain": [
       "<AxesSubplot:>"
      ]
     },
     "execution_count": 6,
     "metadata": {},
     "output_type": "execute_result"
    },
    {
     "data": {
      "image/png": "[encoded data removed]",
      "text/plain": [
       "<Figure size 432x288 with 1 Axes>"
      ]
     },
     "metadata": {
      "needs_background": "light"
     },
     "output_type": "display_data"
    }
   ],
   "source": [
    "# Histogram Plot Kolom Daerah (Box)\n",
    "gandum[\"Daerah\"].plot(kind = 'box')"
   ]
  },
  {
   "cell_type": "code",
   "execution_count": 7,
   "metadata": {
    "scrolled": true
   },
   "outputs": [
    {
     "data": {
      "text/plain": [
       "0.23814408738280812"
      ]
     },
     "execution_count": 7,
     "metadata": {},
     "output_type": "execute_result"
    }
   ],
   "source": [
    "# Skew kolom \"Daerah\"\n",
    "gandum[\"Daerah\"].skew()"
   ]
  },
  {
   "cell_type": "code",
   "execution_count": 8,
   "metadata": {},
   "outputs": [
    {
     "data": {
      "text/plain": [
       "-0.4346305340273977"
      ]
     },
     "execution_count": 8,
     "metadata": {},
     "output_type": "execute_result"
    }
   ],
   "source": [
    "# Kurtosis kolom \"Daerah\", normal = 0\n",
    "gandum[\"Daerah\"].kurtosis()"
   ]
  },
  {
   "cell_type": "markdown",
   "metadata": {},
   "source": [
    "#### Kolom \"Sumbu Utama\"\n",
    "\n",
    "Penjelasan:\n",
    "\n",
    "Dapat terlihat pada histogram plot kolom sumbu utama, tabel tidak terdistribusi normal karena tidak tersebar secara merata dan dari Box plot dapat terlihat terdapat outlier yang melebihi batas atas dari box plot tersebut dengan nilai 220"
   ]
  },
  {
   "cell_type": "code",
   "execution_count": 9,
   "metadata": {},
   "outputs": [
    {
     "data": {
      "text/plain": [
       "<AxesSubplot:ylabel='Frequency'>"
      ]
     },
     "execution_count": 9,
     "metadata": {},
     "output_type": "execute_result"
    },
    {
     "data": {
      "image/png": "[encoded data removed]",
      "text/plain": [
       "<Figure size 432x288 with 1 Axes>"
      ]
     },
     "metadata": {
      "needs_background": "light"
     },
     "output_type": "display_data"
    }
   ],
   "source": [
    "# Histogram Plot Kolom Sumbu Utama (Histogram)\n",
    "gandum[\"SumbuUtama\"].plot(kind = 'hist')"
   ]
  },
  {
   "cell_type": "code",
   "execution_count": 10,
   "metadata": {
    "scrolled": true
   },
   "outputs": [
    {
     "data": {
      "text/plain": [
       "<AxesSubplot:>"
      ]
     },
     "execution_count": 10,
     "metadata": {},
     "output_type": "execute_result"
    },
    {
     "data": {
      "image/png": "[encoded data removed]",
      "text/plain": [
       "<Figure size 432x288 with 1 Axes>"
      ]
     },
     "metadata": {
      "needs_background": "light"
     },
     "output_type": "display_data"
    }
   ],
   "source": [
    "# Histogram Plot Kolom Sumbu Utama (Box)\n",
    "gandum[\"SumbuUtama\"].plot(kind = 'box')"
   ]
  },
  {
   "cell_type": "code",
   "execution_count": 11,
   "metadata": {
    "scrolled": true
   },
   "outputs": [
    {
     "data": {
      "text/plain": [
       "0.7615287378076652"
      ]
     },
     "execution_count": 11,
     "metadata": {},
     "output_type": "execute_result"
    }
   ],
   "source": [
    "# Skew kolom \"Sumbu Utama\"\n",
    "gandum[\"SumbuUtama\"].skew()"
   ]
  },
  {
   "cell_type": "code",
   "execution_count": 12,
   "metadata": {},
   "outputs": [
    {
     "data": {
      "text/plain": [
       "4.33053354843697"
      ]
     },
     "execution_count": 12,
     "metadata": {},
     "output_type": "execute_result"
    }
   ],
   "source": [
    "# Kurtosis kolom \"Sumbu Utama\"\n",
    "gandum[\"SumbuUtama\"].kurtosis()"
   ]
  },
  {
   "cell_type": "markdown",
   "metadata": {},
   "source": [
    "#### Kolom \"Sumbu Kecil\"\n",
    "\n",
    "Penjelasan:\n",
    "\n",
    "Dapat terlihat pada histogram plot kolom sumbu kecil, tabel terdistribusi secara normal karena terdistribusi secara merata dan dari Box plot dapat terlihat terdapat beberapa outlier yang melebihi batas atas dan terdapat juga yang kurang dari batas bawah"
   ]
  },
  {
   "cell_type": "code",
   "execution_count": 13,
   "metadata": {},
   "outputs": [
    {
     "data": {
      "text/plain": [
       "<AxesSubplot:ylabel='Frequency'>"
      ]
     },
     "execution_count": 13,
     "metadata": {},
     "output_type": "execute_result"
    },
    {
     "data": {
      "image/png": "[encoded data removed]",
      "text/plain": [
       "<Figure size 432x288 with 1 Axes>"
      ]
     },
     "metadata": {
      "needs_background": "light"
     },
     "output_type": "display_data"
    }
   ],
   "source": [
    "# Histogram Plot Kolom Sumbu Kecil (Histogram)\n",
    "gandum[\"SumbuKecil\"].plot(kind = 'hist')"
   ]
  },
  {
   "cell_type": "code",
   "execution_count": 14,
   "metadata": {
    "scrolled": true
   },
   "outputs": [
    {
     "data": {
      "text/plain": [
       "<AxesSubplot:>"
      ]
     },
     "execution_count": 14,
     "metadata": {},
     "output_type": "execute_result"
    },
    {
     "data": {
      "image/png": "[encoded data removed]",
      "text/plain": [
       "<Figure size 432x288 with 1 Axes>"
      ]
     },
     "metadata": {
      "needs_background": "light"
     },
     "output_type": "display_data"
    }
   ],
   "source": [
    "# Histogram Plot Kolom Sumbu Kecil (Box)\n",
    "gandum[\"SumbuKecil\"].plot(kind = 'box')"
   ]
  },
  {
   "cell_type": "code",
   "execution_count": 15,
   "metadata": {
    "scrolled": true
   },
   "outputs": [
    {
     "data": {
      "text/plain": [
       "-0.010828051555611359"
      ]
     },
     "execution_count": 15,
     "metadata": {},
     "output_type": "execute_result"
    }
   ],
   "source": [
    "# Skew kolom \"Sumbu Kecil\"\n",
    "gandum[\"SumbuKecil\"].skew()"
   ]
  },
  {
   "cell_type": "code",
   "execution_count": 16,
   "metadata": {},
   "outputs": [
    {
     "data": {
      "text/plain": [
       "0.475568450438137"
      ]
     },
     "execution_count": 16,
     "metadata": {},
     "output_type": "execute_result"
    }
   ],
   "source": [
    "# Kurtosis kolom \"Sumbu Kecil\", normal = 0\n",
    "gandum[\"SumbuKecil\"].kurtosis()"
   ]
  },
  {
   "cell_type": "markdown",
   "metadata": {},
   "source": [
    "#### Kolom \"Keunikan\"\n",
    "\n",
    "Penjelasan:\n",
    "\n",
    "Dapat terlihat pada histogram plot kolom keunikan, tabel tidak terdistribusi normal karena terlihat dengan jelas bahwa plot histogram skew negatif dan dari Box plot dapat terlihat terdapat beberapa outlier yang kurang dari batas bawah"
   ]
  },
  {
   "cell_type": "code",
   "execution_count": 17,
   "metadata": {
    "scrolled": true
   },
   "outputs": [
    {
     "data": {
      "text/plain": [
       "<AxesSubplot:ylabel='Frequency'>"
      ]
     },
     "execution_count": 17,
     "metadata": {},
     "output_type": "execute_result"
    },
    {
     "data": {
      "image/png": "[encoded data removed]",
      "text/plain": [
       "<Figure size 432x288 with 1 Axes>"
      ]
     },
     "metadata": {
      "needs_background": "light"
     },
     "output_type": "display_data"
    }
   ],
   "source": [
    "# Histogram Plot Kolom Keunikan (Histogram)\n",
    "gandum[\"Keunikan\"].plot(kind = 'hist')"
   ]
  },
  {
   "cell_type": "code",
   "execution_count": 18,
   "metadata": {
    "scrolled": true
   },
   "outputs": [
    {
     "data": {
      "text/plain": [
       "<AxesSubplot:>"
      ]
     },
     "execution_count": 18,
     "metadata": {},
     "output_type": "execute_result"
    },
    {
     "data": {
      "image/png": "[encoded data removed]",
      "text/plain": [
       "<Figure size 432x288 with 1 Axes>"
      ]
     },
     "metadata": {
      "needs_background": "light"
     },
     "output_type": "display_data"
    }
   ],
   "source": [
    "# Histogram Plot Kolom Keunikan (Box)\n",
    "gandum[\"Keunikan\"].plot(kind = 'box')"
   ]
  },
  {
   "cell_type": "code",
   "execution_count": 19,
   "metadata": {
    "scrolled": true
   },
   "outputs": [
    {
     "data": {
      "text/plain": [
       "-1.6234718222806501"
      ]
     },
     "execution_count": 19,
     "metadata": {},
     "output_type": "execute_result"
    }
   ],
   "source": [
    "# Skew kolom \"Keunikan\"\n",
    "gandum[\"Keunikan\"].skew()"
   ]
  },
  {
   "cell_type": "code",
   "execution_count": 20,
   "metadata": {},
   "outputs": [
    {
     "data": {
      "text/plain": [
       "2.917255925694391"
      ]
     },
     "execution_count": 20,
     "metadata": {},
     "output_type": "execute_result"
    }
   ],
   "source": [
    "# Kurtosis kolom \"Keunikan\", normal = 0\n",
    "gandum[\"Keunikan\"].kurtosis()"
   ]
  },
  {
   "cell_type": "markdown",
   "metadata": {},
   "source": [
    "#### Kolom \"Area Bulatan\"\n",
    "\n",
    "Penjelasan:\n",
    "\n",
    "Dapat terlihat pada histogram plot kolom area bulatan, tabel tidak terdistribusi normal karena terlihat tidak dan bentuknya tidak simetris seperti \"bell curve\" terdistribusi secara merata dan dari Box plot dapat terlihat tidak terdapat outlier pada pendistribusian data"
   ]
  },
  {
   "cell_type": "code",
   "execution_count": 21,
   "metadata": {
    "scrolled": true
   },
   "outputs": [
    {
     "data": {
      "text/plain": [
       "<AxesSubplot:ylabel='Frequency'>"
      ]
     },
     "execution_count": 21,
     "metadata": {},
     "output_type": "execute_result"
    },
    {
     "data": {
      "image/png": "[encoded data removed]",
      "text/plain": [
       "<Figure size 432x288 with 1 Axes>"
      ]
     },
     "metadata": {
      "needs_background": "light"
     },
     "output_type": "display_data"
    }
   ],
   "source": [
    "# Histogram Plot Kolom Area Bulatan (Histogram)\n",
    "gandum[\"AreaBulatan\"].plot(kind = 'hist')"
   ]
  },
  {
   "cell_type": "code",
   "execution_count": 22,
   "metadata": {
    "scrolled": true
   },
   "outputs": [
    {
     "data": {
      "text/plain": [
       "<AxesSubplot:>"
      ]
     },
     "execution_count": 22,
     "metadata": {},
     "output_type": "execute_result"
    },
    {
     "data": {
      "image/png": "[encoded data removed]",
      "text/plain": [
       "<Figure size 432x288 with 1 Axes>"
      ]
     },
     "metadata": {
      "needs_background": "light"
     },
     "output_type": "display_data"
    }
   ],
   "source": [
    "# Histogram Plot Kolom Area Bulatan (Box)\n",
    "gandum[\"AreaBulatan\"].plot(kind = 'box')"
   ]
  },
  {
   "cell_type": "code",
   "execution_count": 23,
   "metadata": {},
   "outputs": [
    {
     "data": {
      "text/plain": [
       "0.2575600053152032"
      ]
     },
     "execution_count": 23,
     "metadata": {},
     "output_type": "execute_result"
    }
   ],
   "source": [
    "# Skew kolom \"Area Bulatan\"\n",
    "gandum[\"AreaBulatan\"].skew()"
   ]
  },
  {
   "cell_type": "code",
   "execution_count": 24,
   "metadata": {},
   "outputs": [
    {
     "data": {
      "text/plain": [
       "-0.40968492037366033"
      ]
     },
     "execution_count": 24,
     "metadata": {},
     "output_type": "execute_result"
    }
   ],
   "source": [
    "# Kurtosis kolom \"Area Bulatan\", normal = 0\n",
    "gandum[\"AreaBulatan\"].kurtosis()"
   ]
  },
  {
   "cell_type": "markdown",
   "metadata": {},
   "source": [
    "#### Kolom \"Diameter\"\n",
    "\n",
    "Penjelasan:\n",
    "\n",
    "Dapat terlihat pada histogram plot kolom diameter, tabel terlihat terdistribusi normal karena simestris dan berbentuk seperti \"bell curve\", sedangkan untuk box plot tidak terlihat terdapat outliers."
   ]
  },
  {
   "cell_type": "code",
   "execution_count": 25,
   "metadata": {
    "scrolled": true
   },
   "outputs": [
    {
     "data": {
      "text/plain": [
       "<AxesSubplot:ylabel='Frequency'>"
      ]
     },
     "execution_count": 25,
     "metadata": {},
     "output_type": "execute_result"
    },
    {
     "data": {
      "image/png": "[encoded data removed]",
      "text/plain": [
       "<Figure size 432x288 with 1 Axes>"
      ]
     },
     "metadata": {
      "needs_background": "light"
     },
     "output_type": "display_data"
    }
   ],
   "source": [
    "# Histogram Plot Kolom Diameter (Histogram)\n",
    "gandum[\"Diameter\"].plot(kind = 'hist')"
   ]
  },
  {
   "cell_type": "code",
   "execution_count": 26,
   "metadata": {
    "scrolled": true
   },
   "outputs": [
    {
     "data": {
      "text/plain": [
       "<AxesSubplot:>"
      ]
     },
     "execution_count": 26,
     "metadata": {},
     "output_type": "execute_result"
    },
    {
     "data": {
      "image/png": "[encoded data removed]",
      "text/plain": [
       "<Figure size 432x288 with 1 Axes>"
      ]
     },
     "metadata": {
      "needs_background": "light"
     },
     "output_type": "display_data"
    }
   ],
   "source": [
    "# Histogram Plot Kolom Diameter (Box)\n",
    "gandum[\"Diameter\"].plot(kind = 'box')"
   ]
  },
  {
   "cell_type": "code",
   "execution_count": 27,
   "metadata": {},
   "outputs": [
    {
     "data": {
      "text/plain": [
       "0.002724966865193717"
      ]
     },
     "execution_count": 27,
     "metadata": {},
     "output_type": "execute_result"
    }
   ],
   "source": [
    "# Skew kolom \"Diameter\"\n",
    "gandum[\"Diameter\"].skew()"
   ]
  },
  {
   "cell_type": "code",
   "execution_count": 28,
   "metadata": {},
   "outputs": [
    {
     "data": {
      "text/plain": [
       "-0.46645451303121455"
      ]
     },
     "execution_count": 28,
     "metadata": {},
     "output_type": "execute_result"
    }
   ],
   "source": [
    "# Kurtosis kolom \"Diameter\", normal = 0\n",
    "gandum[\"Diameter\"].kurtosis()"
   ]
  },
  {
   "cell_type": "markdown",
   "metadata": {},
   "source": [
    "#### Kolom \"Kadar Air\"\n",
    "\n",
    "Penjelasan:\n",
    "\n",
    "Dapat terlihat pada histogram plot kolom kadar air, tabel tidak terdistribusi normal dan dari box plot tidak terlihat terdapat outliers."
   ]
  },
  {
   "cell_type": "code",
   "execution_count": 29,
   "metadata": {
    "scrolled": true
   },
   "outputs": [
    {
     "data": {
      "text/plain": [
       "<AxesSubplot:ylabel='Frequency'>"
      ]
     },
     "execution_count": 29,
     "metadata": {},
     "output_type": "execute_result"
    },
    {
     "data": {
      "image/png": "[encoded data removed]",
      "text/plain": [
       "<Figure size 432x288 with 1 Axes>"
      ]
     },
     "metadata": {
      "needs_background": "light"
     },
     "output_type": "display_data"
    }
   ],
   "source": [
    "# Histogram Plot Kolom Kadar Air (Histogram)\n",
    "gandum[\"KadarAir\"].plot(kind = 'hist')"
   ]
  },
  {
   "cell_type": "code",
   "execution_count": 30,
   "metadata": {
    "scrolled": false
   },
   "outputs": [
    {
     "data": {
      "text/plain": [
       "<AxesSubplot:>"
      ]
     },
     "execution_count": 30,
     "metadata": {},
     "output_type": "execute_result"
    },
    {
     "data": {
      "image/png": "[encoded data removed]",
      "text/plain": [
       "<Figure size 432x288 with 1 Axes>"
      ]
     },
     "metadata": {
      "needs_background": "light"
     },
     "output_type": "display_data"
    }
   ],
   "source": [
    "# Histogram Plot Kolom Kadar Air (Box)\n",
    "gandum[\"KadarAir\"].plot(kind = 'box')"
   ]
  },
  {
   "cell_type": "code",
   "execution_count": 31,
   "metadata": {},
   "outputs": [
    {
     "data": {
      "text/plain": [
       "0.49366131797330265"
      ]
     },
     "execution_count": 31,
     "metadata": {},
     "output_type": "execute_result"
    }
   ],
   "source": [
    "# Skew kolom \"Kadar Air\"\n",
    "gandum[\"KadarAir\"].skew()"
   ]
  },
  {
   "cell_type": "code",
   "execution_count": 32,
   "metadata": {},
   "outputs": [
    {
     "data": {
      "text/plain": [
       "-0.7403261705867821"
      ]
     },
     "execution_count": 32,
     "metadata": {},
     "output_type": "execute_result"
    }
   ],
   "source": [
    "# Kurtosis kolom \"Kadar Air\", normal = 0\n",
    "gandum[\"KadarAir\"].kurtosis()"
   ]
  },
  {
   "cell_type": "markdown",
   "metadata": {},
   "source": [
    "#### Kolom \"Keliling\"\n",
    "\n",
    "Penjelasan:\n",
    "\n",
    "Dapat terlihat pada histogram plot kolom keliling, tabel tidak terdistribusi normal karena tidak berbentuk seperti bell curve dan skew positif dan dari box plot dapat terlihat terdapat beberapa outlier yang melebihi batas atas"
   ]
  },
  {
   "cell_type": "code",
   "execution_count": 33,
   "metadata": {
    "scrolled": true
   },
   "outputs": [
    {
     "data": {
      "text/plain": [
       "<AxesSubplot:ylabel='Frequency'>"
      ]
     },
     "execution_count": 33,
     "metadata": {},
     "output_type": "execute_result"
    },
    {
     "data": {
      "image/png": "[encoded data removed]",
      "text/plain": [
       "<Figure size 432x288 with 1 Axes>"
      ]
     },
     "metadata": {
      "needs_background": "light"
     },
     "output_type": "display_data"
    }
   ],
   "source": [
    "# Histogram Plot Kolom Keliling (Histogram)\n",
    "gandum[\"Keliling\"].plot(kind = 'hist')"
   ]
  },
  {
   "cell_type": "code",
   "execution_count": 34,
   "metadata": {
    "scrolled": true
   },
   "outputs": [
    {
     "data": {
      "text/plain": [
       "<AxesSubplot:>"
      ]
     },
     "execution_count": 34,
     "metadata": {},
     "output_type": "execute_result"
    },
    {
     "data": {
      "image/png": "[encoded data removed]",
      "text/plain": [
       "<Figure size 432x288 with 1 Axes>"
      ]
     },
     "metadata": {
      "needs_background": "light"
     },
     "output_type": "display_data"
    }
   ],
   "source": [
    "# Histogram Plot Kolom Keliling (Box)\n",
    "gandum[\"Keliling\"].plot(kind = 'box')"
   ]
  },
  {
   "cell_type": "code",
   "execution_count": 35,
   "metadata": {},
   "outputs": [
    {
     "data": {
      "text/plain": [
       "0.7336269072005543"
      ]
     },
     "execution_count": 35,
     "metadata": {},
     "output_type": "execute_result"
    }
   ],
   "source": [
    "# Skew kolom \"Keliling\"\n",
    "gandum[\"Keliling\"].skew()"
   ]
  },
  {
   "cell_type": "code",
   "execution_count": 36,
   "metadata": {},
   "outputs": [
    {
     "data": {
      "text/plain": [
       "2.272684731245573"
      ]
     },
     "execution_count": 36,
     "metadata": {},
     "output_type": "execute_result"
    }
   ],
   "source": [
    "# Kurtosis kolom \"Keliling\", normal = 0\n",
    "gandum[\"Keliling\"].kurtosis()"
   ]
  },
  {
   "cell_type": "markdown",
   "metadata": {},
   "source": [
    "#### Kolom \"Bulatan\"\n",
    "\n",
    "Penjelasan:\n",
    "\n",
    "Dapat terlihat pada histogram plot kolom bulatan, tabel tidak terdistribusi normal karena terlihat skew negatif dan dari box plot dapat terlihat terdapat banyak outlier pada batas atas dan batas bawah"
   ]
  },
  {
   "cell_type": "code",
   "execution_count": 37,
   "metadata": {
    "scrolled": true
   },
   "outputs": [
    {
     "data": {
      "text/plain": [
       "<AxesSubplot:ylabel='Frequency'>"
      ]
     },
     "execution_count": 37,
     "metadata": {},
     "output_type": "execute_result"
    },
    {
     "data": {
      "image/png": "[encoded data removed]",
      "text/plain": [
       "<Figure size 432x288 with 1 Axes>"
      ]
     },
     "metadata": {
      "needs_background": "light"
     },
     "output_type": "display_data"
    }
   ],
   "source": [
    "# Histogram Plot Kolom Bulatan (Histogram)\n",
    "gandum[\"Bulatan\"].plot(kind = 'hist')"
   ]
  },
  {
   "cell_type": "code",
   "execution_count": 38,
   "metadata": {
    "scrolled": true
   },
   "outputs": [
    {
     "data": {
      "text/plain": [
       "<AxesSubplot:>"
      ]
     },
     "execution_count": 38,
     "metadata": {},
     "output_type": "execute_result"
    },
    {
     "data": {
      "image/png": "[encoded data removed]",
      "text/plain": [
       "<Figure size 432x288 with 1 Axes>"
      ]
     },
     "metadata": {
      "needs_background": "light"
     },
     "output_type": "display_data"
    }
   ],
   "source": [
    "# Histogram Plot Kolom Bulatan (Box)\n",
    "gandum[\"Bulatan\"].plot(kind = 'box')"
   ]
  },
  {
   "cell_type": "code",
   "execution_count": 39,
   "metadata": {},
   "outputs": [
    {
     "data": {
      "text/plain": [
       "-3.599236766361642"
      ]
     },
     "execution_count": 39,
     "metadata": {},
     "output_type": "execute_result"
    }
   ],
   "source": [
    "# Skew kolom \"Bulatan\"\n",
    "gandum[\"Bulatan\"].skew()"
   ]
  },
  {
   "cell_type": "code",
   "execution_count": 40,
   "metadata": {},
   "outputs": [
    {
     "data": {
      "text/plain": [
       "29.975095904630063"
      ]
     },
     "execution_count": 40,
     "metadata": {},
     "output_type": "execute_result"
    }
   ],
   "source": [
    "# Kurtosis kolom \"Bulatan\", normal = 0\n",
    "gandum[\"Bulatan\"].kurtosis()"
   ]
  },
  {
   "cell_type": "markdown",
   "metadata": {},
   "source": [
    "#### Kolom \"Ransum\"\n",
    "\n",
    "Penjelasan:\n",
    "\n",
    "Dapat terlihat pada histogram plot kolom ransum, tabel tidak terdistribusi normal karena skew negatif dan dari box plot tidak dapat terlihat terdapatnya outlier"
   ]
  },
  {
   "cell_type": "code",
   "execution_count": 41,
   "metadata": {
    "scrolled": true
   },
   "outputs": [
    {
     "data": {
      "text/plain": [
       "<AxesSubplot:ylabel='Frequency'>"
      ]
     },
     "execution_count": 41,
     "metadata": {},
     "output_type": "execute_result"
    },
    {
     "data": {
      "image/png": "[encoded data removed]",
      "text/plain": [
       "<Figure size 432x288 with 1 Axes>"
      ]
     },
     "metadata": {
      "needs_background": "light"
     },
     "output_type": "display_data"
    }
   ],
   "source": [
    "# Histogram Plot Kolom Ransum (Histogram)\n",
    "gandum[\"Ransum\"].plot(kind = 'hist')"
   ]
  },
  {
   "cell_type": "code",
   "execution_count": 42,
   "metadata": {
    "scrolled": false
   },
   "outputs": [
    {
     "data": {
      "text/plain": [
       "<AxesSubplot:>"
      ]
     },
     "execution_count": 42,
     "metadata": {},
     "output_type": "execute_result"
    },
    {
     "data": {
      "image/png": "[encoded data removed]",
      "text/plain": [
       "<Figure size 432x288 with 1 Axes>"
      ]
     },
     "metadata": {
      "needs_background": "light"
     },
     "output_type": "display_data"
    }
   ],
   "source": [
    "# Histogram Plot Kolom Ransum (Box)\n",
    "gandum[\"Ransum\"].plot(kind = 'box')"
   ]
  },
  {
   "cell_type": "code",
   "execution_count": 43,
   "metadata": {},
   "outputs": [
    {
     "data": {
      "text/plain": [
       "-0.6581880925333655"
      ]
     },
     "execution_count": 43,
     "metadata": {},
     "output_type": "execute_result"
    }
   ],
   "source": [
    "# Skew kolom \"Ransum\"\n",
    "gandum[\"Ransum\"].skew()"
   ]
  },
  {
   "cell_type": "code",
   "execution_count": 44,
   "metadata": {},
   "outputs": [
    {
     "data": {
      "text/plain": [
       "-0.4286557930626147"
      ]
     },
     "execution_count": 44,
     "metadata": {},
     "output_type": "execute_result"
    }
   ],
   "source": [
    "# Kurtosis kolom \"Ransum\", normal = 0\n",
    "gandum[\"Ransum\"].kurtosis()"
   ]
  },
  {
   "cell_type": "markdown",
   "metadata": {},
   "source": [
    "### Soal3\n",
    "3. Menentukan setiap kolom numerik berdistribusi normal atau tidak. Gunakan normality test yang dikaitkan dengan histogram plot.\n"
   ]
  },
  {
   "cell_type": "code",
   "execution_count": 45,
   "metadata": {},
   "outputs": [],
   "source": [
    "# Normality Test Function\n",
    "def normality_test(df):\n",
    "    daerah_stat, p = shapiro(df)\n",
    "    alpha = 0.05\n",
    "    print(\"p-valuenya adalah\", end=\" \")\n",
    "    if (p > alpha):\n",
    "        print(str(p), \">\", str(alpha) + \". Maka dari itu, sample berdistribusi normal\")\n",
    "    else:\n",
    "        print(str(p), \"<\", str(alpha) + \". Maka dari itu, sample tidak berdistribusi normal\")"
   ]
  },
  {
   "cell_type": "markdown",
   "metadata": {},
   "source": [
    "#### Hasil Tes Distribusi Normal \"Daerah\""
   ]
  },
  {
   "cell_type": "code",
   "execution_count": 46,
   "metadata": {},
   "outputs": [
    {
     "name": "stdout",
     "output_type": "stream",
     "text": [
      "p-valuenya adalah 0.003270698245614767 < 0.05. Maka dari itu, sample tidak berdistribusi normal\n"
     ]
    }
   ],
   "source": [
    "normality_test(gandum[\"Daerah\"])"
   ]
  },
  {
   "cell_type": "markdown",
   "metadata": {},
   "source": [
    "#### Hasil Tes Distribusi Normal \"SumbuUtama\""
   ]
  },
  {
   "cell_type": "code",
   "execution_count": 47,
   "metadata": {},
   "outputs": [
    {
     "name": "stdout",
     "output_type": "stream",
     "text": [
      "p-valuenya adalah 9.236201213569384e-12 < 0.05. Maka dari itu, sample tidak berdistribusi normal\n"
     ]
    }
   ],
   "source": [
    "normality_test(gandum[\"SumbuUtama\"])"
   ]
  },
  {
   "cell_type": "markdown",
   "metadata": {},
   "source": [
    "#### Hasil Tes Distribusi Normal \"SumbuKecil\""
   ]
  },
  {
   "cell_type": "code",
   "execution_count": 48,
   "metadata": {},
   "outputs": [
    {
     "name": "stdout",
     "output_type": "stream",
     "text": [
      "p-valuenya adalah 0.4234558641910553 > 0.05. Maka dari itu, sample berdistribusi normal\n"
     ]
    }
   ],
   "source": [
    "normality_test(gandum[\"SumbuKecil\"])"
   ]
  },
  {
   "cell_type": "markdown",
   "metadata": {},
   "source": [
    "#### Hasil Tes Distribusi Normal \"Keunikan\""
   ]
  },
  {
   "cell_type": "code",
   "execution_count": 49,
   "metadata": {},
   "outputs": [
    {
     "name": "stdout",
     "output_type": "stream",
     "text": [
      "p-valuenya adalah 1.3151663082081454e-22 < 0.05. Maka dari itu, sample tidak berdistribusi normal\n"
     ]
    }
   ],
   "source": [
    "normality_test(gandum[\"Keunikan\"])"
   ]
  },
  {
   "cell_type": "markdown",
   "metadata": {},
   "source": [
    "#### Hasil Tes Distribusi Normal \"AreaBulatan\""
   ]
  },
  {
   "cell_type": "code",
   "execution_count": 50,
   "metadata": {},
   "outputs": [
    {
     "name": "stdout",
     "output_type": "stream",
     "text": [
      "p-valuenya adalah 0.0024847122840583324 < 0.05. Maka dari itu, sample tidak berdistribusi normal\n"
     ]
    }
   ],
   "source": [
    "normality_test(gandum[\"AreaBulatan\"])"
   ]
  },
  {
   "cell_type": "markdown",
   "metadata": {},
   "source": [
    "#### Hasil Tes Distribusi Normal \"Diameter\""
   ]
  },
  {
   "cell_type": "code",
   "execution_count": 51,
   "metadata": {
    "scrolled": false
   },
   "outputs": [
    {
     "name": "stdout",
     "output_type": "stream",
     "text": [
      "p-valuenya adalah 0.11834503710269928 > 0.05. Maka dari itu, sample berdistribusi normal\n"
     ]
    }
   ],
   "source": [
    "normality_test(gandum[\"Diameter\"])"
   ]
  },
  {
   "cell_type": "markdown",
   "metadata": {},
   "source": [
    "#### Hasil Tes Distribusi Normal \"KadarAir\""
   ]
  },
  {
   "cell_type": "code",
   "execution_count": 52,
   "metadata": {},
   "outputs": [
    {
     "name": "stdout",
     "output_type": "stream",
     "text": [
      "p-valuenya adalah 1.959499836695633e-12 < 0.05. Maka dari itu, sample tidak berdistribusi normal\n"
     ]
    }
   ],
   "source": [
    "normality_test(gandum[\"KadarAir\"])"
   ]
  },
  {
   "cell_type": "markdown",
   "metadata": {},
   "source": [
    "#### Hasil Tes Distribusi Normal \"Keliling\""
   ]
  },
  {
   "cell_type": "code",
   "execution_count": 53,
   "metadata": {},
   "outputs": [
    {
     "name": "stdout",
     "output_type": "stream",
     "text": [
      "p-valuenya adalah 9.728394090302572e-09 < 0.05. Maka dari itu, sample tidak berdistribusi normal\n"
     ]
    }
   ],
   "source": [
    "normality_test(gandum[\"Keliling\"])"
   ]
  },
  {
   "cell_type": "markdown",
   "metadata": {},
   "source": [
    "#### Hasil Tes Distribusi Normal \"Bulatan\""
   ]
  },
  {
   "cell_type": "code",
   "execution_count": 54,
   "metadata": {},
   "outputs": [
    {
     "name": "stdout",
     "output_type": "stream",
     "text": [
      "p-valuenya adalah 6.899158691421287e-26 < 0.05. Maka dari itu, sample tidak berdistribusi normal\n"
     ]
    }
   ],
   "source": [
    "normality_test(gandum[\"Bulatan\"])"
   ]
  },
  {
   "cell_type": "markdown",
   "metadata": {},
   "source": [
    "#### Hasil Tes Distribusi Normal \"Ransum\""
   ]
  },
  {
   "cell_type": "code",
   "execution_count": 55,
   "metadata": {
    "scrolled": true
   },
   "outputs": [
    {
     "name": "stdout",
     "output_type": "stream",
     "text": [
      "p-valuenya adalah 6.245541108888591e-15 < 0.05. Maka dari itu, sample tidak berdistribusi normal\n"
     ]
    }
   ],
   "source": [
    "normality_test(gandum[\"Ransum\"])"
   ]
  },
  {
   "cell_type": "markdown",
   "metadata": {},
   "source": [
    "## Enam Langkah Testing\n",
    "\n",
    "1. Tentukan Hipotesis nol\n",
    "\n",
    "2. Pilih Hipotesis Alternatif\n",
    "\n",
    "3. Tentukan tingkat signifikan α\n",
    "\n",
    "4. Tentukan uji statistik yang sesuai dan tentukan daerah kritis\n",
    "\n",
    "5. Hitung nilai uji statistik dari data sample. Hitung p-value sesuai dengan uji statistik yang digunakan\n",
    "\n",
    "6. Ambil keputusan dengan TOLAK Hipotesis nol jika nilai uji terletak di daerah kritis atau dengan tes signifikan, TOLAK Hipotesis nol jika p-value lebih kecil dibanding tingkat signifikansi α yang diinginkan"
   ]
  },
  {
   "cell_type": "markdown",
   "metadata": {},
   "source": [
    "### Soal4\n",
    "\n",
    "4. Melakukan test hipotesis 1 sampel, dengan menuliskan 6 langkah testing dan menampilkan juga boxplotnya untuk kolom/bagian yang bersesuaian."
   ]
  },
  {
   "cell_type": "code",
   "execution_count": 69,
   "metadata": {},
   "outputs": [],
   "source": [
    "# Fungsi test hipotesis 1 sampel\n",
    "def one_sample(column, H0, alt): # alt = 'two-sided', 'less', atau 'greater'\n",
    "    print(\"Mean\\t\\t:\", column.mean())\n",
    "    r = ttest_1samp(column, H0, alternative = alt)\n",
    "    print(\"Tes statistik\\t:\", r.statistic)\n",
    "    print(\"p-value\\t\\t:\", r.pvalue)\n",
    "    if r.pvalue > 0.05:\n",
    "        print(\"Hipotesis nol diterima\")\n",
    "    else:\n",
    "        print(\"Hipotesis nol ditolak\")\n",
    "    return"
   ]
  },
  {
   "cell_type": "markdown",
   "metadata": {},
   "source": [
    "    a. Nilai rata-rata Daerah di atas 4700?\n",
    "    \n",
    "        1. H0: µ = 4700\n",
    "        \n",
    "        2. H1: µ > 4700\n",
    "        \n",
    "        3. α = 0.05\n",
    "        \n",
    "        4. Tes statistik = mean - H0 / (standar deviasi/sqrt(jumlah data))\n",
    "\n",
    "        5. Hitung nilai uji statistik, Mencari p-value\n",
    "\n",
    "        6. Keputusan"
   ]
  },
  {
   "cell_type": "code",
   "execution_count": 70,
   "metadata": {
    "scrolled": true
   },
   "outputs": [
    {
     "name": "stdout",
     "output_type": "stream",
     "text": [
      "Mean\t\t: 4801.246\n",
      "Tes statistik\t: 2.295153824252517\n",
      "p-value\t\t: 0.011069185447613176\n",
      "Hipotesis nol ditolak\n"
     ]
    }
   ],
   "source": [
    "# 4.a.4, 4.a.5, 4.a.6\n",
    "H0 = 4700\n",
    "one_sample(gandum[\"Daerah\"], H0, 'greater')"
   ]
  },
  {
   "cell_type": "code",
   "execution_count": 58,
   "metadata": {
    "scrolled": false
   },
   "outputs": [
    {
     "data": {
      "text/plain": [
       "<AxesSubplot:xlabel='Daerah', ylabel='Density'>"
      ]
     },
     "execution_count": 58,
     "metadata": {},
     "output_type": "execute_result"
    },
    {
     "data": {
      "image/png": "[encoded data removed]",
      "text/plain": [
       "<Figure size 432x288 with 1 Axes>"
      ]
     },
     "metadata": {
      "needs_background": "light"
     },
     "output_type": "display_data"
    }
   ],
   "source": [
    "# Distribution plot Daerah\n",
    "seaborn.distplot(gandum[\"Daerah\"])"
   ]
  },
  {
   "cell_type": "markdown",
   "metadata": {},
   "source": [
    "    b. Nilai Rata-rata Sumbu Utama tidak sama dengan 116?\n",
    "    \n",
    "        1. H0: µ = 116\n",
    "        \n",
    "        2. H1: µ ≠ 116\n",
    "        \n",
    "        3. α = 0.05\n",
    "        \n",
    "        4. Tes statistik = mean - H0 / (standar deviasi/sqrt(jumlah data))\n",
    "\n",
    "        5. Hitung nilai uji statistik, Mencari p-value\n",
    "\n",
    "        6. Keputusan"
   ]
  },
  {
   "cell_type": "code",
   "execution_count": 71,
   "metadata": {},
   "outputs": [
    {
     "name": "stdout",
     "output_type": "stream",
     "text": [
      "Mean\t\t: 116.04517136778003\n",
      "Tes statistik\t: 0.05524712326730106\n",
      "p-value\t\t: 0.9559636999411129\n",
      "Hipotesis nol diterima\n"
     ]
    }
   ],
   "source": [
    "# 4.b.4, 4.b.5, 4.b.6\n",
    "H0 = 116\n",
    "one_sample(gandum[\"SumbuUtama\"], H0, 'two-sided')"
   ]
  },
  {
   "cell_type": "code",
   "execution_count": 60,
   "metadata": {},
   "outputs": [
    {
     "data": {
      "text/plain": [
       "<AxesSubplot:xlabel='SumbuUtama', ylabel='Density'>"
      ]
     },
     "execution_count": 60,
     "metadata": {},
     "output_type": "execute_result"
    },
    {
     "data": {
      "image/png": "[encoded data removed]",
      "text/plain": [
       "<Figure size 432x288 with 1 Axes>"
      ]
     },
     "metadata": {
      "needs_background": "light"
     },
     "output_type": "display_data"
    }
   ],
   "source": [
    "# Distribution plot Sumbu Utama\n",
    "seaborn.distplot(gandum[\"SumbuUtama\"])"
   ]
  },
  {
   "cell_type": "markdown",
   "metadata": {},
   "source": [
    "    c. Nilai Rata-rata 20 baris pertama kolom Sumbu Kecil bukan 50?\n",
    "    \n",
    "        1. H0: µ = 50\n",
    "        \n",
    "        2. H1: µ ≠ 50\n",
    "        \n",
    "        3. α = 0.05\n",
    "        \n",
    "        4. Tes statistik = mean - H0 / (standar deviasi/sqrt(jumlah data))\n",
    "\n",
    "        5. Hitung nilai uji statistik, Mencari p-value\n",
    "\n",
    "        6. Keputusan"
   ]
  },
  {
   "cell_type": "code",
   "execution_count": 76,
   "metadata": {
    "scrolled": true
   },
   "outputs": [
    {
     "name": "stdout",
     "output_type": "stream",
     "text": [
      "Mean\t\t: 131.27704224999997\n",
      "Tes statistik\t: 10.78107877822708\n",
      "p-value\t\t: 1.5463920539087379e-09\n",
      "Hipotesis nol ditolak\n"
     ]
    }
   ],
   "source": [
    "# 4.c.4, 4.c.5, 4.c.6\n",
    "H0 = 50\n",
    "first_twenty = gandum[\"SumbuUtama\"].head(20) # 20 baris pertama kolom Sumbu Kecil\n",
    "one_sample(first_twenty, H0, 'two-sided')"
   ]
  },
  {
   "cell_type": "code",
   "execution_count": 77,
   "metadata": {},
   "outputs": [
    {
     "data": {
      "text/plain": [
       "<AxesSubplot:xlabel='SumbuUtama', ylabel='Density'>"
      ]
     },
     "execution_count": 77,
     "metadata": {},
     "output_type": "execute_result"
    },
    {
     "data": {
      "image/png": "[encoded data removed]",
      "text/plain": [
       "<Figure size 432x288 with 1 Axes>"
      ]
     },
     "metadata": {
      "needs_background": "light"
     },
     "output_type": "display_data"
    }
   ],
   "source": [
    "# Distribution plot 20 baris pertama Sumbu Kecil\n",
    "seaborn.distplot(first_twenty)"
   ]
  },
  {
   "cell_type": "code",
   "execution_count": 133,
   "metadata": {},
   "outputs": [],
   "source": [
    "# Fungsi tes 1 sample dengan proporsi\n",
    "def one_sample_proportion(success, n, val, alt):\n",
    "    zstat, pvalue = proportions_ztest(count = success, nobs = n, value = val, \\\n",
    "                                      alternative = alt, prop_var = H0)\n",
    "    print(\"Test statistik\\t:\", zstat)\n",
    "    print(\"p-value\\t\\t:\", pvalue)\n",
    "    if pvalue > 0.05:\n",
    "        print(\"Hipotesis nol diterima\")\n",
    "    else:\n",
    "        print(\"Hipotesis nol ditolak\")"
   ]
  },
  {
   "cell_type": "markdown",
   "metadata": {},
   "source": [
    "    d. Proporsi nilai Diameter yang lebih dari 85, adalah tidak sama dengan 15% ?\n",
    "    \n",
    "        1. H0: p = 0.15\n",
    "\n",
    "        2. H1: p ≠ 0.15\n",
    "\n",
    "        3. α = 0.05\n",
    "\n",
    "        4. Tes statistik = (alternative-probability - H0) / sqrt(H0 * (1 - H0) / n)\n",
    "\n",
    "        5. Hitung nilai uji statistik, Mencari p-value\n",
    "\n",
    "        6. Keputusan"
   ]
  },
  {
   "cell_type": "code",
   "execution_count": 131,
   "metadata": {
    "scrolled": false
   },
   "outputs": [
    {
     "name": "stdout",
     "output_type": "stream",
     "text": [
      "Test statistik\t: 2.4881083733392226\n",
      "p-value\t\t: 0.012842459209356831\n",
      "Hipotesis nol ditolak\n"
     ]
    }
   ],
   "source": [
    "\n",
    "# 4.d.4, 4.d.5, 4.d.6\n",
    "H0 = 0.15\n",
    "greater = gandum[gandum[\"Diameter\"] > 85][\"Diameter\"].count() # Diameter > 85\n",
    "count = gandum[\"Diameter\"].count()\n",
    "one_sample_proportion(greater, count, H0, 'two-sided')"
   ]
  },
  {
   "cell_type": "code",
   "execution_count": 97,
   "metadata": {},
   "outputs": [
    {
     "data": {
      "text/plain": [
       "<AxesSubplot:xlabel='Diameter', ylabel='Density'>"
      ]
     },
     "execution_count": 97,
     "metadata": {},
     "output_type": "execute_result"
    },
    {
     "data": {
      "image/png": "[encoded data removed]",
      "text/plain": [
       "<Figure size 432x288 with 1 Axes>"
      ]
     },
     "metadata": {
      "needs_background": "light"
     },
     "output_type": "display_data"
    }
   ],
   "source": [
    "# Distribution plot Diameter\n",
    "seaborn.distplot(gandum[\"Diameter\"])"
   ]
  },
  {
   "cell_type": "markdown",
   "metadata": {},
   "source": [
    "    e. Proporsi nilai Keliling yang kurang dari 100, adalah kurang dari 5% ?\n",
    "    \n",
    "        1. H0: p = 0.05\n",
    "\n",
    "        2. H1: p < 0.05\n",
    "\n",
    "        3. α = 0.05\n",
    "\n",
    "        4. Tes statistik = (alternative-probability - H0) / sqrt(H0 * (1 - H0) / n)\n",
    "\n",
    "        5. Hitung nilai uji statistik, Mencari p-value\n",
    "\n",
    "        6. Keputusan"
   ]
  },
  {
   "cell_type": "code",
   "execution_count": 135,
   "metadata": {
    "scrolled": false
   },
   "outputs": [
    {
     "name": "stdout",
     "output_type": "stream",
     "text": [
      "Test statistik\t: -5.129891760425771\n",
      "p-value\t\t: 1.4495441414387716e-07\n",
      "Hipotesis nol ditolak\n"
     ]
    }
   ],
   "source": [
    "# 4.e.4, 4.e.5, 4.e.6\n",
    "H0 = 0.05\n",
    "less = gandum[gandum[\"Keliling\"] < 100][\"Keliling\"].count()\n",
    "count = gandum[\"Keliling\"].count()\n",
    "one_sample_proportion(less, count, H0, 'smaller')"
   ]
  },
  {
   "cell_type": "code",
   "execution_count": 136,
   "metadata": {},
   "outputs": [
    {
     "data": {
      "text/plain": [
       "<AxesSubplot:xlabel='Keliling', ylabel='Density'>"
      ]
     },
     "execution_count": 136,
     "metadata": {},
     "output_type": "execute_result"
    },
    {
     "data": {
      "image/png": "[encoded data removed]",
      "text/plain": [
       "<Figure size 432x288 with 1 Axes>"
      ]
     },
     "metadata": {
      "needs_background": "light"
     },
     "output_type": "display_data"
    }
   ],
   "source": [
    "# Distribution plot Keliling\n",
    "seaborn.distplot(gandum[\"Keliling\"])"
   ]
  },
  {
   "cell_type": "markdown",
   "metadata": {},
   "source": [
    "### Soal5\n",
    "\n",
    "5. Melakukan test hipotesis 2 sampel, dengan menuliskan 6 langkah testing dan menampilkan juga boxplotnya untuk kolom/bagian yang bersesuaian."
   ]
  },
  {
   "cell_type": "markdown",
   "metadata": {},
   "source": [
    "    a. Data kolom AreaBulatan dibagi 2 sama rata: bagian awal dan bagian akhir kolom. Benarkah rata-rata kedua bagian tersebut sama?\n",
    "    \n",
    "        1. H0: µ1 = µ2\n",
    "\n",
    "        2. H1: µ1 ≠ µ2\n",
    "\n",
    "        3. α = 0.05\n",
    "\n",
    "        4. Tes statistik = (alternative-probability - H0) / sqrt(H0 * (1 - H0) / n)\n",
    "\n",
    "        5. Hitung nilai uji statistik, Mencari p-value\n",
    "\n",
    "        6. Keputusan"
   ]
  },
  {
   "cell_type": "code",
   "execution_count": 150,
   "metadata": {},
   "outputs": [
    {
     "name": "stdout",
     "output_type": "stream",
     "text": [
      "751733.1060080321\n",
      "545480.4244337347\n"
     ]
    },
    {
     "data": {
      "text/plain": [
       "Ttest_indResult(statistic=17.013036648485464, pvalue=1.6612692497332565e-51)"
      ]
     },
     "execution_count": 150,
     "metadata": {},
     "output_type": "execute_result"
    }
   ],
   "source": [
    "# Bagian awal\n",
    "awal = gandum[\"AreaBulatan\"].head(int(gandum[\"AreaBulatan\"].count() / 2))\n",
    "# Bagian akhir\n",
    "akhir = gandum[\"AreaBulatan\"].tail(int(gandum[\"AreaBulatan\"].count() / 2))\n",
    "print(awal.var())\n",
    "print(akhir.var())\n",
    "r = ttest_ind(awal, akhir, equal_var = awal.var() == akhir.var())\n",
    "r"
   ]
  },
  {
   "cell_type": "markdown",
   "metadata": {},
   "source": [
    "    b. Data kolom Kadar Air dibagi 2 sama rata: bagian awal dan bagian akhir kolom. Benarkah rata-rata bagian awal lebih besar dari pada bagian akhir sebesar 0.2?\n",
    "    \n",
    "    c. Rata-rata 20 baris pertama kolom Bulatan sama dengan 20 baris terakhirnya?\n",
    "    \n",
    "    d. Proporsi nilai bagian awal Ransum yang lebih dari 2, adalah lebih besar daripada, proporsi nilai yang sama di bagian akhir Ransum?\n",
    "    \n",
    "    e. Bagian awal kolom Diameter memiliki variansi yang sama dengan bagian akhirnya?"
   ]
  },
  {
   "cell_type": "markdown",
   "metadata": {},
   "source": [
    "### Soal6\n",
    "\n",
    "6. Test korelasi: tentukan apakah setiap kolom non-target berkorelasi dengan kolom target, dengan menggambarkan juga scatter plot nya. Gunakan correlation test."
   ]
  },
  {
   "cell_type": "markdown",
   "metadata": {},
   "source": [
    "## Testing Under Here"
   ]
  },
  {
   "cell_type": "code",
   "execution_count": 62,
   "metadata": {},
   "outputs": [
    {
     "data": {
      "text/html": [
       "<div>\n",
       "<style scoped>\n",
       "    .dataframe tbody tr th:only-of-type {\n",
       "        vertical-align: middle;\n",
       "    }\n",
       "\n",
       "    .dataframe tbody tr th {\n",
       "        vertical-align: top;\n",
       "    }\n",
       "\n",
       "    .dataframe thead th {\n",
       "        text-align: right;\n",
       "    }\n",
       "</style>\n",
       "<table border=\"1\" class=\"dataframe\">\n",
       "  <thead>\n",
       "    <tr style=\"text-align: right;\">\n",
       "      <th></th>\n",
       "      <th>id</th>\n",
       "      <th>Daerah</th>\n",
       "      <th>SumbuUtama</th>\n",
       "      <th>SumbuKecil</th>\n",
       "      <th>Keunikan</th>\n",
       "      <th>AreaBulatan</th>\n",
       "      <th>Diameter</th>\n",
       "      <th>KadarAir</th>\n",
       "      <th>Keliling</th>\n",
       "      <th>Bulatan</th>\n",
       "      <th>Ransum</th>\n",
       "      <th>Kelas</th>\n",
       "    </tr>\n",
       "  </thead>\n",
       "  <tbody>\n",
       "    <tr>\n",
       "      <th>0</th>\n",
       "      <td>1</td>\n",
       "      <td>3992.0</td>\n",
       "      <td>74.133114</td>\n",
       "      <td>39.906517</td>\n",
       "      <td>0.719916</td>\n",
       "      <td>3802.0</td>\n",
       "      <td>71.293564</td>\n",
       "      <td>0.735849</td>\n",
       "      <td>197.015</td>\n",
       "      <td>0.174590</td>\n",
       "      <td>1.440796</td>\n",
       "      <td>2.0</td>\n",
       "    </tr>\n",
       "    <tr>\n",
       "      <th>1</th>\n",
       "      <td>2</td>\n",
       "      <td>4881.0</td>\n",
       "      <td>74.364021</td>\n",
       "      <td>41.436419</td>\n",
       "      <td>0.725553</td>\n",
       "      <td>4913.0</td>\n",
       "      <td>78.833256</td>\n",
       "      <td>0.824405</td>\n",
       "      <td>200.587</td>\n",
       "      <td>0.261297</td>\n",
       "      <td>1.453137</td>\n",
       "      <td>NaN</td>\n",
       "    </tr>\n",
       "    <tr>\n",
       "      <th>2</th>\n",
       "      <td>3</td>\n",
       "      <td>5642.0</td>\n",
       "      <td>74.691881</td>\n",
       "      <td>42.871879</td>\n",
       "      <td>0.731211</td>\n",
       "      <td>NaN</td>\n",
       "      <td>84.756224</td>\n",
       "      <td>NaN</td>\n",
       "      <td>202.456</td>\n",
       "      <td>0.299298</td>\n",
       "      <td>1.465950</td>\n",
       "      <td>NaN</td>\n",
       "    </tr>\n",
       "    <tr>\n",
       "      <th>3</th>\n",
       "      <td>4</td>\n",
       "      <td>6083.0</td>\n",
       "      <td>76.293164</td>\n",
       "      <td>43.284979</td>\n",
       "      <td>0.738639</td>\n",
       "      <td>NaN</td>\n",
       "      <td>88.006342</td>\n",
       "      <td>NaN</td>\n",
       "      <td>207.325</td>\n",
       "      <td>0.589146</td>\n",
       "      <td>1.483456</td>\n",
       "      <td>NaN</td>\n",
       "    </tr>\n",
       "    <tr>\n",
       "      <th>4</th>\n",
       "      <td>5</td>\n",
       "      <td>NaN</td>\n",
       "      <td>76.789043</td>\n",
       "      <td>44.119355</td>\n",
       "      <td>0.749282</td>\n",
       "      <td>NaN</td>\n",
       "      <td>NaN</td>\n",
       "      <td>NaN</td>\n",
       "      <td>207.697</td>\n",
       "      <td>0.603807</td>\n",
       "      <td>1.510000</td>\n",
       "      <td>NaN</td>\n",
       "    </tr>\n",
       "    <tr>\n",
       "      <th>...</th>\n",
       "      <td>...</td>\n",
       "      <td>...</td>\n",
       "      <td>...</td>\n",
       "      <td>...</td>\n",
       "      <td>...</td>\n",
       "      <td>...</td>\n",
       "      <td>...</td>\n",
       "      <td>...</td>\n",
       "      <td>...</td>\n",
       "      <td>...</td>\n",
       "      <td>...</td>\n",
       "      <td>...</td>\n",
       "    </tr>\n",
       "    <tr>\n",
       "      <th>495</th>\n",
       "      <td>496</td>\n",
       "      <td>NaN</td>\n",
       "      <td>152.068440</td>\n",
       "      <td>63.322854</td>\n",
       "      <td>0.913724</td>\n",
       "      <td>NaN</td>\n",
       "      <td>NaN</td>\n",
       "      <td>NaN</td>\n",
       "      <td>375.651</td>\n",
       "      <td>0.872417</td>\n",
       "      <td>2.461017</td>\n",
       "      <td>NaN</td>\n",
       "    </tr>\n",
       "    <tr>\n",
       "      <th>496</th>\n",
       "      <td>497</td>\n",
       "      <td>NaN</td>\n",
       "      <td>152.113491</td>\n",
       "      <td>63.762307</td>\n",
       "      <td>0.913760</td>\n",
       "      <td>NaN</td>\n",
       "      <td>NaN</td>\n",
       "      <td>NaN</td>\n",
       "      <td>390.125</td>\n",
       "      <td>0.874243</td>\n",
       "      <td>2.461510</td>\n",
       "      <td>NaN</td>\n",
       "    </tr>\n",
       "    <tr>\n",
       "      <th>497</th>\n",
       "      <td>498</td>\n",
       "      <td>NaN</td>\n",
       "      <td>153.583387</td>\n",
       "      <td>64.012769</td>\n",
       "      <td>0.913891</td>\n",
       "      <td>NaN</td>\n",
       "      <td>NaN</td>\n",
       "      <td>NaN</td>\n",
       "      <td>434.235</td>\n",
       "      <td>0.874743</td>\n",
       "      <td>2.463297</td>\n",
       "      <td>NaN</td>\n",
       "    </tr>\n",
       "    <tr>\n",
       "      <th>498</th>\n",
       "      <td>499</td>\n",
       "      <td>NaN</td>\n",
       "      <td>227.105462</td>\n",
       "      <td>65.738475</td>\n",
       "      <td>0.913909</td>\n",
       "      <td>NaN</td>\n",
       "      <td>NaN</td>\n",
       "      <td>NaN</td>\n",
       "      <td>448.305</td>\n",
       "      <td>0.891706</td>\n",
       "      <td>2.463546</td>\n",
       "      <td>NaN</td>\n",
       "    </tr>\n",
       "    <tr>\n",
       "      <th>499</th>\n",
       "      <td>500</td>\n",
       "      <td>NaN</td>\n",
       "      <td>227.928583</td>\n",
       "      <td>68.977700</td>\n",
       "      <td>0.914001</td>\n",
       "      <td>NaN</td>\n",
       "      <td>NaN</td>\n",
       "      <td>NaN</td>\n",
       "      <td>488.837</td>\n",
       "      <td>0.904748</td>\n",
       "      <td>2.464809</td>\n",
       "      <td>NaN</td>\n",
       "    </tr>\n",
       "  </tbody>\n",
       "</table>\n",
       "<p>500 rows × 12 columns</p>\n",
       "</div>"
      ],
      "text/plain": [
       "      id  Daerah  SumbuUtama  SumbuKecil  Keunikan  AreaBulatan   Diameter  \\\n",
       "0      1  3992.0   74.133114   39.906517  0.719916       3802.0  71.293564   \n",
       "1      2  4881.0   74.364021   41.436419  0.725553       4913.0  78.833256   \n",
       "2      3  5642.0   74.691881   42.871879  0.731211          NaN  84.756224   \n",
       "3      4  6083.0   76.293164   43.284979  0.738639          NaN  88.006342   \n",
       "4      5     NaN   76.789043   44.119355  0.749282          NaN        NaN   \n",
       "..   ...     ...         ...         ...       ...          ...        ...   \n",
       "495  496     NaN  152.068440   63.322854  0.913724          NaN        NaN   \n",
       "496  497     NaN  152.113491   63.762307  0.913760          NaN        NaN   \n",
       "497  498     NaN  153.583387   64.012769  0.913891          NaN        NaN   \n",
       "498  499     NaN  227.105462   65.738475  0.913909          NaN        NaN   \n",
       "499  500     NaN  227.928583   68.977700  0.914001          NaN        NaN   \n",
       "\n",
       "     KadarAir  Keliling   Bulatan    Ransum  Kelas  \n",
       "0    0.735849   197.015  0.174590  1.440796    2.0  \n",
       "1    0.824405   200.587  0.261297  1.453137    NaN  \n",
       "2         NaN   202.456  0.299298  1.465950    NaN  \n",
       "3         NaN   207.325  0.589146  1.483456    NaN  \n",
       "4         NaN   207.697  0.603807  1.510000    NaN  \n",
       "..        ...       ...       ...       ...    ...  \n",
       "495       NaN   375.651  0.872417  2.461017    NaN  \n",
       "496       NaN   390.125  0.874243  2.461510    NaN  \n",
       "497       NaN   434.235  0.874743  2.463297    NaN  \n",
       "498       NaN   448.305  0.891706  2.463546    NaN  \n",
       "499       NaN   488.837  0.904748  2.464809    NaN  \n",
       "\n",
       "[500 rows x 12 columns]"
      ]
     },
     "execution_count": 62,
     "metadata": {},
     "output_type": "execute_result"
    }
   ],
   "source": [
    "gandum.mode()"
   ]
  },
  {
   "cell_type": "code",
   "execution_count": 63,
   "metadata": {},
   "outputs": [
    {
     "data": {
      "text/plain": [
       "id             500\n",
       "Daerah         500\n",
       "SumbuUtama     500\n",
       "SumbuKecil     500\n",
       "Keunikan       500\n",
       "AreaBulatan    500\n",
       "Diameter       500\n",
       "KadarAir       500\n",
       "Keliling       500\n",
       "Bulatan        500\n",
       "Ransum         500\n",
       "Kelas          500\n",
       "dtype: int64"
      ]
     },
     "execution_count": 63,
     "metadata": {},
     "output_type": "execute_result"
    }
   ],
   "source": [
    "gandum.count()"
   ]
  }
 ],
 "metadata": {
  "kernelspec": {
   "display_name": "Python 3",
   "language": "python",
   "name": "python3"
  },
  "language_info": {
   "codemirror_mode": {
    "name": "ipython",
    "version": 3
   },
   "file_extension": ".py",
   "mimetype": "text/x-python",
   "name": "python",
   "nbconvert_exporter": "python",
   "pygments_lexer": "ipython3",
   "version": "3.8.8"
  }
 },
 "nbformat": 4,
 "nbformat_minor": 4
}
