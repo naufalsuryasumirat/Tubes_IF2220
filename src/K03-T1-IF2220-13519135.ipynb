{
 "cells": [
  {
   "cell_type": "markdown",
   "metadata": {},
   "source": [
    "# Tubes IF2220 Probabilitas dan Statistika\n",
    "Naufal Alexander Suryasumirat - 13519135\n",
    "\n",
    "Naufal Yahya Kurnianto - 13519141"
   ]
  },
  {
   "cell_type": "markdown",
   "metadata": {},
   "source": [
    "* [Soal1](#Soal1)\n",
    "* [Soal2](#Soal2)\n",
    "* [Soal3](#Soal3)\n",
    "* [Soal4](#Soal4)\n",
    "* [Soal5](#Soal5)\n",
    "* [Soal6](#Soal6)"
   ]
  },
  {
   "cell_type": "code",
   "execution_count": 1,
   "metadata": {},
   "outputs": [],
   "source": [
    "import pandas\n",
    "import warnings\n",
    "import matplotlib.pyplot\n",
    "import numpy\n",
    "import seaborn\n",
    "import scipy\n",
    "from scipy.stats import shapiro, norm, zscore, ttest_1samp, ttest_ind, norm, f\n",
    "from statsmodels.stats.proportion import proportions_ztest\n",
    "\n",
    "warnings.simplefilter(action = 'ignore', category=FutureWarning) # Menghilangkan warning untuk distplot"
   ]
  },
  {
   "cell_type": "code",
   "execution_count": 2,
   "metadata": {},
   "outputs": [
    {
     "data": {
      "text/html": [
       "<div>\n",
       "<style scoped>\n",
       "    .dataframe tbody tr th:only-of-type {\n",
       "        vertical-align: middle;\n",
       "    }\n",
       "\n",
       "    .dataframe tbody tr th {\n",
       "        vertical-align: top;\n",
       "    }\n",
       "\n",
       "    .dataframe thead th {\n",
       "        text-align: right;\n",
       "    }\n",
       "</style>\n",
       "<table border=\"1\" class=\"dataframe\">\n",
       "  <thead>\n",
       "    <tr style=\"text-align: right;\">\n",
       "      <th></th>\n",
       "      <th>id</th>\n",
       "      <th>Daerah</th>\n",
       "      <th>SumbuUtama</th>\n",
       "      <th>SumbuKecil</th>\n",
       "      <th>Keunikan</th>\n",
       "      <th>AreaBulatan</th>\n",
       "      <th>Diameter</th>\n",
       "      <th>KadarAir</th>\n",
       "      <th>Keliling</th>\n",
       "      <th>Bulatan</th>\n",
       "      <th>Ransum</th>\n",
       "      <th>Kelas</th>\n",
       "    </tr>\n",
       "  </thead>\n",
       "  <tbody>\n",
       "    <tr>\n",
       "      <th>0</th>\n",
       "      <td>1</td>\n",
       "      <td>5781</td>\n",
       "      <td>128.288875</td>\n",
       "      <td>58.470846</td>\n",
       "      <td>0.890095</td>\n",
       "      <td>5954</td>\n",
       "      <td>85.793926</td>\n",
       "      <td>0.674090</td>\n",
       "      <td>316.756</td>\n",
       "      <td>0.724041</td>\n",
       "      <td>2.194066</td>\n",
       "      <td>1</td>\n",
       "    </tr>\n",
       "    <tr>\n",
       "      <th>1</th>\n",
       "      <td>2</td>\n",
       "      <td>4176</td>\n",
       "      <td>109.348294</td>\n",
       "      <td>49.837688</td>\n",
       "      <td>0.890098</td>\n",
       "      <td>4277</td>\n",
       "      <td>72.918093</td>\n",
       "      <td>0.596231</td>\n",
       "      <td>260.346</td>\n",
       "      <td>0.774227</td>\n",
       "      <td>2.194088</td>\n",
       "      <td>1</td>\n",
       "    </tr>\n",
       "    <tr>\n",
       "      <th>2</th>\n",
       "      <td>3</td>\n",
       "      <td>4555</td>\n",
       "      <td>114.427991</td>\n",
       "      <td>52.151207</td>\n",
       "      <td>0.890105</td>\n",
       "      <td>4706</td>\n",
       "      <td>76.155145</td>\n",
       "      <td>0.776641</td>\n",
       "      <td>279.606</td>\n",
       "      <td>0.732159</td>\n",
       "      <td>2.194158</td>\n",
       "      <td>1</td>\n",
       "    </tr>\n",
       "    <tr>\n",
       "      <th>3</th>\n",
       "      <td>4</td>\n",
       "      <td>4141</td>\n",
       "      <td>108.701190</td>\n",
       "      <td>49.457349</td>\n",
       "      <td>0.890499</td>\n",
       "      <td>4236</td>\n",
       "      <td>72.611879</td>\n",
       "      <td>0.633180</td>\n",
       "      <td>260.478</td>\n",
       "      <td>0.766961</td>\n",
       "      <td>2.197877</td>\n",
       "      <td>1</td>\n",
       "    </tr>\n",
       "    <tr>\n",
       "      <th>4</th>\n",
       "      <td>5</td>\n",
       "      <td>5273</td>\n",
       "      <td>122.747868</td>\n",
       "      <td>55.757848</td>\n",
       "      <td>0.890876</td>\n",
       "      <td>5431</td>\n",
       "      <td>81.937733</td>\n",
       "      <td>0.669842</td>\n",
       "      <td>302.730</td>\n",
       "      <td>0.723031</td>\n",
       "      <td>2.201446</td>\n",
       "      <td>1</td>\n",
       "    </tr>\n",
       "    <tr>\n",
       "      <th>...</th>\n",
       "      <td>...</td>\n",
       "      <td>...</td>\n",
       "      <td>...</td>\n",
       "      <td>...</td>\n",
       "      <td>...</td>\n",
       "      <td>...</td>\n",
       "      <td>...</td>\n",
       "      <td>...</td>\n",
       "      <td>...</td>\n",
       "      <td>...</td>\n",
       "      <td>...</td>\n",
       "      <td>...</td>\n",
       "    </tr>\n",
       "    <tr>\n",
       "      <th>495</th>\n",
       "      <td>496</td>\n",
       "      <td>5083</td>\n",
       "      <td>120.083450</td>\n",
       "      <td>54.821580</td>\n",
       "      <td>0.889709</td>\n",
       "      <td>5179</td>\n",
       "      <td>80.447975</td>\n",
       "      <td>0.534827</td>\n",
       "      <td>286.377</td>\n",
       "      <td>0.778850</td>\n",
       "      <td>2.190441</td>\n",
       "      <td>2</td>\n",
       "    </tr>\n",
       "    <tr>\n",
       "      <th>496</th>\n",
       "      <td>497</td>\n",
       "      <td>4432</td>\n",
       "      <td>112.367050</td>\n",
       "      <td>51.294914</td>\n",
       "      <td>0.889726</td>\n",
       "      <td>4550</td>\n",
       "      <td>75.119889</td>\n",
       "      <td>0.601194</td>\n",
       "      <td>270.823</td>\n",
       "      <td>0.759344</td>\n",
       "      <td>2.190608</td>\n",
       "      <td>2</td>\n",
       "    </tr>\n",
       "    <tr>\n",
       "      <th>497</th>\n",
       "      <td>498</td>\n",
       "      <td>5020</td>\n",
       "      <td>119.873742</td>\n",
       "      <td>54.718545</td>\n",
       "      <td>0.889740</td>\n",
       "      <td>5104</td>\n",
       "      <td>79.947874</td>\n",
       "      <td>0.528421</td>\n",
       "      <td>285.799</td>\n",
       "      <td>0.772311</td>\n",
       "      <td>2.190733</td>\n",
       "      <td>2</td>\n",
       "    </tr>\n",
       "    <tr>\n",
       "      <th>498</th>\n",
       "      <td>499</td>\n",
       "      <td>4035</td>\n",
       "      <td>107.311728</td>\n",
       "      <td>48.930802</td>\n",
       "      <td>0.889996</td>\n",
       "      <td>4150</td>\n",
       "      <td>71.676506</td>\n",
       "      <td>0.584698</td>\n",
       "      <td>258.503</td>\n",
       "      <td>0.758791</td>\n",
       "      <td>2.193132</td>\n",
       "      <td>2</td>\n",
       "    </tr>\n",
       "    <tr>\n",
       "      <th>499</th>\n",
       "      <td>500</td>\n",
       "      <td>3379</td>\n",
       "      <td>99.014789</td>\n",
       "      <td>44.631551</td>\n",
       "      <td>0.892647</td>\n",
       "      <td>3491</td>\n",
       "      <td>65.591741</td>\n",
       "      <td>0.653578</td>\n",
       "      <td>237.593</td>\n",
       "      <td>0.752196</td>\n",
       "      <td>2.218493</td>\n",
       "      <td>2</td>\n",
       "    </tr>\n",
       "  </tbody>\n",
       "</table>\n",
       "<p>500 rows × 12 columns</p>\n",
       "</div>"
      ],
      "text/plain": [
       "      id  Daerah  SumbuUtama  SumbuKecil  Keunikan  AreaBulatan   Diameter  \\\n",
       "0      1    5781  128.288875   58.470846  0.890095         5954  85.793926   \n",
       "1      2    4176  109.348294   49.837688  0.890098         4277  72.918093   \n",
       "2      3    4555  114.427991   52.151207  0.890105         4706  76.155145   \n",
       "3      4    4141  108.701190   49.457349  0.890499         4236  72.611879   \n",
       "4      5    5273  122.747868   55.757848  0.890876         5431  81.937733   \n",
       "..   ...     ...         ...         ...       ...          ...        ...   \n",
       "495  496    5083  120.083450   54.821580  0.889709         5179  80.447975   \n",
       "496  497    4432  112.367050   51.294914  0.889726         4550  75.119889   \n",
       "497  498    5020  119.873742   54.718545  0.889740         5104  79.947874   \n",
       "498  499    4035  107.311728   48.930802  0.889996         4150  71.676506   \n",
       "499  500    3379   99.014789   44.631551  0.892647         3491  65.591741   \n",
       "\n",
       "     KadarAir  Keliling   Bulatan    Ransum  Kelas  \n",
       "0    0.674090   316.756  0.724041  2.194066      1  \n",
       "1    0.596231   260.346  0.774227  2.194088      1  \n",
       "2    0.776641   279.606  0.732159  2.194158      1  \n",
       "3    0.633180   260.478  0.766961  2.197877      1  \n",
       "4    0.669842   302.730  0.723031  2.201446      1  \n",
       "..        ...       ...       ...       ...    ...  \n",
       "495  0.534827   286.377  0.778850  2.190441      2  \n",
       "496  0.601194   270.823  0.759344  2.190608      2  \n",
       "497  0.528421   285.799  0.772311  2.190733      2  \n",
       "498  0.584698   258.503  0.758791  2.193132      2  \n",
       "499  0.653578   237.593  0.752196  2.218493      2  \n",
       "\n",
       "[500 rows x 12 columns]"
      ]
     },
     "execution_count": 2,
     "metadata": {},
     "output_type": "execute_result"
    }
   ],
   "source": [
    "column_names = [\"id\", \"Daerah\", \"SumbuUtama\", \"SumbuKecil\", \"Keunikan\", \"AreaBulatan\", \"Diameter\", \"KadarAir\", \"Keliling\", \"Bulatan\", \"Ransum\", \"Kelas\"]\n",
    "gandum = pandas.read_csv(\"./../test/Gandum.csv\", header = None, names = column_names) # Membaca file\n",
    "gandum  # Memperlihatkan Gandum.csv\n",
    "        # Kolom 2 - 11 adalah kolom atribut (non-target), kolom 12 adalah target"
   ]
  },
  {
   "cell_type": "markdown",
   "metadata": {},
   "source": [
    "### Soal1\n",
    "1. Menulis deskripsi statistika (Descriptive Statistics) dari semua kolom pada data yang bersifat numerik, terdiri dari mean, median, modus, standar deviasi, variansi, range, nilai minimum, maksimum, kuartil, IQR, skewness dan kurtosis. Boleh juga ditambahkan deskripsi lain."
   ]
  },
  {
   "cell_type": "code",
   "execution_count": 3,
   "metadata": {
    "scrolled": false
   },
   "outputs": [
    {
     "data": {
      "text/html": [
       "<div>\n",
       "<style scoped>\n",
       "    .dataframe tbody tr th:only-of-type {\n",
       "        vertical-align: middle;\n",
       "    }\n",
       "\n",
       "    .dataframe tbody tr th {\n",
       "        vertical-align: top;\n",
       "    }\n",
       "\n",
       "    .dataframe thead th {\n",
       "        text-align: right;\n",
       "    }\n",
       "</style>\n",
       "<table border=\"1\" class=\"dataframe\">\n",
       "  <thead>\n",
       "    <tr style=\"text-align: right;\">\n",
       "      <th></th>\n",
       "      <th>Mean</th>\n",
       "      <th>Median</th>\n",
       "      <th>Modus</th>\n",
       "      <th>Std.Deviasi</th>\n",
       "      <th>Variansi</th>\n",
       "      <th>Range</th>\n",
       "      <th>Maksimum</th>\n",
       "      <th>Minimum</th>\n",
       "      <th>Q1</th>\n",
       "      <th>Q3</th>\n",
       "      <th>IQR</th>\n",
       "      <th>Skewness</th>\n",
       "      <th>Kurtosis</th>\n",
       "    </tr>\n",
       "  </thead>\n",
       "  <tbody>\n",
       "    <tr>\n",
       "      <th>Daerah</th>\n",
       "      <td>4801.246000</td>\n",
       "      <td>4735.000000</td>\n",
       "      <td>3992, 4881, 5642, 6083</td>\n",
       "      <td>986.395491</td>\n",
       "      <td>9.729761e+05</td>\n",
       "      <td>4932.000000</td>\n",
       "      <td>7453.000000</td>\n",
       "      <td>2522.000000</td>\n",
       "      <td>4042.750000</td>\n",
       "      <td>5495.500000</td>\n",
       "      <td>1452.750000</td>\n",
       "      <td>0.238144</td>\n",
       "      <td>-0.434631</td>\n",
       "    </tr>\n",
       "    <tr>\n",
       "      <th>SumbuUtama</th>\n",
       "      <td>116.045171</td>\n",
       "      <td>115.405140</td>\n",
       "      <td>None</td>\n",
       "      <td>18.282626</td>\n",
       "      <td>3.342544e+02</td>\n",
       "      <td>154.795469</td>\n",
       "      <td>227.928583</td>\n",
       "      <td>74.133114</td>\n",
       "      <td>104.116098</td>\n",
       "      <td>129.046792</td>\n",
       "      <td>24.930694</td>\n",
       "      <td>0.761529</td>\n",
       "      <td>4.330534</td>\n",
       "    </tr>\n",
       "    <tr>\n",
       "      <th>SumbuKecil</th>\n",
       "      <td>53.715246</td>\n",
       "      <td>53.731199</td>\n",
       "      <td>None</td>\n",
       "      <td>4.071075</td>\n",
       "      <td>1.657365e+01</td>\n",
       "      <td>30.071182</td>\n",
       "      <td>68.977700</td>\n",
       "      <td>39.906517</td>\n",
       "      <td>51.193576</td>\n",
       "      <td>56.325158</td>\n",
       "      <td>5.131582</td>\n",
       "      <td>-0.010828</td>\n",
       "      <td>0.475568</td>\n",
       "    </tr>\n",
       "    <tr>\n",
       "      <th>Keunikan</th>\n",
       "      <td>0.878764</td>\n",
       "      <td>0.890045</td>\n",
       "      <td>None</td>\n",
       "      <td>0.036586</td>\n",
       "      <td>1.338528e-03</td>\n",
       "      <td>1.194085</td>\n",
       "      <td>0.914001</td>\n",
       "      <td>0.719916</td>\n",
       "      <td>0.863676</td>\n",
       "      <td>0.907578</td>\n",
       "      <td>0.043902</td>\n",
       "      <td>-1.623472</td>\n",
       "      <td>2.917256</td>\n",
       "    </tr>\n",
       "    <tr>\n",
       "      <th>AreaBulatan</th>\n",
       "      <td>4937.048000</td>\n",
       "      <td>4857.000000</td>\n",
       "      <td>3802, 4913</td>\n",
       "      <td>1011.696255</td>\n",
       "      <td>1.023529e+06</td>\n",
       "      <td>5142.000000</td>\n",
       "      <td>7720.000000</td>\n",
       "      <td>2579.000000</td>\n",
       "      <td>4170.250000</td>\n",
       "      <td>5654.250000</td>\n",
       "      <td>1484.000000</td>\n",
       "      <td>0.257560</td>\n",
       "      <td>-0.409685</td>\n",
       "    </tr>\n",
       "    <tr>\n",
       "      <th>Diameter</th>\n",
       "      <td>77.771158</td>\n",
       "      <td>77.645277</td>\n",
       "      <td>71.29356396, 78.83325579, 84.75622403, 88.0063...</td>\n",
       "      <td>8.056867</td>\n",
       "      <td>6.491311e+01</td>\n",
       "      <td>41.747172</td>\n",
       "      <td>97.413830</td>\n",
       "      <td>56.666658</td>\n",
       "      <td>71.745308</td>\n",
       "      <td>83.648598</td>\n",
       "      <td>11.903290</td>\n",
       "      <td>0.002725</td>\n",
       "      <td>-0.466455</td>\n",
       "    </tr>\n",
       "    <tr>\n",
       "      <th>KadarAir</th>\n",
       "      <td>0.648372</td>\n",
       "      <td>0.626117</td>\n",
       "      <td>0.735849057, 0.824404762</td>\n",
       "      <td>0.094367</td>\n",
       "      <td>8.905149e-03</td>\n",
       "      <td>1.468972</td>\n",
       "      <td>0.878899</td>\n",
       "      <td>0.409927</td>\n",
       "      <td>0.572632</td>\n",
       "      <td>0.726633</td>\n",
       "      <td>0.154001</td>\n",
       "      <td>0.493661</td>\n",
       "      <td>-0.740326</td>\n",
       "    </tr>\n",
       "    <tr>\n",
       "      <th>Keliling</th>\n",
       "      <td>281.479722</td>\n",
       "      <td>280.045500</td>\n",
       "      <td>None</td>\n",
       "      <td>37.335402</td>\n",
       "      <td>1.393932e+03</td>\n",
       "      <td>292.822000</td>\n",
       "      <td>488.837000</td>\n",
       "      <td>197.015000</td>\n",
       "      <td>255.883000</td>\n",
       "      <td>306.062500</td>\n",
       "      <td>50.179500</td>\n",
       "      <td>0.733627</td>\n",
       "      <td>2.272685</td>\n",
       "    </tr>\n",
       "    <tr>\n",
       "      <th>Bulatan</th>\n",
       "      <td>0.761737</td>\n",
       "      <td>0.761288</td>\n",
       "      <td>None</td>\n",
       "      <td>0.061702</td>\n",
       "      <td>3.807194e-03</td>\n",
       "      <td>1.730158</td>\n",
       "      <td>0.904748</td>\n",
       "      <td>0.174590</td>\n",
       "      <td>0.731991</td>\n",
       "      <td>0.796361</td>\n",
       "      <td>0.064370</td>\n",
       "      <td>-3.599237</td>\n",
       "      <td>29.975096</td>\n",
       "    </tr>\n",
       "    <tr>\n",
       "      <th>Ransum</th>\n",
       "      <td>2.150915</td>\n",
       "      <td>2.193599</td>\n",
       "      <td>None</td>\n",
       "      <td>0.249767</td>\n",
       "      <td>6.238350e-02</td>\n",
       "      <td>2.024013</td>\n",
       "      <td>2.464809</td>\n",
       "      <td>1.440796</td>\n",
       "      <td>1.983939</td>\n",
       "      <td>2.381612</td>\n",
       "      <td>0.397673</td>\n",
       "      <td>-0.658188</td>\n",
       "      <td>-0.428656</td>\n",
       "    </tr>\n",
       "  </tbody>\n",
       "</table>\n",
       "</div>"
      ],
      "text/plain": [
       "                    Mean       Median  \\\n",
       "Daerah       4801.246000  4735.000000   \n",
       "SumbuUtama    116.045171   115.405140   \n",
       "SumbuKecil     53.715246    53.731199   \n",
       "Keunikan        0.878764     0.890045   \n",
       "AreaBulatan  4937.048000  4857.000000   \n",
       "Diameter       77.771158    77.645277   \n",
       "KadarAir        0.648372     0.626117   \n",
       "Keliling      281.479722   280.045500   \n",
       "Bulatan         0.761737     0.761288   \n",
       "Ransum          2.150915     2.193599   \n",
       "\n",
       "                                                         Modus  Std.Deviasi  \\\n",
       "Daerah                                  3992, 4881, 5642, 6083   986.395491   \n",
       "SumbuUtama                                                None    18.282626   \n",
       "SumbuKecil                                                None     4.071075   \n",
       "Keunikan                                                  None     0.036586   \n",
       "AreaBulatan                                         3802, 4913  1011.696255   \n",
       "Diameter     71.29356396, 78.83325579, 84.75622403, 88.0063...     8.056867   \n",
       "KadarAir                              0.735849057, 0.824404762     0.094367   \n",
       "Keliling                                                  None    37.335402   \n",
       "Bulatan                                                   None     0.061702   \n",
       "Ransum                                                    None     0.249767   \n",
       "\n",
       "                 Variansi        Range     Maksimum      Minimum           Q1  \\\n",
       "Daerah       9.729761e+05  4932.000000  7453.000000  2522.000000  4042.750000   \n",
       "SumbuUtama   3.342544e+02   154.795469   227.928583    74.133114   104.116098   \n",
       "SumbuKecil   1.657365e+01    30.071182    68.977700    39.906517    51.193576   \n",
       "Keunikan     1.338528e-03     1.194085     0.914001     0.719916     0.863676   \n",
       "AreaBulatan  1.023529e+06  5142.000000  7720.000000  2579.000000  4170.250000   \n",
       "Diameter     6.491311e+01    41.747172    97.413830    56.666658    71.745308   \n",
       "KadarAir     8.905149e-03     1.468972     0.878899     0.409927     0.572632   \n",
       "Keliling     1.393932e+03   292.822000   488.837000   197.015000   255.883000   \n",
       "Bulatan      3.807194e-03     1.730158     0.904748     0.174590     0.731991   \n",
       "Ransum       6.238350e-02     2.024013     2.464809     1.440796     1.983939   \n",
       "\n",
       "                      Q3          IQR  Skewness   Kurtosis  \n",
       "Daerah       5495.500000  1452.750000  0.238144  -0.434631  \n",
       "SumbuUtama    129.046792    24.930694  0.761529   4.330534  \n",
       "SumbuKecil     56.325158     5.131582 -0.010828   0.475568  \n",
       "Keunikan        0.907578     0.043902 -1.623472   2.917256  \n",
       "AreaBulatan  5654.250000  1484.000000  0.257560  -0.409685  \n",
       "Diameter       83.648598    11.903290  0.002725  -0.466455  \n",
       "KadarAir        0.726633     0.154001  0.493661  -0.740326  \n",
       "Keliling      306.062500    50.179500  0.733627   2.272685  \n",
       "Bulatan         0.796361     0.064370 -3.599237  29.975096  \n",
       "Ransum          2.381612     0.397673 -0.658188  -0.428656  "
      ]
     },
     "execution_count": 3,
     "metadata": {},
     "output_type": "execute_result"
    }
   ],
   "source": [
    "# Soal 1\n",
    "descGandum = gandum.drop(columns = [\"id\", \"Kelas\"]) # Drop kolom id dan Kelas\n",
    "statistik = pandas.DataFrame() # Membuat DataFrame baru\n",
    "statistik[\"Mean\"] = descGandum.mean() # Mean\n",
    "statistik[\"Median\"] = descGandum.median() # Median\n",
    "\n",
    "# Modus tiap kolom\n",
    "mode = [] # Kolom \"Modus\"\n",
    "for column in descGandum.columns:\n",
    "    if (descGandum[column].mode().dropna().count() == gandum[\"id\"].count()):\n",
    "        mode.append(\"None\") # Jika tidak terdapat modus (seluruh data unik)\n",
    "        continue\n",
    "    mode.append(descGandum[column].mode().astype(str).str.cat(sep = ', ')) # Modus tiap kolom\n",
    "\n",
    "statistik[\"Modus\"] = mode # Modus (diperlihatkan seluruh modus)\n",
    "statistik[\"Std.Deviasi\"] = descGandum.std() # Standar Deviasi\n",
    "statistik[\"Variansi\"] = descGandum.var() # Variansi\n",
    "statistik[\"Range\"] = descGandum.max() - descGandum.min() + 1 # Range\n",
    "statistik[\"Maksimum\"] = descGandum.max() # Maksimum\n",
    "statistik[\"Minimum\"] = descGandum.min() # Minimum\n",
    "statistik[\"Q1\"] = descGandum.quantile(.25) # Quartil pertama\n",
    "statistik[\"Q3\"] = descGandum.quantile(.75) # Quartil ketiga\n",
    "statistik[\"IQR\"] = statistik[\"Q3\"] - statistik[\"Q1\"] # Interquartile Range (IQR)\n",
    "statistik[\"Skewness\"] = descGandum.skew() # Skewness\n",
    "statistik[\"Kurtosis\"] = descGandum.kurtosis() # Kurtosis\n",
    "statistik # Memperlihatkan DataFrame 'statistik'"
   ]
  },
  {
   "cell_type": "markdown",
   "metadata": {},
   "source": [
    "##### Penjelasan\n",
    "Kolom yang memiliki Modus None menandakan bahwa tiap elemen pada kolom tersebut unik, sehingga tidak memiliki modus yang dapat ditampilkan"
   ]
  },
  {
   "cell_type": "markdown",
   "metadata": {},
   "source": [
    "### Soal2\n",
    "2. Membuat Visualisasi plot distribusi, dalam bentuk histogram dan boxplot untuk setiap kolom numerik. Berikan uraian penjelasan kondisi setiap kolom berdasarkan kedua plot tersebut."
   ]
  },
  {
   "cell_type": "markdown",
   "metadata": {},
   "source": [
    "#### Kolom \"Daerah\"\n",
    "\n",
    "Penjelasan:\n",
    "\n",
    "Dapat terlihat pada histogram plot kolom daerah, tabel tidak terdistribusi normal dan dari Box plot dapat terlihat tidak terdapat outlier untuk kolom \"Daerah\""
   ]
  },
  {
   "cell_type": "code",
   "execution_count": 4,
   "metadata": {},
   "outputs": [
    {
     "data": {
      "text/plain": [
       "<AxesSubplot:ylabel='Frequency'>"
      ]
     },
     "execution_count": 4,
     "metadata": {},
     "output_type": "execute_result"
    },
    {
     "data": {
      "image/png": "[encoded data removed]",
      "text/plain": [
       "<Figure size 432x288 with 1 Axes>"
      ]
     },
     "metadata": {
      "needs_background": "light"
     },
     "output_type": "display_data"
    }
   ],
   "source": [
    "# Histogram Plot Kolom Daerah (Histogram)\n",
    "gandum[\"Daerah\"].plot(kind = 'hist')"
   ]
  },
  {
   "cell_type": "code",
   "execution_count": 5,
   "metadata": {},
   "outputs": [
    {
     "data": {
      "text/plain": [
       "<AxesSubplot:>"
      ]
     },
     "execution_count": 5,
     "metadata": {},
     "output_type": "execute_result"
    },
    {
     "data": {
      "image/png": "[encoded data removed]",
      "text/plain": [
       "<Figure size 432x288 with 1 Axes>"
      ]
     },
     "metadata": {
      "needs_background": "light"
     },
     "output_type": "display_data"
    }
   ],
   "source": [
    "# Histogram Plot Kolom Daerah (Box)\n",
    "gandum[\"Daerah\"].plot(kind = 'box')"
   ]
  },
  {
   "cell_type": "code",
   "execution_count": 6,
   "metadata": {
    "scrolled": true
   },
   "outputs": [
    {
     "data": {
      "text/plain": [
       "0.23814408738280812"
      ]
     },
     "execution_count": 6,
     "metadata": {},
     "output_type": "execute_result"
    }
   ],
   "source": [
    "# Skew kolom \"Daerah\"\n",
    "gandum[\"Daerah\"].skew()"
   ]
  },
  {
   "cell_type": "code",
   "execution_count": 7,
   "metadata": {},
   "outputs": [
    {
     "data": {
      "text/plain": [
       "-0.4346305340273977"
      ]
     },
     "execution_count": 7,
     "metadata": {},
     "output_type": "execute_result"
    }
   ],
   "source": [
    "# Kurtosis kolom \"Daerah\", normal = 0\n",
    "gandum[\"Daerah\"].kurtosis()"
   ]
  },
  {
   "cell_type": "markdown",
   "metadata": {},
   "source": [
    "#### Kolom \"Sumbu Utama\"\n",
    "\n",
    "Penjelasan:\n",
    "\n",
    "Dapat terlihat pada histogram plot kolom sumbu utama, tabel tidak terdistribusi normal karena tidak tersebar secara merata dan dari Box plot dapat terlihat terdapat outlier yang melebihi batas atas dari box plot tersebut dengan nilai 220"
   ]
  },
  {
   "cell_type": "code",
   "execution_count": 8,
   "metadata": {},
   "outputs": [
    {
     "data": {
      "text/plain": [
       "<AxesSubplot:ylabel='Frequency'>"
      ]
     },
     "execution_count": 8,
     "metadata": {},
     "output_type": "execute_result"
    },
    {
     "data": {
      "image/png": "[encoded data removed]",
      "text/plain": [
       "<Figure size 432x288 with 1 Axes>"
      ]
     },
     "metadata": {
      "needs_background": "light"
     },
     "output_type": "display_data"
    }
   ],
   "source": [
    "# Histogram Plot Kolom Sumbu Utama (Histogram)\n",
    "gandum[\"SumbuUtama\"].plot(kind = 'hist')"
   ]
  },
  {
   "cell_type": "code",
   "execution_count": 9,
   "metadata": {
    "scrolled": true
   },
   "outputs": [
    {
     "data": {
      "text/plain": [
       "<AxesSubplot:>"
      ]
     },
     "execution_count": 9,
     "metadata": {},
     "output_type": "execute_result"
    },
    {
     "data": {
      "image/png": "[encoded data removed]",
      "text/plain": [
       "<Figure size 432x288 with 1 Axes>"
      ]
     },
     "metadata": {
      "needs_background": "light"
     },
     "output_type": "display_data"
    }
   ],
   "source": [
    "# Histogram Plot Kolom Sumbu Utama (Box)\n",
    "gandum[\"SumbuUtama\"].plot(kind = 'box')"
   ]
  },
  {
   "cell_type": "code",
   "execution_count": 10,
   "metadata": {
    "scrolled": true
   },
   "outputs": [
    {
     "data": {
      "text/plain": [
       "0.7615287378076652"
      ]
     },
     "execution_count": 10,
     "metadata": {},
     "output_type": "execute_result"
    }
   ],
   "source": [
    "# Skew kolom \"Sumbu Utama\"\n",
    "gandum[\"SumbuUtama\"].skew()"
   ]
  },
  {
   "cell_type": "code",
   "execution_count": 11,
   "metadata": {},
   "outputs": [
    {
     "data": {
      "text/plain": [
       "4.33053354843697"
      ]
     },
     "execution_count": 11,
     "metadata": {},
     "output_type": "execute_result"
    }
   ],
   "source": [
    "# Kurtosis kolom \"Sumbu Utama\"\n",
    "gandum[\"SumbuUtama\"].kurtosis()"
   ]
  },
  {
   "cell_type": "markdown",
   "metadata": {},
   "source": [
    "#### Kolom \"Sumbu Kecil\"\n",
    "\n",
    "Penjelasan:\n",
    "\n",
    "Dapat terlihat pada histogram plot kolom sumbu kecil, tabel terdistribusi secara normal karena terdistribusi secara merata dan dari Box plot dapat terlihat terdapat beberapa outlier yang melebihi batas atas dan terdapat juga yang kurang dari batas bawah"
   ]
  },
  {
   "cell_type": "code",
   "execution_count": 12,
   "metadata": {},
   "outputs": [
    {
     "data": {
      "text/plain": [
       "<AxesSubplot:ylabel='Frequency'>"
      ]
     },
     "execution_count": 12,
     "metadata": {},
     "output_type": "execute_result"
    },
    {
     "data": {
      "image/png": "[encoded data removed]",
      "text/plain": [
       "<Figure size 432x288 with 1 Axes>"
      ]
     },
     "metadata": {
      "needs_background": "light"
     },
     "output_type": "display_data"
    }
   ],
   "source": [
    "# Histogram Plot Kolom Sumbu Kecil (Histogram)\n",
    "gandum[\"SumbuKecil\"].plot(kind = 'hist')"
   ]
  },
  {
   "cell_type": "code",
   "execution_count": 13,
   "metadata": {
    "scrolled": true
   },
   "outputs": [
    {
     "data": {
      "text/plain": [
       "<AxesSubplot:>"
      ]
     },
     "execution_count": 13,
     "metadata": {},
     "output_type": "execute_result"
    },
    {
     "data": {
      "image/png": "[encoded data removed]",
      "text/plain": [
       "<Figure size 432x288 with 1 Axes>"
      ]
     },
     "metadata": {
      "needs_background": "light"
     },
     "output_type": "display_data"
    }
   ],
   "source": [
    "# Histogram Plot Kolom Sumbu Kecil (Box)\n",
    "gandum[\"SumbuKecil\"].plot(kind = 'box')"
   ]
  },
  {
   "cell_type": "code",
   "execution_count": 14,
   "metadata": {
    "scrolled": true
   },
   "outputs": [
    {
     "data": {
      "text/plain": [
       "-0.010828051555611359"
      ]
     },
     "execution_count": 14,
     "metadata": {},
     "output_type": "execute_result"
    }
   ],
   "source": [
    "# Skew kolom \"Sumbu Kecil\"\n",
    "gandum[\"SumbuKecil\"].skew()"
   ]
  },
  {
   "cell_type": "code",
   "execution_count": 15,
   "metadata": {},
   "outputs": [
    {
     "data": {
      "text/plain": [
       "0.475568450438137"
      ]
     },
     "execution_count": 15,
     "metadata": {},
     "output_type": "execute_result"
    }
   ],
   "source": [
    "# Kurtosis kolom \"Sumbu Kecil\", normal = 0\n",
    "gandum[\"SumbuKecil\"].kurtosis()"
   ]
  },
  {
   "cell_type": "markdown",
   "metadata": {},
   "source": [
    "#### Kolom \"Keunikan\"\n",
    "\n",
    "Penjelasan:\n",
    "\n",
    "Dapat terlihat pada histogram plot kolom keunikan, tabel tidak terdistribusi normal karena terlihat dengan jelas bahwa plot histogram skew negatif dan dari Box plot dapat terlihat terdapat beberapa outlier yang kurang dari batas bawah"
   ]
  },
  {
   "cell_type": "code",
   "execution_count": 16,
   "metadata": {
    "scrolled": true
   },
   "outputs": [
    {
     "data": {
      "text/plain": [
       "<AxesSubplot:ylabel='Frequency'>"
      ]
     },
     "execution_count": 16,
     "metadata": {},
     "output_type": "execute_result"
    },
    {
     "data": {
      "image/png": "[encoded data removed]",
      "text/plain": [
       "<Figure size 432x288 with 1 Axes>"
      ]
     },
     "metadata": {
      "needs_background": "light"
     },
     "output_type": "display_data"
    }
   ],
   "source": [
    "# Histogram Plot Kolom Keunikan (Histogram)\n",
    "gandum[\"Keunikan\"].plot(kind = 'hist')"
   ]
  },
  {
   "cell_type": "code",
   "execution_count": 17,
   "metadata": {
    "scrolled": true
   },
   "outputs": [
    {
     "data": {
      "text/plain": [
       "<AxesSubplot:>"
      ]
     },
     "execution_count": 17,
     "metadata": {},
     "output_type": "execute_result"
    },
    {
     "data": {
      "image/png": "[encoded data removed]",
      "text/plain": [
       "<Figure size 432x288 with 1 Axes>"
      ]
     },
     "metadata": {
      "needs_background": "light"
     },
     "output_type": "display_data"
    }
   ],
   "source": [
    "# Histogram Plot Kolom Keunikan (Box)\n",
    "gandum[\"Keunikan\"].plot(kind = 'box')"
   ]
  },
  {
   "cell_type": "code",
   "execution_count": 18,
   "metadata": {
    "scrolled": true
   },
   "outputs": [
    {
     "data": {
      "text/plain": [
       "-1.6234718222806501"
      ]
     },
     "execution_count": 18,
     "metadata": {},
     "output_type": "execute_result"
    }
   ],
   "source": [
    "# Skew kolom \"Keunikan\"\n",
    "gandum[\"Keunikan\"].skew()"
   ]
  },
  {
   "cell_type": "code",
   "execution_count": 19,
   "metadata": {},
   "outputs": [
    {
     "data": {
      "text/plain": [
       "2.917255925694391"
      ]
     },
     "execution_count": 19,
     "metadata": {},
     "output_type": "execute_result"
    }
   ],
   "source": [
    "# Kurtosis kolom \"Keunikan\", normal = 0\n",
    "gandum[\"Keunikan\"].kurtosis()"
   ]
  },
  {
   "cell_type": "markdown",
   "metadata": {},
   "source": [
    "#### Kolom \"Area Bulatan\"\n",
    "\n",
    "Penjelasan:\n",
    "\n",
    "Dapat terlihat pada histogram plot kolom area bulatan, tabel tidak terdistribusi normal karena terlihat tidak dan bentuknya tidak simetris seperti \"bell curve\" terdistribusi secara merata dan dari Box plot dapat terlihat tidak terdapat outlier pada pendistribusian data"
   ]
  },
  {
   "cell_type": "code",
   "execution_count": 20,
   "metadata": {
    "scrolled": true
   },
   "outputs": [
    {
     "data": {
      "text/plain": [
       "<AxesSubplot:ylabel='Frequency'>"
      ]
     },
     "execution_count": 20,
     "metadata": {},
     "output_type": "execute_result"
    },
    {
     "data": {
      "image/png": "[encoded data removed]",
      "text/plain": [
       "<Figure size 432x288 with 1 Axes>"
      ]
     },
     "metadata": {
      "needs_background": "light"
     },
     "output_type": "display_data"
    }
   ],
   "source": [
    "# Histogram Plot Kolom Area Bulatan (Histogram)\n",
    "gandum[\"AreaBulatan\"].plot(kind = 'hist')"
   ]
  },
  {
   "cell_type": "code",
   "execution_count": 21,
   "metadata": {
    "scrolled": true
   },
   "outputs": [
    {
     "data": {
      "text/plain": [
       "<AxesSubplot:>"
      ]
     },
     "execution_count": 21,
     "metadata": {},
     "output_type": "execute_result"
    },
    {
     "data": {
      "image/png": "[encoded data removed]",
      "text/plain": [
       "<Figure size 432x288 with 1 Axes>"
      ]
     },
     "metadata": {
      "needs_background": "light"
     },
     "output_type": "display_data"
    }
   ],
   "source": [
    "# Histogram Plot Kolom Area Bulatan (Box)\n",
    "gandum[\"AreaBulatan\"].plot(kind = 'box')"
   ]
  },
  {
   "cell_type": "code",
   "execution_count": 22,
   "metadata": {},
   "outputs": [
    {
     "data": {
      "text/plain": [
       "0.2575600053152032"
      ]
     },
     "execution_count": 22,
     "metadata": {},
     "output_type": "execute_result"
    }
   ],
   "source": [
    "# Skew kolom \"Area Bulatan\"\n",
    "gandum[\"AreaBulatan\"].skew()"
   ]
  },
  {
   "cell_type": "code",
   "execution_count": 23,
   "metadata": {},
   "outputs": [
    {
     "data": {
      "text/plain": [
       "-0.40968492037366033"
      ]
     },
     "execution_count": 23,
     "metadata": {},
     "output_type": "execute_result"
    }
   ],
   "source": [
    "# Kurtosis kolom \"Area Bulatan\", normal = 0\n",
    "gandum[\"AreaBulatan\"].kurtosis()"
   ]
  },
  {
   "cell_type": "markdown",
   "metadata": {},
   "source": [
    "#### Kolom \"Diameter\"\n",
    "\n",
    "Penjelasan:\n",
    "\n",
    "Dapat terlihat pada histogram plot kolom diameter, tabel terlihat terdistribusi normal karena simestris dan berbentuk seperti \"bell curve\", sedangkan untuk box plot tidak terlihat terdapat outliers."
   ]
  },
  {
   "cell_type": "code",
   "execution_count": 24,
   "metadata": {
    "scrolled": true
   },
   "outputs": [
    {
     "data": {
      "text/plain": [
       "<AxesSubplot:ylabel='Frequency'>"
      ]
     },
     "execution_count": 24,
     "metadata": {},
     "output_type": "execute_result"
    },
    {
     "data": {
      "image/png": "[encoded data removed]",
      "text/plain": [
       "<Figure size 432x288 with 1 Axes>"
      ]
     },
     "metadata": {
      "needs_background": "light"
     },
     "output_type": "display_data"
    }
   ],
   "source": [
    "# Histogram Plot Kolom Diameter (Histogram)\n",
    "gandum[\"Diameter\"].plot(kind = 'hist')"
   ]
  },
  {
   "cell_type": "code",
   "execution_count": 25,
   "metadata": {
    "scrolled": true
   },
   "outputs": [
    {
     "data": {
      "text/plain": [
       "<AxesSubplot:>"
      ]
     },
     "execution_count": 25,
     "metadata": {},
     "output_type": "execute_result"
    },
    {
     "data": {
      "image/png": "[encoded data removed]",
      "text/plain": [
       "<Figure size 432x288 with 1 Axes>"
      ]
     },
     "metadata": {
      "needs_background": "light"
     },
     "output_type": "display_data"
    }
   ],
   "source": [
    "# Histogram Plot Kolom Diameter (Box)\n",
    "gandum[\"Diameter\"].plot(kind = 'box')"
   ]
  },
  {
   "cell_type": "code",
   "execution_count": 26,
   "metadata": {},
   "outputs": [
    {
     "data": {
      "text/plain": [
       "0.002724966865193717"
      ]
     },
     "execution_count": 26,
     "metadata": {},
     "output_type": "execute_result"
    }
   ],
   "source": [
    "# Skew kolom \"Diameter\"\n",
    "gandum[\"Diameter\"].skew()"
   ]
  },
  {
   "cell_type": "code",
   "execution_count": 27,
   "metadata": {},
   "outputs": [
    {
     "data": {
      "text/plain": [
       "-0.46645451303121455"
      ]
     },
     "execution_count": 27,
     "metadata": {},
     "output_type": "execute_result"
    }
   ],
   "source": [
    "# Kurtosis kolom \"Diameter\", normal = 0\n",
    "gandum[\"Diameter\"].kurtosis()"
   ]
  },
  {
   "cell_type": "markdown",
   "metadata": {},
   "source": [
    "#### Kolom \"Kadar Air\"\n",
    "\n",
    "Penjelasan:\n",
    "\n",
    "Dapat terlihat pada histogram plot kolom kadar air, tabel tidak terdistribusi normal dan dari box plot tidak terlihat terdapat outliers."
   ]
  },
  {
   "cell_type": "code",
   "execution_count": 28,
   "metadata": {
    "scrolled": true
   },
   "outputs": [
    {
     "data": {
      "text/plain": [
       "<AxesSubplot:ylabel='Frequency'>"
      ]
     },
     "execution_count": 28,
     "metadata": {},
     "output_type": "execute_result"
    },
    {
     "data": {
      "image/png": "[encoded data removed]",
      "text/plain": [
       "<Figure size 432x288 with 1 Axes>"
      ]
     },
     "metadata": {
      "needs_background": "light"
     },
     "output_type": "display_data"
    }
   ],
   "source": [
    "# Histogram Plot Kolom Kadar Air (Histogram)\n",
    "gandum[\"KadarAir\"].plot(kind = 'hist')"
   ]
  },
  {
   "cell_type": "code",
   "execution_count": 29,
   "metadata": {
    "scrolled": false
   },
   "outputs": [
    {
     "data": {
      "text/plain": [
       "<AxesSubplot:>"
      ]
     },
     "execution_count": 29,
     "metadata": {},
     "output_type": "execute_result"
    },
    {
     "data": {
      "image/png": "[encoded data removed]",
      "text/plain": [
       "<Figure size 432x288 with 1 Axes>"
      ]
     },
     "metadata": {
      "needs_background": "light"
     },
     "output_type": "display_data"
    }
   ],
   "source": [
    "# Histogram Plot Kolom Kadar Air (Box)\n",
    "gandum[\"KadarAir\"].plot(kind = 'box')"
   ]
  },
  {
   "cell_type": "code",
   "execution_count": 30,
   "metadata": {},
   "outputs": [
    {
     "data": {
      "text/plain": [
       "0.49366131797330265"
      ]
     },
     "execution_count": 30,
     "metadata": {},
     "output_type": "execute_result"
    }
   ],
   "source": [
    "# Skew kolom \"Kadar Air\"\n",
    "gandum[\"KadarAir\"].skew()"
   ]
  },
  {
   "cell_type": "code",
   "execution_count": 31,
   "metadata": {},
   "outputs": [
    {
     "data": {
      "text/plain": [
       "-0.7403261705867821"
      ]
     },
     "execution_count": 31,
     "metadata": {},
     "output_type": "execute_result"
    }
   ],
   "source": [
    "# Kurtosis kolom \"Kadar Air\", normal = 0\n",
    "gandum[\"KadarAir\"].kurtosis()"
   ]
  },
  {
   "cell_type": "markdown",
   "metadata": {},
   "source": [
    "#### Kolom \"Keliling\"\n",
    "\n",
    "Penjelasan:\n",
    "\n",
    "Dapat terlihat pada histogram plot kolom keliling, tabel tidak terdistribusi normal karena tidak berbentuk seperti bell curve dan skew positif dan dari box plot dapat terlihat terdapat beberapa outlier yang melebihi batas atas"
   ]
  },
  {
   "cell_type": "code",
   "execution_count": 32,
   "metadata": {
    "scrolled": true
   },
   "outputs": [
    {
     "data": {
      "text/plain": [
       "<AxesSubplot:ylabel='Frequency'>"
      ]
     },
     "execution_count": 32,
     "metadata": {},
     "output_type": "execute_result"
    },
    {
     "data": {
      "image/png": "[encoded data removed]",
      "text/plain": [
       "<Figure size 432x288 with 1 Axes>"
      ]
     },
     "metadata": {
      "needs_background": "light"
     },
     "output_type": "display_data"
    }
   ],
   "source": [
    "# Histogram Plot Kolom Keliling (Histogram)\n",
    "gandum[\"Keliling\"].plot(kind = 'hist')"
   ]
  },
  {
   "cell_type": "code",
   "execution_count": 33,
   "metadata": {
    "scrolled": true
   },
   "outputs": [
    {
     "data": {
      "text/plain": [
       "<AxesSubplot:>"
      ]
     },
     "execution_count": 33,
     "metadata": {},
     "output_type": "execute_result"
    },
    {
     "data": {
      "image/png": "[encoded data removed]",
      "text/plain": [
       "<Figure size 432x288 with 1 Axes>"
      ]
     },
     "metadata": {
      "needs_background": "light"
     },
     "output_type": "display_data"
    }
   ],
   "source": [
    "# Histogram Plot Kolom Keliling (Box)\n",
    "gandum[\"Keliling\"].plot(kind = 'box')"
   ]
  },
  {
   "cell_type": "code",
   "execution_count": 34,
   "metadata": {},
   "outputs": [
    {
     "data": {
      "text/plain": [
       "0.7336269072005543"
      ]
     },
     "execution_count": 34,
     "metadata": {},
     "output_type": "execute_result"
    }
   ],
   "source": [
    "# Skew kolom \"Keliling\"\n",
    "gandum[\"Keliling\"].skew()"
   ]
  },
  {
   "cell_type": "code",
   "execution_count": 35,
   "metadata": {},
   "outputs": [
    {
     "data": {
      "text/plain": [
       "2.272684731245573"
      ]
     },
     "execution_count": 35,
     "metadata": {},
     "output_type": "execute_result"
    }
   ],
   "source": [
    "# Kurtosis kolom \"Keliling\", normal = 0\n",
    "gandum[\"Keliling\"].kurtosis()"
   ]
  },
  {
   "cell_type": "markdown",
   "metadata": {},
   "source": [
    "#### Kolom \"Bulatan\"\n",
    "\n",
    "Penjelasan:\n",
    "\n",
    "Dapat terlihat pada histogram plot kolom bulatan, tabel tidak terdistribusi normal karena terlihat skew negatif dan dari box plot dapat terlihat terdapat banyak outlier pada batas atas dan batas bawah"
   ]
  },
  {
   "cell_type": "code",
   "execution_count": 36,
   "metadata": {
    "scrolled": true
   },
   "outputs": [
    {
     "data": {
      "text/plain": [
       "<AxesSubplot:ylabel='Frequency'>"
      ]
     },
     "execution_count": 36,
     "metadata": {},
     "output_type": "execute_result"
    },
    {
     "data": {
      "image/png": "[encoded data removed]",
      "text/plain": [
       "<Figure size 432x288 with 1 Axes>"
      ]
     },
     "metadata": {
      "needs_background": "light"
     },
     "output_type": "display_data"
    }
   ],
   "source": [
    "# Histogram Plot Kolom Bulatan (Histogram)\n",
    "gandum[\"Bulatan\"].plot(kind = 'hist')"
   ]
  },
  {
   "cell_type": "code",
   "execution_count": 37,
   "metadata": {
    "scrolled": true
   },
   "outputs": [
    {
     "data": {
      "text/plain": [
       "<AxesSubplot:>"
      ]
     },
     "execution_count": 37,
     "metadata": {},
     "output_type": "execute_result"
    },
    {
     "data": {
      "image/png": "[encoded data removed]",
      "text/plain": [
       "<Figure size 432x288 with 1 Axes>"
      ]
     },
     "metadata": {
      "needs_background": "light"
     },
     "output_type": "display_data"
    }
   ],
   "source": [
    "# Histogram Plot Kolom Bulatan (Box)\n",
    "gandum[\"Bulatan\"].plot(kind = 'box')"
   ]
  },
  {
   "cell_type": "code",
   "execution_count": 38,
   "metadata": {},
   "outputs": [
    {
     "data": {
      "text/plain": [
       "-3.599236766361642"
      ]
     },
     "execution_count": 38,
     "metadata": {},
     "output_type": "execute_result"
    }
   ],
   "source": [
    "# Skew kolom \"Bulatan\"\n",
    "gandum[\"Bulatan\"].skew()"
   ]
  },
  {
   "cell_type": "code",
   "execution_count": 39,
   "metadata": {},
   "outputs": [
    {
     "data": {
      "text/plain": [
       "29.975095904630063"
      ]
     },
     "execution_count": 39,
     "metadata": {},
     "output_type": "execute_result"
    }
   ],
   "source": [
    "# Kurtosis kolom \"Bulatan\", normal = 0\n",
    "gandum[\"Bulatan\"].kurtosis()"
   ]
  },
  {
   "cell_type": "markdown",
   "metadata": {},
   "source": [
    "#### Kolom \"Ransum\"\n",
    "\n",
    "Penjelasan:\n",
    "\n",
    "Dapat terlihat pada histogram plot kolom ransum, tabel tidak terdistribusi normal karena skew negatif dan dari box plot tidak dapat terlihat terdapatnya outlier"
   ]
  },
  {
   "cell_type": "code",
   "execution_count": 40,
   "metadata": {
    "scrolled": true
   },
   "outputs": [
    {
     "data": {
      "text/plain": [
       "<AxesSubplot:ylabel='Frequency'>"
      ]
     },
     "execution_count": 40,
     "metadata": {},
     "output_type": "execute_result"
    },
    {
     "data": {
      "image/png": "[encoded data removed]",
      "text/plain": [
       "<Figure size 432x288 with 1 Axes>"
      ]
     },
     "metadata": {
      "needs_background": "light"
     },
     "output_type": "display_data"
    }
   ],
   "source": [
    "# Histogram Plot Kolom Ransum (Histogram)\n",
    "gandum[\"Ransum\"].plot(kind = 'hist')"
   ]
  },
  {
   "cell_type": "code",
   "execution_count": 41,
   "metadata": {
    "scrolled": false
   },
   "outputs": [
    {
     "data": {
      "text/plain": [
       "<AxesSubplot:>"
      ]
     },
     "execution_count": 41,
     "metadata": {},
     "output_type": "execute_result"
    },
    {
     "data": {
      "image/png": "[encoded data removed]",
      "text/plain": [
       "<Figure size 432x288 with 1 Axes>"
      ]
     },
     "metadata": {
      "needs_background": "light"
     },
     "output_type": "display_data"
    }
   ],
   "source": [
    "# Histogram Plot Kolom Ransum (Box)\n",
    "gandum[\"Ransum\"].plot(kind = 'box')"
   ]
  },
  {
   "cell_type": "code",
   "execution_count": 42,
   "metadata": {},
   "outputs": [
    {
     "data": {
      "text/plain": [
       "-0.6581880925333655"
      ]
     },
     "execution_count": 42,
     "metadata": {},
     "output_type": "execute_result"
    }
   ],
   "source": [
    "# Skew kolom \"Ransum\"\n",
    "gandum[\"Ransum\"].skew()"
   ]
  },
  {
   "cell_type": "code",
   "execution_count": 43,
   "metadata": {},
   "outputs": [
    {
     "data": {
      "text/plain": [
       "-0.4286557930626147"
      ]
     },
     "execution_count": 43,
     "metadata": {},
     "output_type": "execute_result"
    }
   ],
   "source": [
    "# Kurtosis kolom \"Ransum\", normal = 0\n",
    "gandum[\"Ransum\"].kurtosis()"
   ]
  },
  {
   "cell_type": "markdown",
   "metadata": {},
   "source": [
    "### Soal3\n",
    "3. Menentukan setiap kolom numerik berdistribusi normal atau tidak. Gunakan normality test yang dikaitkan dengan histogram plot.\n"
   ]
  },
  {
   "cell_type": "code",
   "execution_count": 44,
   "metadata": {},
   "outputs": [],
   "source": [
    "# Normality Test Function\n",
    "def normality_test(df):\n",
    "    daerah_stat, p = shapiro(df)\n",
    "    alpha = 0.05\n",
    "    print(\"p-valuenya adalah\", end=\" \")\n",
    "    if (p > alpha):\n",
    "        print(str(p), \">\", str(alpha) + \". Maka dari itu, sample berdistribusi normal\")\n",
    "    else:\n",
    "        print(str(p), \"<\", str(alpha) + \". Maka dari itu, sample tidak berdistribusi normal\")"
   ]
  },
  {
   "cell_type": "markdown",
   "metadata": {},
   "source": [
    "#### Hasil Tes Distribusi Normal \"Daerah\"\n",
    "Penjelasan: Seperti yang terlihat di bawah, distribusi kolom Daerah terlihat seperti bell curve namun setelah digunakan normality test, disimpulkan bahwa data tidak terdistribusi secara normal"
   ]
  },
  {
   "cell_type": "code",
   "execution_count": 45,
   "metadata": {
    "scrolled": false
   },
   "outputs": [
    {
     "name": "stdout",
     "output_type": "stream",
     "text": [
      "p-valuenya adalah 0.003270698245614767 < 0.05. Maka dari itu, sample tidak berdistribusi normal\n"
     ]
    },
    {
     "data": {
      "text/plain": [
       "<AxesSubplot:xlabel='Daerah', ylabel='Density'>"
      ]
     },
     "execution_count": 45,
     "metadata": {},
     "output_type": "execute_result"
    },
    {
     "data": {
      "image/png": "[encoded data removed]",
      "text/plain": [
       "<Figure size 432x288 with 1 Axes>"
      ]
     },
     "metadata": {
      "needs_background": "light"
     },
     "output_type": "display_data"
    }
   ],
   "source": [
    "normality_test(gandum[\"Daerah\"])\n",
    "seaborn.distplot(gandum[\"Daerah\"])"
   ]
  },
  {
   "cell_type": "markdown",
   "metadata": {},
   "source": [
    "#### Hasil Tes Distribusi Normal \"SumbuUtama\"\n",
    "Penjelasan: Seperti yang terlihat dari hasil plot dibawah, distribusi kolom Sumbu Utama tidak terlihat seperti bell curve dan hasil dari normality test tidak menunjukkan data terdistribusi secara normal, sehingga dapat disimpulkan bahwa data dalam kolom Sumbu Utama tidak terdistribusi secara normal"
   ]
  },
  {
   "cell_type": "code",
   "execution_count": 46,
   "metadata": {},
   "outputs": [
    {
     "name": "stdout",
     "output_type": "stream",
     "text": [
      "p-valuenya adalah 9.236201213569384e-12 < 0.05. Maka dari itu, sample tidak berdistribusi normal\n"
     ]
    },
    {
     "data": {
      "text/plain": [
       "<AxesSubplot:xlabel='SumbuUtama', ylabel='Density'>"
      ]
     },
     "execution_count": 46,
     "metadata": {},
     "output_type": "execute_result"
    },
    {
     "data": {
      "image/png": "[encoded data removed]",
      "text/plain": [
       "<Figure size 432x288 with 1 Axes>"
      ]
     },
     "metadata": {
      "needs_background": "light"
     },
     "output_type": "display_data"
    }
   ],
   "source": [
    "normality_test(gandum[\"SumbuUtama\"])\n",
    "seaborn.distplot(gandum[\"SumbuUtama\"])"
   ]
  },
  {
   "cell_type": "markdown",
   "metadata": {},
   "source": [
    "#### Hasil Tes Distribusi Normal \"SumbuKecil\"\n",
    "Penjelasan: Dapat terlihat pada hasil plot di bawah, distribusi kolom Sumbu Kecil terlihat seperti bell curve dan hasil dari normality test menunjukkan bahwa data terdistribusi secara normal, sehingga dapat disimpulkan bahwa data dalam kolom Sumbu Kecil terdistribusi secara normal"
   ]
  },
  {
   "cell_type": "code",
   "execution_count": 47,
   "metadata": {},
   "outputs": [
    {
     "name": "stdout",
     "output_type": "stream",
     "text": [
      "p-valuenya adalah 0.4234558641910553 > 0.05. Maka dari itu, sample berdistribusi normal\n"
     ]
    },
    {
     "data": {
      "text/plain": [
       "<AxesSubplot:xlabel='SumbuKecil', ylabel='Density'>"
      ]
     },
     "execution_count": 47,
     "metadata": {},
     "output_type": "execute_result"
    },
    {
     "data": {
      "image/png": "[encoded data removed]",
      "text/plain": [
       "<Figure size 432x288 with 1 Axes>"
      ]
     },
     "metadata": {
      "needs_background": "light"
     },
     "output_type": "display_data"
    }
   ],
   "source": [
    "normality_test(gandum[\"SumbuKecil\"])\n",
    "seaborn.distplot(gandum[\"SumbuKecil\"])"
   ]
  },
  {
   "cell_type": "markdown",
   "metadata": {},
   "source": [
    "#### Hasil Tes Distribusi Normal \"Keunikan\"\n",
    "Penjelasan: Dapat terlihat dengan jelas pada hasil plot di bawah, bahwa kolom Keunikan tidak terdistribusi secara normal karena skew negatif, tidak simetris, dan tidak berbentuk secara bell curve, selain itu, hasil dari normality test menunjukkan bahwa data tidak terdistribusi secara normal, sehingga dapat disimpulkan bahwa kolom Keunikan tidak terdistribusi secara normal"
   ]
  },
  {
   "cell_type": "code",
   "execution_count": 48,
   "metadata": {},
   "outputs": [
    {
     "name": "stdout",
     "output_type": "stream",
     "text": [
      "p-valuenya adalah 1.3151663082081454e-22 < 0.05. Maka dari itu, sample tidak berdistribusi normal\n"
     ]
    },
    {
     "data": {
      "text/plain": [
       "<AxesSubplot:xlabel='Keunikan', ylabel='Density'>"
      ]
     },
     "execution_count": 48,
     "metadata": {},
     "output_type": "execute_result"
    },
    {
     "data": {
      "image/png": "[encoded data removed]",
      "text/plain": [
       "<Figure size 432x288 with 1 Axes>"
      ]
     },
     "metadata": {
      "needs_background": "light"
     },
     "output_type": "display_data"
    }
   ],
   "source": [
    "normality_test(gandum[\"Keunikan\"])\n",
    "seaborn.distplot(gandum[\"Keunikan\"])"
   ]
  },
  {
   "cell_type": "markdown",
   "metadata": {},
   "source": [
    "#### Hasil Tes Distribusi Normal \"AreaBulatan\"\n",
    "Penjelasan: Dapat dilihat pada hasil plot di bawah, walaupun sekilas terlihat terdistribusi secara normal, hasil normality test mengindikasikan bahwa kolom Area Bulatan tidak terdistribusi secara normal, sehingga dapat disimpulkan bahwa kolom Area Bulatan tidak terdistribusi secara normal"
   ]
  },
  {
   "cell_type": "code",
   "execution_count": 49,
   "metadata": {},
   "outputs": [
    {
     "name": "stdout",
     "output_type": "stream",
     "text": [
      "p-valuenya adalah 0.0024847122840583324 < 0.05. Maka dari itu, sample tidak berdistribusi normal\n"
     ]
    },
    {
     "data": {
      "text/plain": [
       "<AxesSubplot:xlabel='AreaBulatan', ylabel='Density'>"
      ]
     },
     "execution_count": 49,
     "metadata": {},
     "output_type": "execute_result"
    },
    {
     "data": {
      "image/png": "[encoded data removed]",
      "text/plain": [
       "<Figure size 432x288 with 1 Axes>"
      ]
     },
     "metadata": {
      "needs_background": "light"
     },
     "output_type": "display_data"
    }
   ],
   "source": [
    "normality_test(gandum[\"AreaBulatan\"])\n",
    "seaborn.distplot(gandum[\"AreaBulatan\"])"
   ]
  },
  {
   "cell_type": "markdown",
   "metadata": {},
   "source": [
    "#### Hasil Tes Distribusi Normal \"Diameter\"\n",
    "Penjelasan: Pada hasil plot di bawah, dapat dilihat bahwa kolom Diameter terdistribusi secara normal karena simetris dan berbentuk seperti bell curve, dan hasil normality test menunjukkan terdistribusi secara normal. Sehingga dapat disimpulkan bahwa kolom Diameter terdistribusi secara normal"
   ]
  },
  {
   "cell_type": "code",
   "execution_count": 50,
   "metadata": {
    "scrolled": false
   },
   "outputs": [
    {
     "name": "stdout",
     "output_type": "stream",
     "text": [
      "p-valuenya adalah 0.11834503710269928 > 0.05. Maka dari itu, sample berdistribusi normal\n"
     ]
    },
    {
     "data": {
      "text/plain": [
       "<AxesSubplot:xlabel='Diameter', ylabel='Density'>"
      ]
     },
     "execution_count": 50,
     "metadata": {},
     "output_type": "execute_result"
    },
    {
     "data": {
      "image/png": "[encoded data removed]",
      "text/plain": [
       "<Figure size 432x288 with 1 Axes>"
      ]
     },
     "metadata": {
      "needs_background": "light"
     },
     "output_type": "display_data"
    }
   ],
   "source": [
    "normality_test(gandum[\"Diameter\"])\n",
    "seaborn.distplot(gandum[\"Diameter\"])"
   ]
  },
  {
   "cell_type": "markdown",
   "metadata": {},
   "source": [
    "#### Hasil Tes Distribusi Normal \"KadarAir\"\n",
    "Penjelasan: Pada hasil plot di bawah dapat dilihat bahwa data tidak terdistribusi secara normal karena tidak simetris dan tidak berbentuk seperti bell curve, selain itu, hasil dari normality test menunjukkan bahwa data tidak terdistribusi secara normal, sehingga dapat disimpulkan bahwa kolom Kadar Air tidak terdistribusi secara normal"
   ]
  },
  {
   "cell_type": "code",
   "execution_count": 51,
   "metadata": {},
   "outputs": [
    {
     "name": "stdout",
     "output_type": "stream",
     "text": [
      "p-valuenya adalah 1.959499836695633e-12 < 0.05. Maka dari itu, sample tidak berdistribusi normal\n"
     ]
    },
    {
     "data": {
      "text/plain": [
       "<AxesSubplot:xlabel='KadarAir', ylabel='Density'>"
      ]
     },
     "execution_count": 51,
     "metadata": {},
     "output_type": "execute_result"
    },
    {
     "data": {
      "image/png": "[encoded data removed]",
      "text/plain": [
       "<Figure size 432x288 with 1 Axes>"
      ]
     },
     "metadata": {
      "needs_background": "light"
     },
     "output_type": "display_data"
    }
   ],
   "source": [
    "normality_test(gandum[\"KadarAir\"])\n",
    "seaborn.distplot(gandum[\"KadarAir\"])"
   ]
  },
  {
   "cell_type": "markdown",
   "metadata": {},
   "source": [
    "#### Hasil Tes Distribusi Normal \"Keliling\"\n",
    "Penjelasan: Dapat terlihat pada hasil plot di bawah, tabel Keliling tidak terdistribusi secara normal karena terlihat skew positif dan tidak simetris serta tidak berbentuk seperti bell curve. Hasil dari normality test juga mengindikasikan bahwa data tidak terdistribusi secara normal, sehingga dapat disimpulkan bahwa kolom Keliling tidak terdistribusi secara normal"
   ]
  },
  {
   "cell_type": "code",
   "execution_count": 52,
   "metadata": {},
   "outputs": [
    {
     "name": "stdout",
     "output_type": "stream",
     "text": [
      "p-valuenya adalah 9.728394090302572e-09 < 0.05. Maka dari itu, sample tidak berdistribusi normal\n"
     ]
    },
    {
     "data": {
      "text/plain": [
       "<AxesSubplot:xlabel='Keliling', ylabel='Density'>"
      ]
     },
     "execution_count": 52,
     "metadata": {},
     "output_type": "execute_result"
    },
    {
     "data": {
      "image/png": "[encoded data removed]",
      "text/plain": [
       "<Figure size 432x288 with 1 Axes>"
      ]
     },
     "metadata": {
      "needs_background": "light"
     },
     "output_type": "display_data"
    }
   ],
   "source": [
    "normality_test(gandum[\"Keliling\"])\n",
    "seaborn.distplot(gandum[\"Keliling\"])"
   ]
  },
  {
   "cell_type": "markdown",
   "metadata": {},
   "source": [
    "#### Hasil Tes Distribusi Normal \"Bulatan\"\n",
    "Penjelasan: Dapat terlihat pada hasil plot di bawah, tabel tidak terdistribusi normal karena terlihat skew negatif, tidak simetris, dan tidak berbentuk seperti bell curve. Selain itu, hasil normality test menunjukkan bahwa data tidak terdistribusi secara normal, sehingga dapat disimpulkan bahwa kolom Bulatan tidak terdistribusi secara normal"
   ]
  },
  {
   "cell_type": "code",
   "execution_count": 53,
   "metadata": {},
   "outputs": [
    {
     "name": "stdout",
     "output_type": "stream",
     "text": [
      "p-valuenya adalah 6.899158691421287e-26 < 0.05. Maka dari itu, sample tidak berdistribusi normal\n"
     ]
    },
    {
     "data": {
      "text/plain": [
       "<AxesSubplot:xlabel='Bulatan', ylabel='Density'>"
      ]
     },
     "execution_count": 53,
     "metadata": {},
     "output_type": "execute_result"
    },
    {
     "data": {
      "image/png": "[encoded data removed]",
      "text/plain": [
       "<Figure size 432x288 with 1 Axes>"
      ]
     },
     "metadata": {
      "needs_background": "light"
     },
     "output_type": "display_data"
    }
   ],
   "source": [
    "normality_test(gandum[\"Bulatan\"])\n",
    "seaborn.distplot(gandum[\"Bulatan\"])"
   ]
  },
  {
   "cell_type": "markdown",
   "metadata": {},
   "source": [
    "#### Hasil Tes Distribusi Normal \"Ransum\"\n",
    "Penjelasan: Dapat terlihat pada hasil plot di bawah, data tidak berbentuk seperti bell curve dan hasil dari normality test menunjukkan bahwa data tidak terdistribusi secara normal, sehingga dapat disimpulkan bahwa Ransum tidak terdistribusi secara normal"
   ]
  },
  {
   "cell_type": "code",
   "execution_count": 54,
   "metadata": {
    "scrolled": true
   },
   "outputs": [
    {
     "name": "stdout",
     "output_type": "stream",
     "text": [
      "p-valuenya adalah 6.245541108888591e-15 < 0.05. Maka dari itu, sample tidak berdistribusi normal\n"
     ]
    },
    {
     "data": {
      "text/plain": [
       "<AxesSubplot:xlabel='Ransum', ylabel='Density'>"
      ]
     },
     "execution_count": 54,
     "metadata": {},
     "output_type": "execute_result"
    },
    {
     "data": {
      "image/png": "[encoded data removed]",
      "text/plain": [
       "<Figure size 432x288 with 1 Axes>"
      ]
     },
     "metadata": {
      "needs_background": "light"
     },
     "output_type": "display_data"
    }
   ],
   "source": [
    "normality_test(gandum[\"Ransum\"])\n",
    "seaborn.distplot(gandum[\"Ransum\"])"
   ]
  },
  {
   "cell_type": "markdown",
   "metadata": {},
   "source": [
    "## Enam Langkah Testing\n",
    "\n",
    "1. Tentukan Hipotesis nol\n",
    "\n",
    "2. Pilih Hipotesis Alternatif\n",
    "\n",
    "3. Tentukan tingkat signifikan alpha\n",
    "\n",
    "4. Tentukan uji statistik yang sesuai dan tentukan daerah kritis\n",
    "\n",
    "5. Hitung nilai uji statistik dari data sample. Hitung p-value sesuai dengan uji statistik yang digunakan\n",
    "\n",
    "6. Ambil keputusan dengan TOLAK Hipotesis nol jika nilai uji terletak di daerah kritis atau dengan tes signifikan, TOLAK Hipotesis nol jika p-value lebih kecil dibanding tingkat signifikansi alpha yang diinginkan"
   ]
  },
  {
   "cell_type": "markdown",
   "metadata": {},
   "source": [
    "### Soal4\n",
    "\n",
    "4. Melakukan test hipotesis 1 sampel, dengan menuliskan 6 langkah testing dan menampilkan juga boxplotnya untuk kolom/bagian yang bersesuaian."
   ]
  },
  {
   "cell_type": "code",
   "execution_count": 55,
   "metadata": {},
   "outputs": [],
   "source": [
    "# Fungsi test hipotesis 1 sampel\n",
    "def one_sample(column, H0, alt): # alt = 'two-sided', 'less', atau 'greater'\n",
    "    print(\"Mean\\t\\t:\", column.mean())\n",
    "    r = ttest_1samp(column, H0, alternative = alt)\n",
    "    print(\"Tes statistik\\t:\", r.statistic)\n",
    "    print(\"p-value\\t\\t:\", r.pvalue)\n",
    "    if r.pvalue > 0.05:\n",
    "        print(\"Hipotesis nol diterima\")\n",
    "    else:\n",
    "        print(\"Hipotesis nol ditolak\")\n",
    "    return"
   ]
  },
  {
   "cell_type": "markdown",
   "metadata": {},
   "source": [
    "    a. Nilai rata-rata Daerah di atas 4700?\n",
    "        1. H0: µ = 4700\n",
    "        2. H1: µ > 4700\n",
    "        3. alpha = 0.05\n",
    "        4. Tes statistik = mean - H0 / (standar deviasi/sqrt(jumlah data))\n",
    "        5. Hitung nilai uji statistik, Mencari p-value\n",
    "        6. Keputusan"
   ]
  },
  {
   "cell_type": "code",
   "execution_count": 56,
   "metadata": {
    "scrolled": true
   },
   "outputs": [
    {
     "name": "stdout",
     "output_type": "stream",
     "text": [
      "Mean\t\t: 4801.246\n",
      "Tes statistik\t: 2.295153824252517\n",
      "p-value\t\t: 0.011069185447613176\n",
      "Hipotesis nol ditolak\n"
     ]
    }
   ],
   "source": [
    "# 4.a.4, 4.a.5, 4.a.6\n",
    "H0 = 4700\n",
    "one_sample(gandum[\"Daerah\"], H0, 'greater')"
   ]
  },
  {
   "cell_type": "code",
   "execution_count": 57,
   "metadata": {},
   "outputs": [
    {
     "data": {
      "text/plain": [
       "<AxesSubplot:>"
      ]
     },
     "execution_count": 57,
     "metadata": {},
     "output_type": "execute_result"
    },
    {
     "data": {
      "image/png": "[encoded data removed]",
      "text/plain": [
       "<Figure size 432x288 with 1 Axes>"
      ]
     },
     "metadata": {
      "needs_background": "light"
     },
     "output_type": "display_data"
    }
   ],
   "source": [
    "# Box plot Daerah\n",
    "gandum[\"Daerah\"].plot(kind = 'box')"
   ]
  },
  {
   "cell_type": "code",
   "execution_count": 58,
   "metadata": {
    "scrolled": false
   },
   "outputs": [
    {
     "data": {
      "text/plain": [
       "<AxesSubplot:xlabel='Daerah', ylabel='Density'>"
      ]
     },
     "execution_count": 58,
     "metadata": {},
     "output_type": "execute_result"
    },
    {
     "data": {
      "image/png": "[encoded data removed]",
      "text/plain": [
       "<Figure size 432x288 with 1 Axes>"
      ]
     },
     "metadata": {
      "needs_background": "light"
     },
     "output_type": "display_data"
    }
   ],
   "source": [
    "# Distribution plot Daerah\n",
    "seaborn.distplot(gandum[\"Daerah\"])"
   ]
  },
  {
   "cell_type": "markdown",
   "metadata": {},
   "source": [
    "    b. Nilai Rata-rata Sumbu Utama tidak sama dengan 116?\n",
    "        1. H0: µ = 116\n",
    "        2. H1: µ != 116\n",
    "        3. alpha = 0.05\n",
    "        4. Tes statistik = mean - H0 / (standar deviasi/sqrt(jumlah data))\n",
    "        5. Hitung nilai uji statistik, Mencari p-value\n",
    "        6. Keputusan"
   ]
  },
  {
   "cell_type": "code",
   "execution_count": 59,
   "metadata": {},
   "outputs": [
    {
     "name": "stdout",
     "output_type": "stream",
     "text": [
      "Mean\t\t: 116.04517136778003\n",
      "Tes statistik\t: 0.05524712326730106\n",
      "p-value\t\t: 0.9559636999411129\n",
      "Hipotesis nol diterima\n"
     ]
    }
   ],
   "source": [
    "# 4.b.4, 4.b.5, 4.b.6\n",
    "H0 = 116\n",
    "one_sample(gandum[\"SumbuUtama\"], H0, 'two-sided')"
   ]
  },
  {
   "cell_type": "code",
   "execution_count": 60,
   "metadata": {},
   "outputs": [
    {
     "data": {
      "text/plain": [
       "<AxesSubplot:>"
      ]
     },
     "execution_count": 60,
     "metadata": {},
     "output_type": "execute_result"
    },
    {
     "data": {
      "image/png": "[encoded data removed]",
      "text/plain": [
       "<Figure size 432x288 with 1 Axes>"
      ]
     },
     "metadata": {
      "needs_background": "light"
     },
     "output_type": "display_data"
    }
   ],
   "source": [
    "# Box plot Sumbu Utama\n",
    "gandum[\"SumbuUtama\"].plot(kind = 'box')"
   ]
  },
  {
   "cell_type": "code",
   "execution_count": 61,
   "metadata": {},
   "outputs": [
    {
     "data": {
      "text/plain": [
       "<AxesSubplot:xlabel='SumbuUtama', ylabel='Density'>"
      ]
     },
     "execution_count": 61,
     "metadata": {},
     "output_type": "execute_result"
    },
    {
     "data": {
      "image/png": "[encoded data removed]",
      "text/plain": [
       "<Figure size 432x288 with 1 Axes>"
      ]
     },
     "metadata": {
      "needs_background": "light"
     },
     "output_type": "display_data"
    }
   ],
   "source": [
    "# Distribution plot Sumbu Utama\n",
    "seaborn.distplot(gandum[\"SumbuUtama\"])"
   ]
  },
  {
   "cell_type": "markdown",
   "metadata": {},
   "source": [
    "    c. Nilai Rata-rata 20 baris pertama kolom Sumbu Kecil bukan 50?\n",
    "        1. H0: µ = 50\n",
    "        2. H1: µ != 50\n",
    "        3. alpha = 0.05\n",
    "        4. Tes statistik = mean - H0 / (standar deviasi/sqrt(jumlah data))\n",
    "        5. Hitung nilai uji statistik, Mencari p-value\n",
    "        6. Keputusan"
   ]
  },
  {
   "cell_type": "code",
   "execution_count": 62,
   "metadata": {
    "scrolled": false
   },
   "outputs": [
    {
     "name": "stdout",
     "output_type": "stream",
     "text": [
      "Mean\t\t: 131.27704224999997\n",
      "Tes statistik\t: 10.78107877822708\n",
      "p-value\t\t: 1.5463920539087379e-09\n",
      "Hipotesis nol ditolak\n"
     ]
    }
   ],
   "source": [
    "# 4.c.4, 4.c.5, 4.c.6\n",
    "H0 = 50\n",
    "first_twenty = gandum[\"SumbuUtama\"].head(20) # 20 baris pertama kolom Sumbu Kecil\n",
    "one_sample(first_twenty, H0, 'two-sided')"
   ]
  },
  {
   "cell_type": "code",
   "execution_count": 63,
   "metadata": {},
   "outputs": [
    {
     "data": {
      "text/plain": [
       "<AxesSubplot:>"
      ]
     },
     "execution_count": 63,
     "metadata": {},
     "output_type": "execute_result"
    },
    {
     "data": {
      "image/png": "[encoded data removed]",
      "text/plain": [
       "<Figure size 432x288 with 1 Axes>"
      ]
     },
     "metadata": {
      "needs_background": "light"
     },
     "output_type": "display_data"
    }
   ],
   "source": [
    "# Box plot 20 baris pertama kolom Sumbu Kecil\n",
    "first_twenty.plot(kind = 'box')"
   ]
  },
  {
   "cell_type": "code",
   "execution_count": 64,
   "metadata": {},
   "outputs": [
    {
     "data": {
      "text/plain": [
       "<AxesSubplot:xlabel='SumbuUtama', ylabel='Density'>"
      ]
     },
     "execution_count": 64,
     "metadata": {},
     "output_type": "execute_result"
    },
    {
     "data": {
      "image/png": "[encoded data removed]",
      "text/plain": [
       "<Figure size 432x288 with 1 Axes>"
      ]
     },
     "metadata": {
      "needs_background": "light"
     },
     "output_type": "display_data"
    }
   ],
   "source": [
    "# Distribution plot 20 baris pertama Sumbu Kecil\n",
    "seaborn.distplot(first_twenty)"
   ]
  },
  {
   "cell_type": "code",
   "execution_count": 65,
   "metadata": {},
   "outputs": [],
   "source": [
    "# Fungsi tes 1 sample dengan proporsi\n",
    "def one_sample_proportion(success, n, val, alt):\n",
    "    zstat, pvalue = proportions_ztest(count = success, nobs = n, value = val, \\\n",
    "                                      alternative = alt, prop_var = H0)\n",
    "    print(\"Test statistik\\t:\", zstat)\n",
    "    print(\"p-value\\t\\t:\", pvalue)\n",
    "    if pvalue > 0.05:\n",
    "        print(\"Hipotesis nol diterima\")\n",
    "    else:\n",
    "        print(\"Hipotesis nol ditolak\")"
   ]
  },
  {
   "cell_type": "markdown",
   "metadata": {},
   "source": [
    "    d. Proporsi nilai Diameter yang lebih dari 85, adalah tidak sama dengan 15% ?\n",
    "        1. H0: p = 0.15\n",
    "        2. H1: p != 0.15\n",
    "        3. alpha = 0.05\n",
    "        4. Tes statistik = (alternative-probability - H0) / sqrt(H0 * (1 - H0) / n)\n",
    "        5. Hitung nilai uji statistik, Mencari p-value\n",
    "        6. Keputusan"
   ]
  },
  {
   "cell_type": "code",
   "execution_count": 66,
   "metadata": {
    "scrolled": false
   },
   "outputs": [
    {
     "name": "stdout",
     "output_type": "stream",
     "text": [
      "Test statistik\t: 2.755386880774658\n",
      "p-value\t\t: 0.005862277168409654\n",
      "Hipotesis nol ditolak\n"
     ]
    }
   ],
   "source": [
    "\n",
    "# 4.d.4, 4.d.5, 4.d.6\n",
    "H0 = 0.15\n",
    "greater = gandum[gandum[\"Diameter\"] > 85][\"Diameter\"].count() # Diameter > 85\n",
    "count = gandum[\"Diameter\"].count()\n",
    "one_sample_proportion(greater, count, H0, 'two-sided')"
   ]
  },
  {
   "cell_type": "code",
   "execution_count": 67,
   "metadata": {},
   "outputs": [
    {
     "data": {
      "text/plain": [
       "<AxesSubplot:>"
      ]
     },
     "execution_count": 67,
     "metadata": {},
     "output_type": "execute_result"
    },
    {
     "data": {
      "image/png": "[encoded data removed]",
      "text/plain": [
       "<Figure size 432x288 with 1 Axes>"
      ]
     },
     "metadata": {
      "needs_background": "light"
     },
     "output_type": "display_data"
    }
   ],
   "source": [
    "# Box plot Diameter\n",
    "gandum[\"Diameter\"].plot(kind = 'box')"
   ]
  },
  {
   "cell_type": "code",
   "execution_count": 68,
   "metadata": {},
   "outputs": [
    {
     "data": {
      "text/plain": [
       "<AxesSubplot:xlabel='Diameter', ylabel='Density'>"
      ]
     },
     "execution_count": 68,
     "metadata": {},
     "output_type": "execute_result"
    },
    {
     "data": {
      "image/png": "[encoded data removed]",
      "text/plain": [
       "<Figure size 432x288 with 1 Axes>"
      ]
     },
     "metadata": {
      "needs_background": "light"
     },
     "output_type": "display_data"
    }
   ],
   "source": [
    "# Distribution plot Diameter\n",
    "seaborn.distplot(gandum[\"Diameter\"])"
   ]
  },
  {
   "cell_type": "markdown",
   "metadata": {},
   "source": [
    "    e. Proporsi nilai Keliling yang kurang dari 100, adalah kurang dari 5% ?\n",
    "        1. H0: p = 0.05\n",
    "        2. H1: p < 0.05\n",
    "        3. alpha = 0.05\n",
    "        4. Tes statistik = (alternative-probability - H0) / sqrt(H0 * (1 - H0) / n)\n",
    "        5. Hitung nilai uji statistik, Mencari p-value\n",
    "        6. Keputusan"
   ]
  },
  {
   "cell_type": "code",
   "execution_count": 69,
   "metadata": {
    "scrolled": true
   },
   "outputs": [
    {
     "name": "stdout",
     "output_type": "stream",
     "text": [
      "Test statistik\t: -5.129891760425771\n",
      "p-value\t\t: 1.4495441414387716e-07\n",
      "Hipotesis nol ditolak\n"
     ]
    }
   ],
   "source": [
    "# 4.e.4, 4.e.5, 4.e.6\n",
    "H0 = 0.05\n",
    "less = gandum[gandum[\"Keliling\"] < 100][\"Keliling\"].count()\n",
    "count = gandum[\"Keliling\"].count()\n",
    "one_sample_proportion(less, count, H0, 'smaller')"
   ]
  },
  {
   "cell_type": "code",
   "execution_count": 70,
   "metadata": {},
   "outputs": [
    {
     "data": {
      "text/plain": [
       "<AxesSubplot:>"
      ]
     },
     "execution_count": 70,
     "metadata": {},
     "output_type": "execute_result"
    },
    {
     "data": {
      "image/png": "[encoded data removed]",
      "text/plain": [
       "<Figure size 432x288 with 1 Axes>"
      ]
     },
     "metadata": {
      "needs_background": "light"
     },
     "output_type": "display_data"
    }
   ],
   "source": [
    "# Box plot Keliling\n",
    "gandum[\"Keliling\"].plot(kind = 'box')"
   ]
  },
  {
   "cell_type": "code",
   "execution_count": 71,
   "metadata": {},
   "outputs": [
    {
     "data": {
      "text/plain": [
       "<AxesSubplot:xlabel='Keliling', ylabel='Density'>"
      ]
     },
     "execution_count": 71,
     "metadata": {},
     "output_type": "execute_result"
    },
    {
     "data": {
      "image/png": "[encoded data removed]",
      "text/plain": [
       "<Figure size 432x288 with 1 Axes>"
      ]
     },
     "metadata": {
      "needs_background": "light"
     },
     "output_type": "display_data"
    }
   ],
   "source": [
    "# Distribution plot Keliling\n",
    "seaborn.distplot(gandum[\"Keliling\"])"
   ]
  },
  {
   "cell_type": "markdown",
   "metadata": {},
   "source": [
    "### Soal5\n",
    "\n",
    "5. Melakukan test hipotesis 2 sampel, dengan menuliskan 6 langkah testing dan menampilkan juga boxplotnya untuk kolom/bagian yang bersesuaian."
   ]
  },
  {
   "cell_type": "code",
   "execution_count": 72,
   "metadata": {},
   "outputs": [],
   "source": [
    "# Fungsi test hipotesis 2 sampel\n",
    "def two_samples(one, two, var, alt): # var = expression kesamaan variance\n",
    "    r = ttest_ind(awal, akhir, equal_var = var, alternative = alt)\n",
    "    print(\"Test statistik\\t:\", r.statistic)\n",
    "    print(\"p-value\\t\\t:\", r.pvalue)\n",
    "    if r.pvalue > 0.05:\n",
    "        print(\"Hipotesis nol diterima\")\n",
    "    else:\n",
    "        print(\"Hipotesis nol ditolak\")"
   ]
  },
  {
   "cell_type": "markdown",
   "metadata": {},
   "source": [
    "    a. Data kolom AreaBulatan dibagi 2 sama rata: bagian awal dan bagian akhir kolom. \n",
    "       Benarkah rata-rata kedua bagian tersebut sama?\n",
    "        1. H0: µ1 = µ2\n",
    "        2. H1: µ1 != µ2\n",
    "        3. alpha = 0.05\n",
    "        4. Tes statistik = ((µ1 - µ2) - d0) / sqrt(var1/n1 + var2/n2)\n",
    "        5. Hitung nilai uji statistik, Mencari p-value\n",
    "        6. Keputusan"
   ]
  },
  {
   "cell_type": "code",
   "execution_count": 73,
   "metadata": {
    "scrolled": true
   },
   "outputs": [
    {
     "name": "stdout",
     "output_type": "stream",
     "text": [
      "Mean awal\t: 5549.804\n",
      "Mean akhir\t: 4324.292\n",
      "Test statistik\t: 17.013036648485464\n",
      "p-value\t\t: 2.941627764479393e-51\n",
      "Hipotesis nol ditolak\n"
     ]
    }
   ],
   "source": [
    "# 5.a.4, 5.a.5, 5.a.6\n",
    "# Bagian awal\n",
    "awal = gandum[\"AreaBulatan\"].head(int(gandum[\"AreaBulatan\"].count() / 2))\n",
    "# Bagian akhir\n",
    "akhir = gandum[\"AreaBulatan\"].tail(int(gandum[\"AreaBulatan\"].count() / 2))\n",
    "print(\"Mean awal\\t:\", awal.mean())\n",
    "print(\"Mean akhir\\t:\", akhir.mean())\n",
    "two_samples(awal, akhir, awal.var() == akhir.var(), 'two-sided')"
   ]
  },
  {
   "cell_type": "code",
   "execution_count": 74,
   "metadata": {
    "scrolled": true
   },
   "outputs": [
    {
     "data": {
      "text/plain": [
       "<AxesSubplot:xlabel='variable', ylabel='value'>"
      ]
     },
     "execution_count": 74,
     "metadata": {},
     "output_type": "execute_result"
    },
    {
     "data": {
      "image/png": "[encoded data removed]",
      "text/plain": [
       "<Figure size 432x288 with 1 Axes>"
      ]
     },
     "metadata": {
      "needs_background": "light"
     },
     "output_type": "display_data"
    }
   ],
   "source": [
    "# Boxplot 5.a\n",
    "toshow = pandas.DataFrame(columns = [\"awal\", \"akhir\"])\n",
    "toshow[\"awal\"] = awal\n",
    "toshow[\"akhir\"] = akhir.reset_index(drop = True)\n",
    "seaborn.boxplot(x = \"variable\", y = \"value\", data = pandas.melt(toshow))"
   ]
  },
  {
   "cell_type": "markdown",
   "metadata": {},
   "source": [
    "    b. Data kolom Kadar Air dibagi 2 sama rata: bagian awal dan bagian akhir kolom. \n",
    "       Benarkah rata-rata bagian awal lebih besar dari pada bagian akhir sebesar 0.2?\n",
    "        1. H0: µ1 - µ2 = 0.2\n",
    "        2. H1: µ1 - µ2 != 0.2\n",
    "        3. alpha = 0.05\n",
    "        4. Tes statistik = ((µ1 - µ2) - d0) / sqrt(var1/n1 + var2/n2)\n",
    "        5. Hitung nilai uji statistik, bandingkan dengan daerah kritis signifikansi\n",
    "        6. Keputusan"
   ]
  },
  {
   "cell_type": "code",
   "execution_count": 75,
   "metadata": {},
   "outputs": [],
   "source": [
    "# Fungsi menghitung z\n",
    "def calc_z(one, two, d0):\n",
    "    numerator = one.mean() - two.mean() - d0\n",
    "    denumerator = numpy.sqrt(one.var() / one.count() + two.var() / two.count())\n",
    "    return numerator / denumerator"
   ]
  },
  {
   "cell_type": "code",
   "execution_count": 76,
   "metadata": {},
   "outputs": [
    {
     "name": "stdout",
     "output_type": "stream",
     "text": [
      "Z\t: -26.903444249744968\n",
      "Z alpha\t: 1.959963984540054\n",
      "Hipotesis nol ditolak\n"
     ]
    }
   ],
   "source": [
    "# 5.b.4, 5.b.5, 5.b.6\n",
    "# Bagian awal Kadar Air\n",
    "alpha = 0.05\n",
    "awal = gandum[\"KadarAir\"].head(int(gandum[\"KadarAir\"].count() / 2))\n",
    "# Bagian akhir Kadar Air\n",
    "akhir = gandum[\"KadarAir\"].tail(int(gandum[\"KadarAir\"].count() / 2))\n",
    "z = calc_z(awal, akhir, 0.2)\n",
    "z_alpha = norm.ppf(1 - alpha / 2)\n",
    "print(\"Z\\t:\", z)\n",
    "print(\"Z alpha\\t:\", z_alpha)\n",
    "if -z_alpha < z < z_alpha:\n",
    "    print(\"Hipotesis nol diterima\")\n",
    "else: # z < -z_alpha || z > z_alpha\n",
    "    print(\"Hipotesis nol ditolak\")"
   ]
  },
  {
   "cell_type": "code",
   "execution_count": 77,
   "metadata": {
    "scrolled": true
   },
   "outputs": [
    {
     "data": {
      "text/plain": [
       "<AxesSubplot:xlabel='variable', ylabel='value'>"
      ]
     },
     "execution_count": 77,
     "metadata": {},
     "output_type": "execute_result"
    },
    {
     "data": {
      "image/png": "[encoded data removed]",
      "text/plain": [
       "<Figure size 432x288 with 1 Axes>"
      ]
     },
     "metadata": {
      "needs_background": "light"
     },
     "output_type": "display_data"
    }
   ],
   "source": [
    "# Boxplot 5.b\n",
    "toshow = pandas.DataFrame(columns = [\"awal\", \"akhir\"])\n",
    "toshow[\"awal\"] = awal\n",
    "toshow[\"akhir\"] = akhir.reset_index(drop = True)\n",
    "seaborn.boxplot(x = \"variable\", y = \"value\", data = pandas.melt(toshow))"
   ]
  },
  {
   "cell_type": "markdown",
   "metadata": {},
   "source": [
    "    c. Rata-rata 20 baris pertama kolom Bulatan sama dengan 20 baris terakhirnya?\n",
    "        1. H0: µ1 = µ2\n",
    "        2. H1: µ1 != µ2\n",
    "        3. alpha = 0.05\n",
    "        4. Tes statistik = ((µ1 - µ2) - d0) / sqrt(var1/n1 + var2/n2)\n",
    "        5. Hitung nilai uji statistik, Mencari p-value\n",
    "        6. Keputusan"
   ]
  },
  {
   "cell_type": "code",
   "execution_count": 78,
   "metadata": {
    "scrolled": true
   },
   "outputs": [
    {
     "name": "stdout",
     "output_type": "stream",
     "text": [
      "Mean 20 pertama\t: 0.73753535525\n",
      "Mean 20 akhir\t: 0.767322437\n",
      "Test statistik\t: -3.0164987047810152\n",
      "p-value\t\t: 0.0026879938180381017\n",
      "Hipotesis nol ditolak\n"
     ]
    }
   ],
   "source": [
    "# 5.c.4, 5.c.5, 5.c.6\n",
    "# 20 pertama\n",
    "first_twenty = gandum[\"Bulatan\"].head(20)\n",
    "# 20 akhir\n",
    "last_twenty = gandum[\"Bulatan\"].tail(20)\n",
    "print(\"Mean 20 pertama\\t:\", first_twenty.mean())\n",
    "print(\"Mean 20 akhir\\t:\", last_twenty.mean())\n",
    "two_samples(first_twenty, last_twenty, \\\n",
    "            first_twenty.var() == last_twenty.var(), 'two-sided')"
   ]
  },
  {
   "cell_type": "code",
   "execution_count": 79,
   "metadata": {},
   "outputs": [
    {
     "data": {
      "text/plain": [
       "<AxesSubplot:xlabel='variable', ylabel='value'>"
      ]
     },
     "execution_count": 79,
     "metadata": {},
     "output_type": "execute_result"
    },
    {
     "data": {
      "image/png": "[encoded data removed]",
      "text/plain": [
       "<Figure size 432x288 with 1 Axes>"
      ]
     },
     "metadata": {
      "needs_background": "light"
     },
     "output_type": "display_data"
    }
   ],
   "source": [
    "# Boxplot 5.c\n",
    "toshow = pandas.DataFrame(columns = [\"20 pertama\", \"20 akhir\"])\n",
    "toshow[\"20 pertama\"] = first_twenty\n",
    "toshow[\"20 akhir\"] = last_twenty.reset_index(drop = True)\n",
    "seaborn.boxplot(x = \"variable\", y = \"value\", data = pandas.melt(toshow))"
   ]
  },
  {
   "cell_type": "markdown",
   "metadata": {},
   "source": [
    "    d. Proporsi nilai bagian awal Ransum yang lebih dari 2, adalah lebih besar daripada, proporsi nilai yang sama di bagian akhir Ransum?\n",
    "        1. H0: p1 = p2\n",
    "        2. H1: p1 > p2\n",
    "        3. alpha = 0.05\n",
    "        4. Tes statistik = (p1 - p2) / sqrt(p * q * (1 / n1 + 1 / n2))\n",
    "        5. Hitung nilai uji statistik, bandingkan dengan daerah kritis signifikansi\n",
    "        6. Keputusan"
   ]
  },
  {
   "cell_type": "code",
   "execution_count": 80,
   "metadata": {},
   "outputs": [
    {
     "name": "stdout",
     "output_type": "stream",
     "text": [
      "Z\t: 13.397486455610238\n",
      "Z alpha\t: 1.6448536269514722\n",
      "Hipotesis nol ditolak\n"
     ]
    }
   ],
   "source": [
    "# 5.d.4, 5.d.5, 5.d.6\n",
    "alpha = 0.05 # signifikansi alpha\n",
    "def calc_ptopi(x, nobs): # kalkulasi p topi\n",
    "    return x / nobs\n",
    "\n",
    "# Bagian awal Ransum\n",
    "awal = gandum.head(int(gandum[\"Ransum\"].count() / 2))\n",
    "cawal = awal[\"Ransum\"].count() # count total awal\n",
    "awal = awal[awal[\"Ransum\"] > 2][\"Ransum\"] # awal > 2\n",
    "\n",
    "# Bagian akhir ransum\n",
    "akhir = gandum.tail(int(gandum[\"Ransum\"].count() / 2))\n",
    "cakhir = akhir[\"Ransum\"].count() # count total akhir\n",
    "akhir = akhir[akhir[\"Ransum\"] > 2][\"Ransum\"] # akhir > 2\n",
    "\n",
    "pTopi1 = calc_ptopi(awal.count(), cawal)\n",
    "pTopi2 = calc_ptopi(akhir.count(), cakhir)\n",
    "\n",
    "pTopi = (awal.count() + akhir.count()) / (cawal + cakhir)\n",
    "qTopi = 1 - pTopi\n",
    "\n",
    "Z = (pTopi1 - pTopi2) / numpy.sqrt(pTopi * qTopi * (1 / cawal + 1 / cakhir))\n",
    "Zalpha = norm.ppf(1 - alpha)\n",
    "\n",
    "print(\"Z\\t:\", Z)\n",
    "print(\"Z alpha\\t:\", Zalpha)\n",
    "\n",
    "if Z > Zalpha:\n",
    "    print(\"Hipotesis nol ditolak\")\n",
    "else:\n",
    "    print(\"Hipotesis nol diterima\")"
   ]
  },
  {
   "cell_type": "code",
   "execution_count": 81,
   "metadata": {},
   "outputs": [
    {
     "data": {
      "text/plain": [
       "<AxesSubplot:xlabel='variable', ylabel='value'>"
      ]
     },
     "execution_count": 81,
     "metadata": {},
     "output_type": "execute_result"
    },
    {
     "data": {
      "image/png": "[encoded data removed]",
      "text/plain": [
       "<Figure size 432x288 with 1 Axes>"
      ]
     },
     "metadata": {
      "needs_background": "light"
     },
     "output_type": "display_data"
    }
   ],
   "source": [
    "# Boxplot 5.d\n",
    "half = int(gandum[\"Ransum\"].count() / 2)\n",
    "toshow = pandas.DataFrame(columns = [\"awal\", \"akhir\"])\n",
    "showAwal = gandum[\"Ransum\"].head(half)\n",
    "showAkhir = gandum[\"Ransum\"].tail(half)\n",
    "toshow[\"awal\"] = showAwal\n",
    "toshow[\"akhir\"] = showAkhir.reset_index(drop = True)\n",
    "seaborn.boxplot(x = \"variable\", y = \"value\", data = pandas.melt(toshow))"
   ]
  },
  {
   "cell_type": "markdown",
   "metadata": {},
   "source": [
    "    e. Bagian awal kolom Diameter memiliki variansi yang sama dengan bagian akhirnya?\n",
    "        1. H0: σ2 1 = σ2 2 (variansi)\n",
    "        2. H1: σ2 1 != σ2 2 (variansi)    \n",
    "        3. alpha = 0.05\n",
    "        4. Tes statistik = ((µ1 - µ2) - d0) / sqrt(var1/n1 + var2/n2)\n",
    "        5. Hitung nilai uji statistik, bandingkan dengan daerah kritis signifikansi\n",
    "        6. Keputusan"
   ]
  },
  {
   "cell_type": "code",
   "execution_count": 82,
   "metadata": {},
   "outputs": [
    {
     "name": "stdout",
     "output_type": "stream",
     "text": [
      "f\t: 1.0838780220421884\n",
      "f0.975\t: 1.2827228078241388\n",
      "f0.025\t: 0.7795916576054985\n",
      "Hipotesis nol diterima\n"
     ]
    }
   ],
   "source": [
    "# 5.e.4, 5.e.5, 5.e.6\n",
    "# Bagian Awal Diameter\n",
    "awal = gandum[\"Diameter\"].head(int(gandum[\"Diameter\"].count() / 2))\n",
    "# Bagian Akhir Diameter\n",
    "akhir = gandum[\"Diameter\"].tail(int(gandum[\"Diameter\"].count() / 2))\n",
    "\n",
    "f = awal.var() / akhir.var() # F tes statistik\n",
    "\n",
    "v1 = awal.count() - 1 # v1\n",
    "v2 = akhir.count() - 1 # v2\n",
    "\n",
    "upp = scipy.stats.f.ppf(q = 0.975, dfn = v1, dfd = v2) # f0.975(v1, v2)\n",
    "low = scipy.stats.f.ppf(q = 0.025, dfn = v1, dfd = v2) # f0.025(v1, v2)\n",
    "SUB = str.maketrans(\"0123456789\", \"₀₁₂₃₄₅₆₇₈₉\")\n",
    "\n",
    "print(\"f\\t:\", f)\n",
    "print(\"f0.975\\t:\", upp)\n",
    "print(\"f0.025\\t:\", low)\n",
    "\n",
    "if low < f < upp:\n",
    "    print(\"Hipotesis nol diterima\")\n",
    "else:\n",
    "    print(\"Hipotesis nol ditolak\")"
   ]
  },
  {
   "cell_type": "code",
   "execution_count": 83,
   "metadata": {},
   "outputs": [
    {
     "data": {
      "text/plain": [
       "<AxesSubplot:xlabel='variable', ylabel='value'>"
      ]
     },
     "execution_count": 83,
     "metadata": {},
     "output_type": "execute_result"
    },
    {
     "data": {
      "image/png": "[encoded data removed]",
      "text/plain": [
       "<Figure size 432x288 with 1 Axes>"
      ]
     },
     "metadata": {
      "needs_background": "light"
     },
     "output_type": "display_data"
    }
   ],
   "source": [
    "# Boxplot 5.e\n",
    "toshow = pandas.DataFrame(columns = [\"awal\", \"akhir\"])\n",
    "toshow[\"awal\"] = awal\n",
    "toshow[\"akhir\"] = akhir.reset_index(drop = True)\n",
    "seaborn.boxplot(x = \"variable\", y = \"value\", data = pandas.melt(toshow))"
   ]
  },
  {
   "cell_type": "markdown",
   "metadata": {},
   "source": [
    "### Soal6\n",
    "\n",
    "6. Test korelasi: tentukan apakah setiap kolom non-target berkorelasi dengan kolom target, dengan menggambarkan juga scatter plot nya. Gunakan correlation test."
   ]
  },
  {
   "cell_type": "code",
   "execution_count": 84,
   "metadata": {
    "scrolled": true
   },
   "outputs": [
    {
     "data": {
      "text/plain": [
       "Daerah        -0.602747\n",
       "SumbuUtama    -0.713091\n",
       "SumbuKecil    -0.152975\n",
       "Keunikan      -0.730456\n",
       "AreaBulatan   -0.607313\n",
       "Diameter      -0.602536\n",
       "KadarAir       0.134344\n",
       "Keliling      -0.634861\n",
       "Bulatan        0.545005\n",
       "Ransum        -0.839904\n",
       "Kelas          1.000000\n",
       "Name: Kelas, dtype: float64"
      ]
     },
     "execution_count": 84,
     "metadata": {},
     "output_type": "execute_result"
    }
   ],
   "source": [
    "# Korelasi tes\n",
    "target = pandas.DataFrame(gandum[\"Kelas\"])\n",
    "daerah = pandas.DataFrame(gandum[\"Daerah\"])\n",
    "sumbu_utama = pandas.DataFrame(gandum[\"SumbuUtama\"])\n",
    "sumbu_kecil = pandas.DataFrame(gandum[\"SumbuKecil\"])\n",
    "keunikan = pandas.DataFrame(gandum[\"Keunikan\"])\n",
    "area_bulatan = pandas.DataFrame(gandum[\"AreaBulatan\"])\n",
    "diameter = pandas.DataFrame(gandum[\"Diameter\"])\n",
    "kadar_air = pandas.DataFrame(gandum[\"KadarAir\"])\n",
    "keliling = pandas.DataFrame(gandum[\"Keliling\"])\n",
    "bulatan = pandas.DataFrame(gandum[\"Bulatan\"])\n",
    "ransum = pandas.DataFrame(gandum[\"Ransum\"])\n",
    "gandum[gandum.columns[1:]].corr()[\"Kelas\"][:]"
   ]
  },
  {
   "cell_type": "code",
   "execution_count": 85,
   "metadata": {},
   "outputs": [],
   "source": [
    "def print_correlation(name, var):\n",
    "    print(\"Korelasi\", name, \"dan target (Kelas)\")\n",
    "    print(\"Koefisien korelasi\\t:\", var[0])\n",
    "    print(\"p-value\\t\\t\\t:\", var[1])\n",
    "    if (var[1] < 0.05):\n",
    "        print(\"Kolom\", name, \"dan target (Kelas) berkorelasi\")\n",
    "    else:\n",
    "        print(\"Kolom\", name, \"dan target (Kelas) TIDAK berkorelasi\")\n",
    "    print()"
   ]
  },
  {
   "cell_type": "code",
   "execution_count": 86,
   "metadata": {},
   "outputs": [
    {
     "name": "stdout",
     "output_type": "stream",
     "text": [
      "Korelasi Daerah dan target (Kelas)\n",
      "Koefisien korelasi\t: -0.6027466517416677\n",
      "p-value\t\t\t: 8.925696449471519e-51\n",
      "Kolom Daerah dan target (Kelas) berkorelasi\n",
      "\n",
      "Korelasi Sumbu Utama dan target (Kelas)\n",
      "Koefisien korelasi\t: -0.7130906104204615\n",
      "p-value\t\t\t: 7.742407802536857e-79\n",
      "Kolom Sumbu Utama dan target (Kelas) berkorelasi\n",
      "\n",
      "Korelasi Sumbu Kecil dan target (Kelas)\n",
      "Koefisien korelasi\t: -0.15297517335535066\n",
      "p-value\t\t\t: 0.0005985078116773203\n",
      "Kolom Sumbu Kecil dan target (Kelas) berkorelasi\n",
      "\n",
      "Korelasi Keunikan dan target (Kelas)\n",
      "Koefisien korelasi\t: -0.730456368651195\n",
      "p-value\t\t\t: 1.649679087551736e-84\n",
      "Kolom Keunikan dan target (Kelas) berkorelasi\n",
      "\n",
      "Korelasi Area Bulatan dan target (Kelas)\n",
      "Koefisien korelasi\t: -0.607312543415377\n",
      "p-value\t\t\t: 1.011380436294041e-51\n",
      "Kolom Area Bulatan dan target (Kelas) berkorelasi\n",
      "\n",
      "Korelasi Diameter dan target (Kelas)\n",
      "Koefisien korelasi\t: -0.602535689661883\n",
      "p-value\t\t\t: 9.862113990166241e-51\n",
      "Kolom Diameter dan target (Kelas) berkorelasi\n",
      "\n",
      "Korelasi Kadar Air dan target (Kelas)\n",
      "Koefisien korelasi\t: 0.13434422605727692\n",
      "p-value\t\t\t: 0.002611048361291256\n",
      "Kolom Kadar Air dan target (Kelas) berkorelasi\n",
      "\n",
      "Korelasi Keliling dan target (Kelas)\n",
      "Koefisien korelasi\t: -0.6348607454756877\n",
      "p-value\t\t\t: 9.078940431312404e-58\n",
      "Kolom Keliling dan target (Kelas) berkorelasi\n",
      "\n",
      "Korelasi Bulatan dan target (Kelas)\n",
      "Koefisien korelasi\t: 0.5450045317240089\n",
      "p-value\t\t\t: 5.0343757155626935e-40\n",
      "Kolom Bulatan dan target (Kelas) berkorelasi\n",
      "\n",
      "Korelasi Ransum dan target (Kelas)\n",
      "Koefisien korelasi\t: -0.8399038681287514\n",
      "p-value\t\t\t: 2.8400940867960593e-134\n",
      "Kolom Ransum dan target (Kelas) berkorelasi\n",
      "\n"
     ]
    }
   ],
   "source": [
    "# Korelasi tes Pearson\n",
    "kol_target = gandum[\"Kelas\"]\n",
    "corrDaerah = scipy.stats.pearsonr(kol_target, gandum[\"Daerah\"])\n",
    "corrSumbuUtama = scipy.stats.pearsonr(kol_target, gandum[\"SumbuUtama\"])\n",
    "corrSumbuKecil = scipy.stats.pearsonr(kol_target, gandum[\"SumbuKecil\"])\n",
    "corrKeunikan = scipy.stats.pearsonr(kol_target, gandum[\"Keunikan\"])\n",
    "corrAreaBulatan = scipy.stats.pearsonr(kol_target, gandum[\"AreaBulatan\"])\n",
    "corrDiameter = scipy.stats.pearsonr(kol_target, gandum[\"Diameter\"])\n",
    "corrKadarAir = scipy.stats.pearsonr(kol_target, gandum[\"KadarAir\"])\n",
    "corrKeliling = scipy.stats.pearsonr(kol_target, gandum[\"Keliling\"])\n",
    "corrBulatan = scipy.stats.pearsonr(kol_target, gandum[\"Bulatan\"])\n",
    "corrRansum = scipy.stats.pearsonr(kol_target, gandum[\"Ransum\"])\n",
    "print_correlation(\"Daerah\", corrDaerah)\n",
    "print_correlation(\"Sumbu Utama\", corrSumbuUtama)\n",
    "print_correlation(\"Sumbu Kecil\", corrSumbuKecil)\n",
    "print_correlation(\"Keunikan\", corrKeunikan)\n",
    "print_correlation(\"Area Bulatan\", corrAreaBulatan)\n",
    "print_correlation(\"Diameter\", corrDiameter)\n",
    "print_correlation(\"Kadar Air\", corrKadarAir)\n",
    "print_correlation(\"Keliling\", corrKeliling)\n",
    "print_correlation(\"Bulatan\", corrBulatan)\n",
    "print_correlation(\"Ransum\", corrRansum)"
   ]
  },
  {
   "cell_type": "markdown",
   "metadata": {},
   "source": [
    "#### Hasil Korelasi Tes\n",
    "\n",
    "Ditentukan menggunakan aturan praktis oleh Rea dan Parker (1992), yaitu:\n",
    "\n",
    "    0.00 < 0.10 - Negligible\n",
    "    0.10 < 0.20 - Weak\n",
    "    0.20 < 0.40 - Moderate\n",
    "    0.40 < 0.60 - Relatively strong\n",
    "    0.60 < 0.80 - Strong\n",
    "    0.80 < 1.00 - Very strong\n",
    "\n",
    "- Korelasi Daerah dengan Target : -0.602747 (Merupakan korelasi yang Strong)\n",
    "\n",
    "- Korelasi Sumbu Utama dengan Target : -0.713091 (Merupakan korelasi yang Strong)\n",
    "\n",
    "- Korelasi Sumbu Kecil dengan Target : -0.152975 (Merupakan korelasi yang Weak)\n",
    "\n",
    "- Korelasi Keunikan dengan Target : -0.730456 (Merupakan korelasi yang Strong)\n",
    "\n",
    "- Korelasi Area Bulatan dengan Target : -0.607313 (Merupakan korelasi yang Strong)\n",
    "\n",
    "- Korelasi Diameter dengan Target : -0.602536 (Merupakan korelasi yang Strong)\n",
    "\n",
    "- Korelasi KadarAir dengan Target : 0.134344 (Merupakan korelasi yang Weak)\n",
    "\n",
    "- Korelasi Keliling dengan Target : -0.634861 (Merupakan korelasi yang Strong)\n",
    "\n",
    "- Korelasi Bulatan dengan Target : 0.545005 (Merupakan korelasi yang Relatively Strong)\n",
    "\n",
    "- Korelasi Ransum dengan Target : -0.839904 (Merupakan korelasi yang Very Strong)\n"
   ]
  },
  {
   "cell_type": "markdown",
   "metadata": {},
   "source": [
    "##### Penjelasan\n",
    "Jika (-), maka korelasi negatif yang menandakan bahwa jika satu kolom berkurang maka yang lainnya bertambah\n",
    "\n",
    "Jika (+), maka korelasi positif yang menandakan bahwa jika saut kolom bertambah/berkurang maka kolom lainnya juga mengikuti"
   ]
  },
  {
   "cell_type": "code",
   "execution_count": 87,
   "metadata": {
    "scrolled": true
   },
   "outputs": [
    {
     "data": {
      "text/plain": [
       "[<matplotlib.lines.Line2D at 0x27f8c0cfd00>]"
      ]
     },
     "execution_count": 87,
     "metadata": {},
     "output_type": "execute_result"
    },
    {
     "data": {
      "image/png": "[encoded data removed]",
      "text/plain": [
       "<Figure size 432x288 with 1 Axes>"
      ]
     },
     "metadata": {
      "needs_background": "light"
     },
     "output_type": "display_data"
    }
   ],
   "source": [
    "# Scatter plot kolom daerah dengan target (kelas)\n",
    "fig, ax = matplotlib.pyplot.subplots(1, 1)\n",
    "ax.plot(daerah, target, '.')"
   ]
  },
  {
   "cell_type": "code",
   "execution_count": 88,
   "metadata": {
    "scrolled": true
   },
   "outputs": [
    {
     "data": {
      "text/plain": [
       "[<matplotlib.lines.Line2D at 0x27f8c11dd30>]"
      ]
     },
     "execution_count": 88,
     "metadata": {},
     "output_type": "execute_result"
    },
    {
     "data": {
      "image/png": "[encoded data removed]",
      "text/plain": [
       "<Figure size 432x288 with 1 Axes>"
      ]
     },
     "metadata": {
      "needs_background": "light"
     },
     "output_type": "display_data"
    }
   ],
   "source": [
    "# Scatter plot kolom sumbu utama dengan target (kelas)\n",
    "fig, ax = matplotlib.pyplot.subplots(1, 1)\n",
    "ax.plot(sumbu_utama, target, '.')"
   ]
  },
  {
   "cell_type": "code",
   "execution_count": 89,
   "metadata": {},
   "outputs": [
    {
     "data": {
      "text/plain": [
       "[<matplotlib.lines.Line2D at 0x27f8c17e5e0>]"
      ]
     },
     "execution_count": 89,
     "metadata": {},
     "output_type": "execute_result"
    },
    {
     "data": {
      "image/png": "[encoded data removed]",
      "text/plain": [
       "<Figure size 432x288 with 1 Axes>"
      ]
     },
     "metadata": {
      "needs_background": "light"
     },
     "output_type": "display_data"
    }
   ],
   "source": [
    "# Scatter plot kolom sumbu kecil dengan target (kelas)\n",
    "fig, ax = matplotlib.pyplot.subplots(1, 1)\n",
    "ax.plot(sumbu_kecil, target, '.')"
   ]
  },
  {
   "cell_type": "code",
   "execution_count": 90,
   "metadata": {},
   "outputs": [
    {
     "data": {
      "text/plain": [
       "[<matplotlib.lines.Line2D at 0x27f8c1cecd0>]"
      ]
     },
     "execution_count": 90,
     "metadata": {},
     "output_type": "execute_result"
    },
    {
     "data": {
      "image/png": "[encoded data removed]",
      "text/plain": [
       "<Figure size 432x288 with 1 Axes>"
      ]
     },
     "metadata": {
      "needs_background": "light"
     },
     "output_type": "display_data"
    }
   ],
   "source": [
    "# Scatter plot kolom keunikan dengan target (kelas)\n",
    "fig, ax = matplotlib.pyplot.subplots(1, 1)\n",
    "ax.plot(keunikan, target, '.')"
   ]
  },
  {
   "cell_type": "code",
   "execution_count": 91,
   "metadata": {},
   "outputs": [
    {
     "data": {
      "text/plain": [
       "[<matplotlib.lines.Line2D at 0x27f8c22b940>]"
      ]
     },
     "execution_count": 91,
     "metadata": {},
     "output_type": "execute_result"
    },
    {
     "data": {
      "image/png": "[encoded data removed]",
      "text/plain": [
       "<Figure size 432x288 with 1 Axes>"
      ]
     },
     "metadata": {
      "needs_background": "light"
     },
     "output_type": "display_data"
    }
   ],
   "source": [
    "# Scatter plot kolom area bulatan dengan target (kelas)\n",
    "fig, ax = matplotlib.pyplot.subplots(1, 1)\n",
    "ax.plot(area_bulatan, target, '.')"
   ]
  },
  {
   "cell_type": "code",
   "execution_count": 92,
   "metadata": {},
   "outputs": [
    {
     "data": {
      "text/plain": [
       "[<matplotlib.lines.Line2D at 0x27f8c282610>]"
      ]
     },
     "execution_count": 92,
     "metadata": {},
     "output_type": "execute_result"
    },
    {
     "data": {
      "image/png": "[encoded data removed]",
      "text/plain": [
       "<Figure size 432x288 with 1 Axes>"
      ]
     },
     "metadata": {
      "needs_background": "light"
     },
     "output_type": "display_data"
    }
   ],
   "source": [
    "# Scatter plot kolom diameter dengan target (kelas)\n",
    "fig, ax = matplotlib.pyplot.subplots(1, 1)\n",
    "ax.plot(diameter, target, '.')"
   ]
  },
  {
   "cell_type": "code",
   "execution_count": 93,
   "metadata": {},
   "outputs": [
    {
     "data": {
      "text/plain": [
       "[<matplotlib.lines.Line2D at 0x27f893d9850>]"
      ]
     },
     "execution_count": 93,
     "metadata": {},
     "output_type": "execute_result"
    },
    {
     "data": {
      "image/png": "[encoded data removed]",
      "text/plain": [
       "<Figure size 432x288 with 1 Axes>"
      ]
     },
     "metadata": {
      "needs_background": "light"
     },
     "output_type": "display_data"
    }
   ],
   "source": [
    "# Scatter plot kolom kadar air dengan target (kelas)\n",
    "fig, ax = matplotlib.pyplot.subplots(1, 1)\n",
    "ax.plot(kadar_air, target, '.')"
   ]
  },
  {
   "cell_type": "code",
   "execution_count": 94,
   "metadata": {},
   "outputs": [
    {
     "data": {
      "text/plain": [
       "[<matplotlib.lines.Line2D at 0x27f8ad975e0>]"
      ]
     },
     "execution_count": 94,
     "metadata": {},
     "output_type": "execute_result"
    },
    {
     "data": {
      "image/png": "[encoded data removed]",
      "text/plain": [
       "<Figure size 432x288 with 1 Axes>"
      ]
     },
     "metadata": {
      "needs_background": "light"
     },
     "output_type": "display_data"
    }
   ],
   "source": [
    "# Scatter plot kolom keliling dengan target (kelas)\n",
    "fig, ax = matplotlib.pyplot.subplots(1, 1)\n",
    "ax.plot(keliling, target, '.')"
   ]
  },
  {
   "cell_type": "code",
   "execution_count": 95,
   "metadata": {},
   "outputs": [
    {
     "data": {
      "text/plain": [
       "[<matplotlib.lines.Line2D at 0x27f8c35e610>]"
      ]
     },
     "execution_count": 95,
     "metadata": {},
     "output_type": "execute_result"
    },
    {
     "data": {
      "image/png": "[encoded data removed]",
      "text/plain": [
       "<Figure size 432x288 with 1 Axes>"
      ]
     },
     "metadata": {
      "needs_background": "light"
     },
     "output_type": "display_data"
    }
   ],
   "source": [
    "# Scatter plot kolom bulatan dengan target (kelas)\n",
    "fig, ax = matplotlib.pyplot.subplots(1, 1)\n",
    "ax.plot(bulatan, target, '.')"
   ]
  },
  {
   "cell_type": "code",
   "execution_count": 96,
   "metadata": {},
   "outputs": [
    {
     "data": {
      "text/plain": [
       "[<matplotlib.lines.Line2D at 0x27f8c3b7970>]"
      ]
     },
     "execution_count": 96,
     "metadata": {},
     "output_type": "execute_result"
    },
    {
     "data": {
      "image/png": "[encoded data removed]",
      "text/plain": [
       "<Figure size 432x288 with 1 Axes>"
      ]
     },
     "metadata": {
      "needs_background": "light"
     },
     "output_type": "display_data"
    }
   ],
   "source": [
    "# Scatter plot kolom ransum dengan target (kelas)\n",
    "fig, ax = matplotlib.pyplot.subplots(1, 1)\n",
    "ax.plot(ransum, target, '.')"
   ]
  }
 ],
 "metadata": {
  "kernelspec": {
   "display_name": "Python 3",
   "language": "python",
   "name": "python3"
  },
  "language_info": {
   "codemirror_mode": {
    "name": "ipython",
    "version": 3
   },
   "file_extension": ".py",
   "mimetype": "text/x-python",
   "name": "python",
   "nbconvert_exporter": "python",
   "pygments_lexer": "ipython3",
   "version": "3.8.8"
  }
 },
 "nbformat": 4,
 "nbformat_minor": 4
}
