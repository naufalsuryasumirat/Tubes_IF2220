{
 "cells": [
  {
   "cell_type": "markdown",
   "metadata": {},
   "source": [
    "# Tubes IF2220 Probabilitas dan Statistika\n",
    "Naufal Alexander Suryasumirat - 13519135\n",
    "\n",
    "Naufal Yahya Kurnianto - 13519141"
   ]
  },
  {
   "cell_type": "markdown",
   "metadata": {},
   "source": [
    "* [Soal_1](#Soal_1)\n",
    "* [Soal_2](#Soal_2)\n",
    "* [Soal_3](#Soal_3)\n",
    "* [Soal_4](#Soal_4)\n",
    "* [Soal_5](#Soal_5)\n",
    "* [Soal_6](#Soal_6)"
   ]
  },
  {
   "cell_type": "code",
   "execution_count": 1,
   "metadata": {},
   "outputs": [],
   "source": [
    "import pandas\n",
    "import matplotlib.pyplot\n",
    "import numpy\n",
    "from scipy.stats import shapiro"
   ]
  },
  {
   "cell_type": "code",
   "execution_count": 2,
   "metadata": {},
   "outputs": [
    {
     "data": {
      "text/html": [
       "<div>\n",
       "<style scoped>\n",
       "    .dataframe tbody tr th:only-of-type {\n",
       "        vertical-align: middle;\n",
       "    }\n",
       "\n",
       "    .dataframe tbody tr th {\n",
       "        vertical-align: top;\n",
       "    }\n",
       "\n",
       "    .dataframe thead th {\n",
       "        text-align: right;\n",
       "    }\n",
       "</style>\n",
       "<table border=\"1\" class=\"dataframe\">\n",
       "  <thead>\n",
       "    <tr style=\"text-align: right;\">\n",
       "      <th></th>\n",
       "      <th>id</th>\n",
       "      <th>Daerah</th>\n",
       "      <th>SumbuUtama</th>\n",
       "      <th>SumbuKecil</th>\n",
       "      <th>Keunikan</th>\n",
       "      <th>AreaBulatan</th>\n",
       "      <th>Diameter</th>\n",
       "      <th>KadarAir</th>\n",
       "      <th>Keliling</th>\n",
       "      <th>Bulatan</th>\n",
       "      <th>Ransum</th>\n",
       "      <th>Kelas</th>\n",
       "    </tr>\n",
       "  </thead>\n",
       "  <tbody>\n",
       "    <tr>\n",
       "      <td>0</td>\n",
       "      <td>1</td>\n",
       "      <td>5781</td>\n",
       "      <td>128.288875</td>\n",
       "      <td>58.470846</td>\n",
       "      <td>0.890095</td>\n",
       "      <td>5954</td>\n",
       "      <td>85.793926</td>\n",
       "      <td>0.674090</td>\n",
       "      <td>316.756</td>\n",
       "      <td>0.724041</td>\n",
       "      <td>2.194066</td>\n",
       "      <td>1</td>\n",
       "    </tr>\n",
       "    <tr>\n",
       "      <td>1</td>\n",
       "      <td>2</td>\n",
       "      <td>4176</td>\n",
       "      <td>109.348294</td>\n",
       "      <td>49.837688</td>\n",
       "      <td>0.890098</td>\n",
       "      <td>4277</td>\n",
       "      <td>72.918093</td>\n",
       "      <td>0.596231</td>\n",
       "      <td>260.346</td>\n",
       "      <td>0.774227</td>\n",
       "      <td>2.194088</td>\n",
       "      <td>1</td>\n",
       "    </tr>\n",
       "    <tr>\n",
       "      <td>2</td>\n",
       "      <td>3</td>\n",
       "      <td>4555</td>\n",
       "      <td>114.427991</td>\n",
       "      <td>52.151207</td>\n",
       "      <td>0.890105</td>\n",
       "      <td>4706</td>\n",
       "      <td>76.155145</td>\n",
       "      <td>0.776641</td>\n",
       "      <td>279.606</td>\n",
       "      <td>0.732159</td>\n",
       "      <td>2.194158</td>\n",
       "      <td>1</td>\n",
       "    </tr>\n",
       "    <tr>\n",
       "      <td>3</td>\n",
       "      <td>4</td>\n",
       "      <td>4141</td>\n",
       "      <td>108.701191</td>\n",
       "      <td>49.457349</td>\n",
       "      <td>0.890499</td>\n",
       "      <td>4236</td>\n",
       "      <td>72.611879</td>\n",
       "      <td>0.633180</td>\n",
       "      <td>260.478</td>\n",
       "      <td>0.766960</td>\n",
       "      <td>2.197877</td>\n",
       "      <td>1</td>\n",
       "    </tr>\n",
       "    <tr>\n",
       "      <td>4</td>\n",
       "      <td>5</td>\n",
       "      <td>5273</td>\n",
       "      <td>122.747869</td>\n",
       "      <td>55.757848</td>\n",
       "      <td>0.890876</td>\n",
       "      <td>5431</td>\n",
       "      <td>81.937733</td>\n",
       "      <td>0.669842</td>\n",
       "      <td>302.730</td>\n",
       "      <td>0.723031</td>\n",
       "      <td>2.201446</td>\n",
       "      <td>1</td>\n",
       "    </tr>\n",
       "    <tr>\n",
       "      <td>...</td>\n",
       "      <td>...</td>\n",
       "      <td>...</td>\n",
       "      <td>...</td>\n",
       "      <td>...</td>\n",
       "      <td>...</td>\n",
       "      <td>...</td>\n",
       "      <td>...</td>\n",
       "      <td>...</td>\n",
       "      <td>...</td>\n",
       "      <td>...</td>\n",
       "      <td>...</td>\n",
       "      <td>...</td>\n",
       "    </tr>\n",
       "    <tr>\n",
       "      <td>495</td>\n",
       "      <td>496</td>\n",
       "      <td>5083</td>\n",
       "      <td>120.083450</td>\n",
       "      <td>54.821580</td>\n",
       "      <td>0.889709</td>\n",
       "      <td>5179</td>\n",
       "      <td>80.447975</td>\n",
       "      <td>0.534827</td>\n",
       "      <td>286.377</td>\n",
       "      <td>0.778850</td>\n",
       "      <td>2.190441</td>\n",
       "      <td>2</td>\n",
       "    </tr>\n",
       "    <tr>\n",
       "      <td>496</td>\n",
       "      <td>497</td>\n",
       "      <td>4432</td>\n",
       "      <td>112.367050</td>\n",
       "      <td>51.294914</td>\n",
       "      <td>0.889726</td>\n",
       "      <td>4550</td>\n",
       "      <td>75.119889</td>\n",
       "      <td>0.601194</td>\n",
       "      <td>270.823</td>\n",
       "      <td>0.759344</td>\n",
       "      <td>2.190608</td>\n",
       "      <td>2</td>\n",
       "    </tr>\n",
       "    <tr>\n",
       "      <td>497</td>\n",
       "      <td>498</td>\n",
       "      <td>5020</td>\n",
       "      <td>119.873742</td>\n",
       "      <td>54.718545</td>\n",
       "      <td>0.889740</td>\n",
       "      <td>5104</td>\n",
       "      <td>79.947874</td>\n",
       "      <td>0.528421</td>\n",
       "      <td>285.799</td>\n",
       "      <td>0.772311</td>\n",
       "      <td>2.190733</td>\n",
       "      <td>2</td>\n",
       "    </tr>\n",
       "    <tr>\n",
       "      <td>498</td>\n",
       "      <td>499</td>\n",
       "      <td>4035</td>\n",
       "      <td>107.311728</td>\n",
       "      <td>48.930802</td>\n",
       "      <td>0.889996</td>\n",
       "      <td>4150</td>\n",
       "      <td>71.676506</td>\n",
       "      <td>0.584698</td>\n",
       "      <td>258.503</td>\n",
       "      <td>0.758791</td>\n",
       "      <td>2.193132</td>\n",
       "      <td>2</td>\n",
       "    </tr>\n",
       "    <tr>\n",
       "      <td>499</td>\n",
       "      <td>500</td>\n",
       "      <td>3379</td>\n",
       "      <td>99.014789</td>\n",
       "      <td>44.631551</td>\n",
       "      <td>0.892647</td>\n",
       "      <td>3491</td>\n",
       "      <td>65.591741</td>\n",
       "      <td>0.653578</td>\n",
       "      <td>237.593</td>\n",
       "      <td>0.752196</td>\n",
       "      <td>2.218493</td>\n",
       "      <td>2</td>\n",
       "    </tr>\n",
       "  </tbody>\n",
       "</table>\n",
       "<p>500 rows × 12 columns</p>\n",
       "</div>"
      ],
      "text/plain": [
       "      id  Daerah  SumbuUtama  SumbuKecil  Keunikan  AreaBulatan   Diameter  \\\n",
       "0      1    5781  128.288875   58.470846  0.890095         5954  85.793926   \n",
       "1      2    4176  109.348294   49.837688  0.890098         4277  72.918093   \n",
       "2      3    4555  114.427991   52.151207  0.890105         4706  76.155145   \n",
       "3      4    4141  108.701191   49.457349  0.890499         4236  72.611879   \n",
       "4      5    5273  122.747869   55.757848  0.890876         5431  81.937733   \n",
       "..   ...     ...         ...         ...       ...          ...        ...   \n",
       "495  496    5083  120.083450   54.821580  0.889709         5179  80.447975   \n",
       "496  497    4432  112.367050   51.294914  0.889726         4550  75.119889   \n",
       "497  498    5020  119.873742   54.718545  0.889740         5104  79.947874   \n",
       "498  499    4035  107.311728   48.930802  0.889996         4150  71.676506   \n",
       "499  500    3379   99.014789   44.631551  0.892647         3491  65.591741   \n",
       "\n",
       "     KadarAir  Keliling   Bulatan    Ransum  Kelas  \n",
       "0    0.674090   316.756  0.724041  2.194066      1  \n",
       "1    0.596231   260.346  0.774227  2.194088      1  \n",
       "2    0.776641   279.606  0.732159  2.194158      1  \n",
       "3    0.633180   260.478  0.766960  2.197877      1  \n",
       "4    0.669842   302.730  0.723031  2.201446      1  \n",
       "..        ...       ...       ...       ...    ...  \n",
       "495  0.534827   286.377  0.778850  2.190441      2  \n",
       "496  0.601194   270.823  0.759344  2.190608      2  \n",
       "497  0.528421   285.799  0.772311  2.190733      2  \n",
       "498  0.584698   258.503  0.758791  2.193132      2  \n",
       "499  0.653578   237.593  0.752196  2.218493      2  \n",
       "\n",
       "[500 rows x 12 columns]"
      ]
     },
     "execution_count": 2,
     "metadata": {},
     "output_type": "execute_result"
    }
   ],
   "source": [
    "column_names = [\"id\", \"Daerah\", \"SumbuUtama\", \"SumbuKecil\", \"Keunikan\", \"AreaBulatan\", \"Diameter\", \"KadarAir\", \"Keliling\", \"Bulatan\", \"Ransum\", \"Kelas\"]\n",
    "gandum = pandas.read_csv(\"./../test/Gandum.csv\", header = None, names = column_names)\n",
    "gandum  # Memperlihatkan Gandum.csv\n",
    "        # Kolom 2 - 11 adalah kolom atribut (non-target), kolom 12 adalah target"
   ]
  },
  {
   "cell_type": "markdown",
   "metadata": {},
   "source": [
    "### Soal_1\n",
    "1. Menulis deskripsi statistika (Descriptive Statistics) dari semua kolom pada data yang bersifat numerik, terdiri dari mean, median, modus, standar deviasi, variansi, range, nilai minimum, maksimum, kuartil, IQR, skewness dan kurtosis. Boleh juga ditambahkan deskripsi lain."
   ]
  },
  {
   "cell_type": "code",
   "execution_count": 39,
   "metadata": {
    "scrolled": true
   },
   "outputs": [
    {
     "data": {
      "text/html": [
       "<div>\n",
       "<style scoped>\n",
       "    .dataframe tbody tr th:only-of-type {\n",
       "        vertical-align: middle;\n",
       "    }\n",
       "\n",
       "    .dataframe tbody tr th {\n",
       "        vertical-align: top;\n",
       "    }\n",
       "\n",
       "    .dataframe thead th {\n",
       "        text-align: right;\n",
       "    }\n",
       "</style>\n",
       "<table border=\"1\" class=\"dataframe\">\n",
       "  <thead>\n",
       "    <tr style=\"text-align: right;\">\n",
       "      <th></th>\n",
       "      <th>Mean</th>\n",
       "      <th>Median</th>\n",
       "      <th>Modus</th>\n",
       "      <th>Std.Deviasi</th>\n",
       "      <th>Variansi</th>\n",
       "      <th>Range</th>\n",
       "      <th>Maksimum</th>\n",
       "      <th>Minimum</th>\n",
       "      <th>Q1</th>\n",
       "      <th>Q3</th>\n",
       "      <th>IQR</th>\n",
       "      <th>Skewness</th>\n",
       "      <th>Kurtosis</th>\n",
       "    </tr>\n",
       "  </thead>\n",
       "  <tbody>\n",
       "    <tr>\n",
       "      <td>Daerah</td>\n",
       "      <td>4801.246000</td>\n",
       "      <td>4735.000000</td>\n",
       "      <td>3992, 4881, 5642, 6083</td>\n",
       "      <td>986.395491</td>\n",
       "      <td>9.729761e+05</td>\n",
       "      <td>4932.000000</td>\n",
       "      <td>7453.000000</td>\n",
       "      <td>2522.000000</td>\n",
       "      <td>4042.750000</td>\n",
       "      <td>5495.500000</td>\n",
       "      <td>1452.750000</td>\n",
       "      <td>0.238144</td>\n",
       "      <td>-0.434631</td>\n",
       "    </tr>\n",
       "    <tr>\n",
       "      <td>SumbuUtama</td>\n",
       "      <td>116.045171</td>\n",
       "      <td>115.405140</td>\n",
       "      <td>74.13311404, 74.36402121, 74.69188071, 76.2931...</td>\n",
       "      <td>18.282626</td>\n",
       "      <td>3.342544e+02</td>\n",
       "      <td>154.795469</td>\n",
       "      <td>227.928583</td>\n",
       "      <td>74.133114</td>\n",
       "      <td>104.116098</td>\n",
       "      <td>129.046792</td>\n",
       "      <td>24.930694</td>\n",
       "      <td>0.761529</td>\n",
       "      <td>4.330534</td>\n",
       "    </tr>\n",
       "    <tr>\n",
       "      <td>SumbuKecil</td>\n",
       "      <td>53.715246</td>\n",
       "      <td>53.731199</td>\n",
       "      <td>39.90651744, 41.43641868, 42.87187941, 43.2849...</td>\n",
       "      <td>4.071075</td>\n",
       "      <td>1.657365e+01</td>\n",
       "      <td>30.071182</td>\n",
       "      <td>68.977700</td>\n",
       "      <td>39.906517</td>\n",
       "      <td>51.193576</td>\n",
       "      <td>56.325158</td>\n",
       "      <td>5.131582</td>\n",
       "      <td>-0.010828</td>\n",
       "      <td>0.475568</td>\n",
       "    </tr>\n",
       "    <tr>\n",
       "      <td>Keunikan</td>\n",
       "      <td>0.878764</td>\n",
       "      <td>0.890045</td>\n",
       "      <td>0.7199162259999999, 0.725552747, 0.731210927, ...</td>\n",
       "      <td>0.036586</td>\n",
       "      <td>1.338528e-03</td>\n",
       "      <td>1.194085</td>\n",
       "      <td>0.914001</td>\n",
       "      <td>0.719916</td>\n",
       "      <td>0.863676</td>\n",
       "      <td>0.907578</td>\n",
       "      <td>0.043902</td>\n",
       "      <td>-1.623472</td>\n",
       "      <td>2.917256</td>\n",
       "    </tr>\n",
       "    <tr>\n",
       "      <td>AreaBulatan</td>\n",
       "      <td>4937.048000</td>\n",
       "      <td>4857.000000</td>\n",
       "      <td>3802, 4913</td>\n",
       "      <td>1011.696255</td>\n",
       "      <td>1.023529e+06</td>\n",
       "      <td>5142.000000</td>\n",
       "      <td>7720.000000</td>\n",
       "      <td>2579.000000</td>\n",
       "      <td>4170.250000</td>\n",
       "      <td>5654.250000</td>\n",
       "      <td>1484.000000</td>\n",
       "      <td>0.257560</td>\n",
       "      <td>-0.409685</td>\n",
       "    </tr>\n",
       "    <tr>\n",
       "      <td>Diameter</td>\n",
       "      <td>77.771158</td>\n",
       "      <td>77.645277</td>\n",
       "      <td>71.29356396, 78.83325579, 84.75622403, 88.0063...</td>\n",
       "      <td>8.056867</td>\n",
       "      <td>6.491311e+01</td>\n",
       "      <td>41.747172</td>\n",
       "      <td>97.413830</td>\n",
       "      <td>56.666658</td>\n",
       "      <td>71.745308</td>\n",
       "      <td>83.648598</td>\n",
       "      <td>11.903290</td>\n",
       "      <td>0.002725</td>\n",
       "      <td>-0.466455</td>\n",
       "    </tr>\n",
       "    <tr>\n",
       "      <td>KadarAir</td>\n",
       "      <td>0.648372</td>\n",
       "      <td>0.626117</td>\n",
       "      <td>0.735849057, 0.824404762</td>\n",
       "      <td>0.094367</td>\n",
       "      <td>8.905149e-03</td>\n",
       "      <td>1.468972</td>\n",
       "      <td>0.878899</td>\n",
       "      <td>0.409927</td>\n",
       "      <td>0.572632</td>\n",
       "      <td>0.726633</td>\n",
       "      <td>0.154001</td>\n",
       "      <td>0.493661</td>\n",
       "      <td>-0.740326</td>\n",
       "    </tr>\n",
       "    <tr>\n",
       "      <td>Keliling</td>\n",
       "      <td>281.479722</td>\n",
       "      <td>280.045500</td>\n",
       "      <td>197.015, 200.58700000000002, 202.456, 207.325,...</td>\n",
       "      <td>37.335402</td>\n",
       "      <td>1.393932e+03</td>\n",
       "      <td>292.822000</td>\n",
       "      <td>488.837000</td>\n",
       "      <td>197.015000</td>\n",
       "      <td>255.883000</td>\n",
       "      <td>306.062500</td>\n",
       "      <td>50.179500</td>\n",
       "      <td>0.733627</td>\n",
       "      <td>2.272685</td>\n",
       "    </tr>\n",
       "    <tr>\n",
       "      <td>Bulatan</td>\n",
       "      <td>0.761737</td>\n",
       "      <td>0.761288</td>\n",
       "      <td>0.174590178, 0.261297389, 0.299297624, 0.58914...</td>\n",
       "      <td>0.061702</td>\n",
       "      <td>3.807194e-03</td>\n",
       "      <td>1.730158</td>\n",
       "      <td>0.904748</td>\n",
       "      <td>0.174590</td>\n",
       "      <td>0.731991</td>\n",
       "      <td>0.796361</td>\n",
       "      <td>0.064370</td>\n",
       "      <td>-3.599237</td>\n",
       "      <td>29.975096</td>\n",
       "    </tr>\n",
       "    <tr>\n",
       "      <td>Ransum</td>\n",
       "      <td>2.150915</td>\n",
       "      <td>2.193599</td>\n",
       "      <td>1.440795615, 1.453136582, 1.465950153, 1.48345...</td>\n",
       "      <td>0.249767</td>\n",
       "      <td>6.238350e-02</td>\n",
       "      <td>2.024013</td>\n",
       "      <td>2.464809</td>\n",
       "      <td>1.440796</td>\n",
       "      <td>1.983939</td>\n",
       "      <td>2.381612</td>\n",
       "      <td>0.397673</td>\n",
       "      <td>-0.658188</td>\n",
       "      <td>-0.428656</td>\n",
       "    </tr>\n",
       "  </tbody>\n",
       "</table>\n",
       "</div>"
      ],
      "text/plain": [
       "                    Mean       Median  \\\n",
       "Daerah       4801.246000  4735.000000   \n",
       "SumbuUtama    116.045171   115.405140   \n",
       "SumbuKecil     53.715246    53.731199   \n",
       "Keunikan        0.878764     0.890045   \n",
       "AreaBulatan  4937.048000  4857.000000   \n",
       "Diameter       77.771158    77.645277   \n",
       "KadarAir        0.648372     0.626117   \n",
       "Keliling      281.479722   280.045500   \n",
       "Bulatan         0.761737     0.761288   \n",
       "Ransum          2.150915     2.193599   \n",
       "\n",
       "                                                         Modus  Std.Deviasi  \\\n",
       "Daerah                                  3992, 4881, 5642, 6083   986.395491   \n",
       "SumbuUtama   74.13311404, 74.36402121, 74.69188071, 76.2931...    18.282626   \n",
       "SumbuKecil   39.90651744, 41.43641868, 42.87187941, 43.2849...     4.071075   \n",
       "Keunikan     0.7199162259999999, 0.725552747, 0.731210927, ...     0.036586   \n",
       "AreaBulatan                                         3802, 4913  1011.696255   \n",
       "Diameter     71.29356396, 78.83325579, 84.75622403, 88.0063...     8.056867   \n",
       "KadarAir                              0.735849057, 0.824404762     0.094367   \n",
       "Keliling     197.015, 200.58700000000002, 202.456, 207.325,...    37.335402   \n",
       "Bulatan      0.174590178, 0.261297389, 0.299297624, 0.58914...     0.061702   \n",
       "Ransum       1.440795615, 1.453136582, 1.465950153, 1.48345...     0.249767   \n",
       "\n",
       "                 Variansi        Range     Maksimum      Minimum           Q1  \\\n",
       "Daerah       9.729761e+05  4932.000000  7453.000000  2522.000000  4042.750000   \n",
       "SumbuUtama   3.342544e+02   154.795469   227.928583    74.133114   104.116098   \n",
       "SumbuKecil   1.657365e+01    30.071182    68.977700    39.906517    51.193576   \n",
       "Keunikan     1.338528e-03     1.194085     0.914001     0.719916     0.863676   \n",
       "AreaBulatan  1.023529e+06  5142.000000  7720.000000  2579.000000  4170.250000   \n",
       "Diameter     6.491311e+01    41.747172    97.413830    56.666658    71.745308   \n",
       "KadarAir     8.905149e-03     1.468972     0.878899     0.409927     0.572632   \n",
       "Keliling     1.393932e+03   292.822000   488.837000   197.015000   255.883000   \n",
       "Bulatan      3.807194e-03     1.730158     0.904748     0.174590     0.731991   \n",
       "Ransum       6.238350e-02     2.024013     2.464809     1.440796     1.983939   \n",
       "\n",
       "                      Q3          IQR  Skewness   Kurtosis  \n",
       "Daerah       5495.500000  1452.750000  0.238144  -0.434631  \n",
       "SumbuUtama    129.046792    24.930694  0.761529   4.330534  \n",
       "SumbuKecil     56.325158     5.131582 -0.010828   0.475568  \n",
       "Keunikan        0.907578     0.043902 -1.623472   2.917256  \n",
       "AreaBulatan  5654.250000  1484.000000  0.257560  -0.409685  \n",
       "Diameter       83.648598    11.903290  0.002725  -0.466455  \n",
       "KadarAir        0.726633     0.154001  0.493661  -0.740326  \n",
       "Keliling      306.062500    50.179500  0.733627   2.272685  \n",
       "Bulatan         0.796361     0.064370 -3.599237  29.975096  \n",
       "Ransum          2.381612     0.397673 -0.658188  -0.428656  "
      ]
     },
     "execution_count": 39,
     "metadata": {},
     "output_type": "execute_result"
    }
   ],
   "source": [
    "# Soal 1\n",
    "descGandum = gandum.drop(columns = [\"id\", \"Kelas\"]) # Drop kolom id dan Kelas\n",
    "statistik = pandas.DataFrame() # Membuat DataFrame baru\n",
    "statistik[\"Mean\"] = descGandum.mean() # Mean\n",
    "statistik[\"Median\"] = descGandum.median() # Median\n",
    "\n",
    "# Modus tiap kolom\n",
    "mode1 = descGandum[\"Daerah\"].mode().astype(str).str.cat(sep = ', ') # Modus kolom Daerah\n",
    "mode2 = descGandum[\"SumbuUtama\"].mode().astype(str).str.cat(sep = ', ') # Modus kolom SumbuUtama\n",
    "mode3 = descGandum[\"SumbuKecil\"].mode().astype(str).str.cat(sep = ', ') # Modus kolom SumbuKecil\n",
    "mode4 = descGandum[\"Keunikan\"].mode().astype(str).str.cat(sep = ', ') # Modus kolom Keunikan\n",
    "mode5 = descGandum[\"AreaBulatan\"].mode().astype(str).str.cat(sep = ', ') # Modus kolom AreaBulatan\n",
    "mode6 = descGandum[\"Diameter\"].mode().astype(str).str.cat(sep = ', ') # Modus kolom Diameter\n",
    "mode7 = descGandum[\"KadarAir\"].mode().astype(str).str.cat(sep = ', ') # Modus kolom KadarAir\n",
    "mode8 = descGandum[\"Keliling\"].mode().astype(str).str.cat(sep = ', ') # Modus kolom Keliling\n",
    "mode9 = descGandum[\"Bulatan\"].mode().astype(str).str.cat(sep = ', ') # Modus kolom Bulatan\n",
    "mode10 = descGandum[\"Ransum\"].mode().astype(str).str.cat(sep = ', ') # Modus kolom Ransum\n",
    "\n",
    "# statistik[\"Modus\"] = descGandum.mode(axis = 0, numeric_only = True).dropna().iloc[0] # Modus\n",
    "statistik[\"Modus\"] = [mode1, mode2, mode3, mode4, mode5, mode6, mode7, mode8, mode9, mode10] # Modus (diperlihatkan seluruh modus)\n",
    "statistik[\"Std.Deviasi\"] = descGandum.std() # Standar Deviasi\n",
    "statistik[\"Variansi\"] = descGandum.var() # Variansi\n",
    "statistik[\"Range\"] = descGandum.max() - descGandum.min() + 1 # Range\n",
    "statistik[\"Maksimum\"] = descGandum.max() # Maksimum\n",
    "statistik[\"Minimum\"] = descGandum.min() # Minimum\n",
    "statistik[\"Q1\"] = descGandum.quantile(.25) # Quartil pertama\n",
    "statistik[\"Q3\"] = descGandum.quantile(.75) # Quartil ketiga\n",
    "statistik[\"IQR\"] = statistik[\"Q3\"] - statistik[\"Q1\"] # Interquartile Range (IQR)\n",
    "statistik[\"Skewness\"] = descGandum.skew() # Skewness\n",
    "statistik[\"Kurtosis\"] = descGandum.kurtosis() # Kurtosis\n",
    "statistik # Memperlihatkan DataFrame 'statistik'"
   ]
  },
  {
   "cell_type": "markdown",
   "metadata": {},
   "source": [
    "### Soal_2\n",
    "2. Membuat Visualisasi plot distribusi, dalam bentuk histogram dan boxplot untuk setiap kolom numerik. Berikan uraian penjelasan kondisi setiap kolom berdasarkan kedua plot tersebut.\n",
    "\n",
    "### TODO Soal_2 : Deskripsi"
   ]
  },
  {
   "cell_type": "markdown",
   "metadata": {},
   "source": [
    "#### Kolom \"Daerah\""
   ]
  },
  {
   "cell_type": "code",
   "execution_count": 6,
   "metadata": {},
   "outputs": [
    {
     "data": {
      "text/plain": [
       "<matplotlib.axes._subplots.AxesSubplot at 0x22233a183c8>"
      ]
     },
     "execution_count": 6,
     "metadata": {},
     "output_type": "execute_result"
    },
    {
     "data": {
      "image/png": "[encoded data removed]",
      "text/plain": [
       "<Figure size 432x288 with 1 Axes>"
      ]
     },
     "metadata": {
      "needs_background": "light"
     },
     "output_type": "display_data"
    }
   ],
   "source": [
    "# Histogram Plot Kolom Daerah (Histogram)\n",
    "gandum[\"Daerah\"].plot(kind = 'hist')"
   ]
  },
  {
   "cell_type": "code",
   "execution_count": 7,
   "metadata": {},
   "outputs": [
    {
     "data": {
      "text/plain": [
       "<matplotlib.axes._subplots.AxesSubplot at 0x22234d77fc8>"
      ]
     },
     "execution_count": 7,
     "metadata": {},
     "output_type": "execute_result"
    },
    {
     "data": {
      "image/png": "[encoded data removed]",
      "text/plain": [
       "<Figure size 432x288 with 1 Axes>"
      ]
     },
     "metadata": {
      "needs_background": "light"
     },
     "output_type": "display_data"
    }
   ],
   "source": [
    "# Histogram Plot Kolom Daerah (Box)\n",
    "gandum[\"Daerah\"].plot(kind = 'box')"
   ]
  },
  {
   "cell_type": "markdown",
   "metadata": {},
   "source": [
    "#### Kolom \"Sumbu Utama\""
   ]
  },
  {
   "cell_type": "code",
   "execution_count": 8,
   "metadata": {},
   "outputs": [
    {
     "data": {
      "text/plain": [
       "<matplotlib.axes._subplots.AxesSubplot at 0x22234e65988>"
      ]
     },
     "execution_count": 8,
     "metadata": {},
     "output_type": "execute_result"
    },
    {
     "data": {
      "image/png": "[encoded data removed]",
      "text/plain": [
       "<Figure size 432x288 with 1 Axes>"
      ]
     },
     "metadata": {
      "needs_background": "light"
     },
     "output_type": "display_data"
    }
   ],
   "source": [
    "# Histogram Plot Kolom Daerah (Histogram)\n",
    "gandum[\"SumbuUtama\"].plot(kind = 'hist')"
   ]
  },
  {
   "cell_type": "code",
   "execution_count": 9,
   "metadata": {},
   "outputs": [
    {
     "data": {
      "text/plain": [
       "<matplotlib.axes._subplots.AxesSubplot at 0x22234f13108>"
      ]
     },
     "execution_count": 9,
     "metadata": {},
     "output_type": "execute_result"
    },
    {
     "data": {
      "image/png": "[encoded data removed]",
      "text/plain": [
       "<Figure size 432x288 with 1 Axes>"
      ]
     },
     "metadata": {
      "needs_background": "light"
     },
     "output_type": "display_data"
    }
   ],
   "source": [
    "# Histogram Plot Kolom Daerah (Box)\n",
    "gandum[\"SumbuUtama\"].plot(kind = 'box')"
   ]
  },
  {
   "cell_type": "markdown",
   "metadata": {},
   "source": [
    "#### Kolom \"Sumbu Kecil\""
   ]
  },
  {
   "cell_type": "code",
   "execution_count": 10,
   "metadata": {},
   "outputs": [
    {
     "data": {
      "text/plain": [
       "<matplotlib.axes._subplots.AxesSubplot at 0x22234f7fb88>"
      ]
     },
     "execution_count": 10,
     "metadata": {},
     "output_type": "execute_result"
    },
    {
     "data": {
      "image/png": "[encoded data removed]",
      "text/plain": [
       "<Figure size 432x288 with 1 Axes>"
      ]
     },
     "metadata": {
      "needs_background": "light"
     },
     "output_type": "display_data"
    }
   ],
   "source": [
    "# Histogram Plot Kolom Daerah (Histogram)\n",
    "gandum[\"SumbuKecil\"].plot(kind = 'hist')"
   ]
  },
  {
   "cell_type": "code",
   "execution_count": 11,
   "metadata": {},
   "outputs": [
    {
     "data": {
      "text/plain": [
       "<matplotlib.axes._subplots.AxesSubplot at 0x22235002948>"
      ]
     },
     "execution_count": 11,
     "metadata": {},
     "output_type": "execute_result"
    },
    {
     "data": {
      "image/png": "[encoded data removed]",
      "text/plain": [
       "<Figure size 432x288 with 1 Axes>"
      ]
     },
     "metadata": {
      "needs_background": "light"
     },
     "output_type": "display_data"
    }
   ],
   "source": [
    "# Histogram Plot Kolom Daerah (Box)\n",
    "gandum[\"SumbuKecil\"].plot(kind = 'box')"
   ]
  },
  {
   "cell_type": "markdown",
   "metadata": {},
   "source": [
    "#### Kolom \"Keunikan\""
   ]
  },
  {
   "cell_type": "code",
   "execution_count": 12,
   "metadata": {
    "scrolled": true
   },
   "outputs": [
    {
     "data": {
      "text/plain": [
       "<matplotlib.axes._subplots.AxesSubplot at 0x22235066748>"
      ]
     },
     "execution_count": 12,
     "metadata": {},
     "output_type": "execute_result"
    },
    {
     "data": {
      "image/png": "[encoded data removed]",
      "text/plain": [
       "<Figure size 432x288 with 1 Axes>"
      ]
     },
     "metadata": {
      "needs_background": "light"
     },
     "output_type": "display_data"
    }
   ],
   "source": [
    "# Histogram Plot Kolom Daerah (Histogram)\n",
    "gandum[\"Keunikan\"].plot(kind = 'hist')"
   ]
  },
  {
   "cell_type": "code",
   "execution_count": 13,
   "metadata": {
    "scrolled": false
   },
   "outputs": [
    {
     "data": {
      "text/plain": [
       "<matplotlib.axes._subplots.AxesSubplot at 0x222350e7808>"
      ]
     },
     "execution_count": 13,
     "metadata": {},
     "output_type": "execute_result"
    },
    {
     "data": {
      "image/png": "[encoded data removed]",
      "text/plain": [
       "<Figure size 432x288 with 1 Axes>"
      ]
     },
     "metadata": {
      "needs_background": "light"
     },
     "output_type": "display_data"
    }
   ],
   "source": [
    "# Histogram Plot Kolom Daerah (Box)\n",
    "gandum[\"Keunikan\"].plot(kind = 'box')"
   ]
  },
  {
   "cell_type": "markdown",
   "metadata": {},
   "source": [
    "#### Kolom \"Area Bulatan\""
   ]
  },
  {
   "cell_type": "code",
   "execution_count": 14,
   "metadata": {
    "scrolled": true
   },
   "outputs": [
    {
     "data": {
      "text/plain": [
       "<matplotlib.axes._subplots.AxesSubplot at 0x222351534c8>"
      ]
     },
     "execution_count": 14,
     "metadata": {},
     "output_type": "execute_result"
    },
    {
     "data": {
      "image/png": "[encoded data removed]",
      "text/plain": [
       "<Figure size 432x288 with 1 Axes>"
      ]
     },
     "metadata": {
      "needs_background": "light"
     },
     "output_type": "display_data"
    }
   ],
   "source": [
    "# Histogram Plot Kolom Daerah (Histogram)\n",
    "gandum[\"AreaBulatan\"].plot(kind = 'hist')"
   ]
  },
  {
   "cell_type": "code",
   "execution_count": 15,
   "metadata": {
    "scrolled": false
   },
   "outputs": [
    {
     "data": {
      "text/plain": [
       "<matplotlib.axes._subplots.AxesSubplot at 0x222351d6088>"
      ]
     },
     "execution_count": 15,
     "metadata": {},
     "output_type": "execute_result"
    },
    {
     "data": {
      "image/png": "[encoded data removed]",
      "text/plain": [
       "<Figure size 432x288 with 1 Axes>"
      ]
     },
     "metadata": {
      "needs_background": "light"
     },
     "output_type": "display_data"
    }
   ],
   "source": [
    "# Histogram Plot Kolom Daerah (Box)\n",
    "gandum[\"AreaBulatan\"].plot(kind = 'box')"
   ]
  },
  {
   "cell_type": "markdown",
   "metadata": {},
   "source": [
    "#### Kolom \"Diameter\""
   ]
  },
  {
   "cell_type": "code",
   "execution_count": 16,
   "metadata": {
    "scrolled": true
   },
   "outputs": [
    {
     "data": {
      "text/plain": [
       "<matplotlib.axes._subplots.AxesSubplot at 0x22235230888>"
      ]
     },
     "execution_count": 16,
     "metadata": {},
     "output_type": "execute_result"
    },
    {
     "data": {
      "image/png": "[encoded data removed]",
      "text/plain": [
       "<Figure size 432x288 with 1 Axes>"
      ]
     },
     "metadata": {
      "needs_background": "light"
     },
     "output_type": "display_data"
    }
   ],
   "source": [
    "# Histogram Plot Kolom Daerah (Histogram)\n",
    "gandum[\"Diameter\"].plot(kind = 'hist')"
   ]
  },
  {
   "cell_type": "code",
   "execution_count": 17,
   "metadata": {
    "scrolled": false
   },
   "outputs": [
    {
     "data": {
      "text/plain": [
       "<matplotlib.axes._subplots.AxesSubplot at 0x222352bcf88>"
      ]
     },
     "execution_count": 17,
     "metadata": {},
     "output_type": "execute_result"
    },
    {
     "data": {
      "image/png": "[encoded data removed]",
      "text/plain": [
       "<Figure size 432x288 with 1 Axes>"
      ]
     },
     "metadata": {
      "needs_background": "light"
     },
     "output_type": "display_data"
    }
   ],
   "source": [
    "# Histogram Plot Kolom Daerah (Box)\n",
    "gandum[\"Diameter\"].plot(kind = 'box')"
   ]
  },
  {
   "cell_type": "markdown",
   "metadata": {},
   "source": [
    "#### Kolom \"Kadar Air\""
   ]
  },
  {
   "cell_type": "code",
   "execution_count": 18,
   "metadata": {
    "scrolled": true
   },
   "outputs": [
    {
     "data": {
      "text/plain": [
       "<matplotlib.axes._subplots.AxesSubplot at 0x22235334f88>"
      ]
     },
     "execution_count": 18,
     "metadata": {},
     "output_type": "execute_result"
    },
    {
     "data": {
      "image/png": "[encoded data removed]",
      "text/plain": [
       "<Figure size 432x288 with 1 Axes>"
      ]
     },
     "metadata": {
      "needs_background": "light"
     },
     "output_type": "display_data"
    }
   ],
   "source": [
    "# Histogram Plot Kolom Daerah (Histogram)\n",
    "gandum[\"KadarAir\"].plot(kind = 'hist')"
   ]
  },
  {
   "cell_type": "code",
   "execution_count": 19,
   "metadata": {
    "scrolled": true
   },
   "outputs": [
    {
     "data": {
      "text/plain": [
       "<matplotlib.axes._subplots.AxesSubplot at 0x222353b0808>"
      ]
     },
     "execution_count": 19,
     "metadata": {},
     "output_type": "execute_result"
    },
    {
     "data": {
      "image/png": "[encoded data removed]",
      "text/plain": [
       "<Figure size 432x288 with 1 Axes>"
      ]
     },
     "metadata": {
      "needs_background": "light"
     },
     "output_type": "display_data"
    }
   ],
   "source": [
    "# Histogram Plot Kolom Daerah (Box)\n",
    "gandum[\"KadarAir\"].plot(kind = 'box')"
   ]
  },
  {
   "cell_type": "markdown",
   "metadata": {},
   "source": [
    "#### Kolom \"Keliling\""
   ]
  },
  {
   "cell_type": "code",
   "execution_count": 20,
   "metadata": {
    "scrolled": true
   },
   "outputs": [
    {
     "data": {
      "text/plain": [
       "<matplotlib.axes._subplots.AxesSubplot at 0x22235417708>"
      ]
     },
     "execution_count": 20,
     "metadata": {},
     "output_type": "execute_result"
    },
    {
     "data": {
      "image/png": "[encoded data removed]",
      "text/plain": [
       "<Figure size 432x288 with 1 Axes>"
      ]
     },
     "metadata": {
      "needs_background": "light"
     },
     "output_type": "display_data"
    }
   ],
   "source": [
    "# Histogram Plot Kolom Daerah (Histogram)\n",
    "gandum[\"Keliling\"].plot(kind = 'hist')"
   ]
  },
  {
   "cell_type": "code",
   "execution_count": 21,
   "metadata": {
    "scrolled": false
   },
   "outputs": [
    {
     "data": {
      "text/plain": [
       "<matplotlib.axes._subplots.AxesSubplot at 0x22235474988>"
      ]
     },
     "execution_count": 21,
     "metadata": {},
     "output_type": "execute_result"
    },
    {
     "data": {
      "image/png": "[encoded data removed]",
      "text/plain": [
       "<Figure size 432x288 with 1 Axes>"
      ]
     },
     "metadata": {
      "needs_background": "light"
     },
     "output_type": "display_data"
    }
   ],
   "source": [
    "# Histogram Plot Kolom Daerah (Box)\n",
    "gandum[\"Keliling\"].plot(kind = 'box')"
   ]
  },
  {
   "cell_type": "markdown",
   "metadata": {},
   "source": [
    "#### Kolom \"Bulatan\""
   ]
  },
  {
   "cell_type": "code",
   "execution_count": 22,
   "metadata": {
    "scrolled": true
   },
   "outputs": [
    {
     "data": {
      "text/plain": [
       "<matplotlib.axes._subplots.AxesSubplot at 0x222354f0248>"
      ]
     },
     "execution_count": 22,
     "metadata": {},
     "output_type": "execute_result"
    },
    {
     "data": {
      "image/png": "[encoded data removed]",
      "text/plain": [
       "<Figure size 432x288 with 1 Axes>"
      ]
     },
     "metadata": {
      "needs_background": "light"
     },
     "output_type": "display_data"
    }
   ],
   "source": [
    "# Histogram Plot Kolom Daerah (Histogram)\n",
    "gandum[\"Bulatan\"].plot(kind = 'hist')"
   ]
  },
  {
   "cell_type": "code",
   "execution_count": 23,
   "metadata": {
    "scrolled": false
   },
   "outputs": [
    {
     "data": {
      "text/plain": [
       "<matplotlib.axes._subplots.AxesSubplot at 0x22235584548>"
      ]
     },
     "execution_count": 23,
     "metadata": {},
     "output_type": "execute_result"
    },
    {
     "data": {
      "image/png": "[encoded data removed]",
      "text/plain": [
       "<Figure size 432x288 with 1 Axes>"
      ]
     },
     "metadata": {
      "needs_background": "light"
     },
     "output_type": "display_data"
    }
   ],
   "source": [
    "# Histogram Plot Kolom Daerah (Box)\n",
    "gandum[\"Bulatan\"].plot(kind = 'box')"
   ]
  },
  {
   "cell_type": "markdown",
   "metadata": {},
   "source": [
    "#### Kolom \"Ransum\""
   ]
  },
  {
   "cell_type": "code",
   "execution_count": 24,
   "metadata": {
    "scrolled": true
   },
   "outputs": [
    {
     "data": {
      "text/plain": [
       "<matplotlib.axes._subplots.AxesSubplot at 0x222355e1688>"
      ]
     },
     "execution_count": 24,
     "metadata": {},
     "output_type": "execute_result"
    },
    {
     "data": {
      "image/png": "[encoded data removed]",
      "text/plain": [
       "<Figure size 432x288 with 1 Axes>"
      ]
     },
     "metadata": {
      "needs_background": "light"
     },
     "output_type": "display_data"
    }
   ],
   "source": [
    "# Histogram Plot Kolom Daerah (Histogram)\n",
    "gandum[\"Ransum\"].plot(kind = 'hist')"
   ]
  },
  {
   "cell_type": "code",
   "execution_count": 25,
   "metadata": {
    "scrolled": true
   },
   "outputs": [
    {
     "data": {
      "text/plain": [
       "<matplotlib.axes._subplots.AxesSubplot at 0x22235647d08>"
      ]
     },
     "execution_count": 25,
     "metadata": {},
     "output_type": "execute_result"
    },
    {
     "data": {
      "image/png": "[encoded data removed]",
      "text/plain": [
       "<Figure size 432x288 with 1 Axes>"
      ]
     },
     "metadata": {
      "needs_background": "light"
     },
     "output_type": "display_data"
    }
   ],
   "source": [
    "# Histogram Plot Kolom Daerah (Box)\n",
    "gandum[\"Ransum\"].plot(kind = 'box')"
   ]
  },
  {
   "cell_type": "markdown",
   "metadata": {},
   "source": [
    "### Soal_3\n",
    "3. Menentukan setiap kolom numerik berdistribusi normal atau tidak. Gunakan normality test yang dikaitkan dengan histogram plot.\n"
   ]
  },
  {
   "cell_type": "markdown",
   "metadata": {},
   "source": [
    "#### Hasil Tes Distribusi Normal \"Daerah\""
   ]
  },
  {
   "cell_type": "code",
   "execution_count": 26,
   "metadata": {},
   "outputs": [
    {
     "name": "stdout",
     "output_type": "stream",
     "text": [
      "p-valuenya adalah 0.003270698245614767 < 0.05. Maka dari itu, sample tidak berdistribusi normal\n"
     ]
    }
   ],
   "source": [
    "daerah_tobe_normal = gandum[\"Daerah\"]\n",
    "daerah_stat, daerah_p = shapiro(daerah_tobe_normal)\n",
    "alpha = 0.05\n",
    "print(\"p-valuenya adalah\", end=\" \")\n",
    "if (daerah_p > alpha):\n",
    "    print(daerah_p, end=\" \")\n",
    "    print(\">\", end=\" \")\n",
    "    print(alpha, end=\"\")\n",
    "    print(\". Maka dari itu, sample berdistribusi normal\")\n",
    "else:\n",
    "    print(daerah_p, end=\" \")\n",
    "    print(\"<\", end=\" \")\n",
    "    print(alpha, end=\"\")\n",
    "    print(\". Maka dari itu, sample tidak berdistribusi normal\")"
   ]
  },
  {
   "cell_type": "markdown",
   "metadata": {},
   "source": [
    "#### Hasil Tes Distribusi Normal \"SumbuUtama\""
   ]
  },
  {
   "cell_type": "code",
   "execution_count": 27,
   "metadata": {},
   "outputs": [
    {
     "name": "stdout",
     "output_type": "stream",
     "text": [
      "p-valuenya adalah 9.236201213569384e-12 < 0.05. Maka dari itu, sample tidak berdistribusi normal\n"
     ]
    }
   ],
   "source": [
    "sumbuutama_tobe_normal = gandum[\"SumbuUtama\"]\n",
    "daerah_stat, sumbuutama_p = shapiro(sumbuutama_tobe_normal)\n",
    "print(\"p-valuenya adalah\", end=\" \")\n",
    "if (sumbuutama_p > alpha):\n",
    "    print(sumbuutama_p, end=\" \")\n",
    "    print(\">\", end=\" \")\n",
    "    print(alpha, end=\"\")\n",
    "    print(\". Maka dari itu, sample berdistribusi normal\")\n",
    "else:\n",
    "    print(sumbuutama_p, end=\" \")\n",
    "    print(\"<\", end=\" \")\n",
    "    print(alpha, end=\"\")\n",
    "    print(\". Maka dari itu, sample tidak berdistribusi normal\")"
   ]
  },
  {
   "cell_type": "markdown",
   "metadata": {},
   "source": [
    "#### Hasil Tes Distribusi Normal \"SumbuKecil\""
   ]
  },
  {
   "cell_type": "code",
   "execution_count": 28,
   "metadata": {},
   "outputs": [
    {
     "name": "stdout",
     "output_type": "stream",
     "text": [
      "p-valuenya adalah 0.4234558641910553 > 0.05. Maka dari itu, sample berdistribusi normal\n"
     ]
    }
   ],
   "source": [
    "sumbukecil_tobe_normal = gandum[\"SumbuKecil\"]\n",
    "daerah_stat, sumbukecil_p = shapiro(sumbukecil_tobe_normal)\n",
    "print(\"p-valuenya adalah\", end=\" \")\n",
    "if (sumbukecil_p > alpha):\n",
    "    print(sumbukecil_p, end=\" \")\n",
    "    print(\">\", end=\" \")\n",
    "    print(alpha, end=\"\")\n",
    "    print(\". Maka dari itu, sample berdistribusi normal\")\n",
    "else:\n",
    "    print(sumbukecil_p, end=\" \")\n",
    "    print(\"<\", end=\" \")\n",
    "    print(alpha, end=\"\")\n",
    "    print(\". Maka dari itu, sample tidak berdistribusi normal\")"
   ]
  },
  {
   "cell_type": "markdown",
   "metadata": {},
   "source": [
    "#### Hasil Tes Distribusi Normal \"Keunikan\""
   ]
  },
  {
   "cell_type": "code",
   "execution_count": 29,
   "metadata": {},
   "outputs": [
    {
     "name": "stdout",
     "output_type": "stream",
     "text": [
      "p-valuenya adalah 1.3151663082081454e-22 < 0.05. Maka dari itu, sample tidak berdistribusi normal\n"
     ]
    }
   ],
   "source": [
    "keunikan_tobe_normal = gandum[\"Keunikan\"]\n",
    "daerah_stat, keunikan_p = shapiro(keunikan_tobe_normal)\n",
    "print(\"p-valuenya adalah\", end=\" \")\n",
    "if (keunikan_p > alpha):\n",
    "    print(keunikan_p, end=\" \")\n",
    "    print(\">\", end=\" \")\n",
    "    print(alpha, end=\"\")\n",
    "    print(\". Maka dari itu, sample berdistribusi normal\")\n",
    "else:\n",
    "    print(keunikan_p, end=\" \")\n",
    "    print(\"<\", end=\" \")\n",
    "    print(alpha, end=\"\")\n",
    "    print(\". Maka dari itu, sample tidak berdistribusi normal\")"
   ]
  },
  {
   "cell_type": "markdown",
   "metadata": {},
   "source": [
    "#### Hasil Tes Distribusi Normal \"AreaBulatan\""
   ]
  },
  {
   "cell_type": "code",
   "execution_count": 30,
   "metadata": {},
   "outputs": [
    {
     "name": "stdout",
     "output_type": "stream",
     "text": [
      "p-valuenya adalah 0.0024847122840583324 < 0.05. Maka dari itu, sample tidak berdistribusi normal\n"
     ]
    }
   ],
   "source": [
    "areabulatan_tobe_normal = gandum[\"AreaBulatan\"]\n",
    "daerah_stat, areabulatan_p = shapiro(areabulatan_tobe_normal)\n",
    "print(\"p-valuenya adalah\", end=\" \")\n",
    "if (areabulatan_p > alpha):\n",
    "    print(areabulatan_p, end=\" \")\n",
    "    print(\">\", end=\" \")\n",
    "    print(alpha, end=\"\")\n",
    "    print(\". Maka dari itu, sample berdistribusi normal\")\n",
    "else:\n",
    "    print(areabulatan_p, end=\" \")\n",
    "    print(\"<\", end=\" \")\n",
    "    print(alpha, end=\"\")\n",
    "    print(\". Maka dari itu, sample tidak berdistribusi normal\")"
   ]
  },
  {
   "cell_type": "markdown",
   "metadata": {},
   "source": [
    "#### Hasil Tes Distribusi Normal \"Diameter\""
   ]
  },
  {
   "cell_type": "code",
   "execution_count": 31,
   "metadata": {},
   "outputs": [
    {
     "name": "stdout",
     "output_type": "stream",
     "text": [
      "p-valuenya adalah 0.11834503710269928 > 0.05. Maka dari itu, sample berdistribusi normal\n"
     ]
    }
   ],
   "source": [
    "diameter_tobe_normal = gandum[\"Diameter\"]\n",
    "daerah_stat, diameter_p = shapiro(diameter_tobe_normal)\n",
    "print(\"p-valuenya adalah\", end=\" \")\n",
    "if (diameter_p > alpha):\n",
    "    print(diameter_p, end=\" \")\n",
    "    print(\">\", end=\" \")\n",
    "    print(alpha, end=\"\")\n",
    "    print(\". Maka dari itu, sample berdistribusi normal\")\n",
    "else:\n",
    "    print(diameter_p, end=\" \")\n",
    "    print(\"<\", end=\" \")\n",
    "    print(alpha, end=\"\")\n",
    "    print(\". Maka dari itu, sample tidak berdistribusi normal\")"
   ]
  },
  {
   "cell_type": "markdown",
   "metadata": {},
   "source": [
    "#### Hasil Tes Distribusi Normal \"KadarAir\""
   ]
  },
  {
   "cell_type": "code",
   "execution_count": 32,
   "metadata": {},
   "outputs": [
    {
     "name": "stdout",
     "output_type": "stream",
     "text": [
      "p-valuenya adalah 1.959499836695633e-12 < 0.05. Maka dari itu, sample tidak berdistribusi normal\n"
     ]
    }
   ],
   "source": [
    "kadarair_tobe_normal = gandum[\"KadarAir\"]\n",
    "daerah_stat, kadarair_p = shapiro(kadarair_tobe_normal)\n",
    "print(\"p-valuenya adalah\", end=\" \")\n",
    "if (kadarair_p > alpha):\n",
    "    print(kadarair_p, end=\" \")\n",
    "    print(\">\", end=\" \")\n",
    "    print(alpha, end=\"\")\n",
    "    print(\". Maka dari itu, sample berdistribusi normal\")\n",
    "else:\n",
    "    print(kadarair_p, end=\" \")\n",
    "    print(\"<\", end=\" \")\n",
    "    print(alpha, end=\"\")\n",
    "    print(\". Maka dari itu, sample tidak berdistribusi normal\")"
   ]
  },
  {
   "cell_type": "markdown",
   "metadata": {},
   "source": [
    "#### Hasil Tes Distribusi Normal \"Keliling\""
   ]
  },
  {
   "cell_type": "code",
   "execution_count": 33,
   "metadata": {},
   "outputs": [
    {
     "name": "stdout",
     "output_type": "stream",
     "text": [
      "p-valuenya adalah 9.728394090302572e-09 < 0.05. Maka dari itu, sample tidak berdistribusi normal\n"
     ]
    }
   ],
   "source": [
    "keliling_tobe_normal = gandum[\"Keliling\"]\n",
    "daerah_stat, keliling_p = shapiro(keliling_tobe_normal)\n",
    "print(\"p-valuenya adalah\", end=\" \")\n",
    "if (keliling_p > alpha):\n",
    "    print(keliling_p, end=\" \")\n",
    "    print(\">\", end=\" \")\n",
    "    print(alpha, end=\"\")\n",
    "    print(\". Maka dari itu, sample berdistribusi normal\")\n",
    "else:\n",
    "    print(keliling_p, end=\" \")\n",
    "    print(\"<\", end=\" \")\n",
    "    print(alpha, end=\"\")\n",
    "    print(\". Maka dari itu, sample tidak berdistribusi normal\")"
   ]
  },
  {
   "cell_type": "markdown",
   "metadata": {},
   "source": [
    "#### Hasil Tes Distribusi Normal \"Bulatan\""
   ]
  },
  {
   "cell_type": "code",
   "execution_count": 34,
   "metadata": {},
   "outputs": [
    {
     "name": "stdout",
     "output_type": "stream",
     "text": [
      "p-valuenya adalah 6.899158691421287e-26 < 0.05. Maka dari itu, sample tidak berdistribusi normal\n"
     ]
    }
   ],
   "source": [
    "bulatan_tobe_normal = gandum[\"Bulatan\"]\n",
    "daerah_stat, bulatan_p = shapiro(bulatan_tobe_normal)\n",
    "print(\"p-valuenya adalah\", end=\" \")\n",
    "if (bulatan_p > alpha):\n",
    "    print(bulatan_p, end=\" \")\n",
    "    print(\">\", end=\" \")\n",
    "    print(alpha, end=\"\")\n",
    "    print(\". Maka dari itu, sample berdistribusi normal\")\n",
    "else:\n",
    "    print(bulatan_p, end=\" \")\n",
    "    print(\"<\", end=\" \")\n",
    "    print(alpha, end=\"\")\n",
    "    print(\". Maka dari itu, sample tidak berdistribusi normal\")"
   ]
  },
  {
   "cell_type": "markdown",
   "metadata": {},
   "source": [
    "#### Hasil Tes Distribusi Normal \"Ransum\""
   ]
  },
  {
   "cell_type": "code",
   "execution_count": 35,
   "metadata": {},
   "outputs": [
    {
     "name": "stdout",
     "output_type": "stream",
     "text": [
      "p-valuenya adalah 6.245541108888591e-15 < 0.05. Maka dari itu, sample tidak berdistribusi normal\n"
     ]
    }
   ],
   "source": [
    "ransum_tobe_normal = gandum[\"Ransum\"]\n",
    "daerah_stat, ransum_p = shapiro(ransum_tobe_normal)\n",
    "print(\"p-valuenya adalah\", end=\" \")\n",
    "if (ransum_p > alpha):\n",
    "    print(ransum_p, end=\" \")\n",
    "    print(\">\", end=\" \")\n",
    "    print(alpha, end=\"\")\n",
    "    print(\". Maka dari itu, sample berdistribusi normal\")\n",
    "else:\n",
    "    print(ransum_p, end=\" \")\n",
    "    print(\"<\", end=\" \")\n",
    "    print(alpha, end=\"\")\n",
    "    print(\". Maka dari itu, sample tidak berdistribusi normal\")"
   ]
  },
  {
   "cell_type": "markdown",
   "metadata": {},
   "source": [
    "### Soal_4\n",
    "\n",
    "4. Melakukan test hipotesis 1 sampel, dengan menuliskan 6 langkah testing dan menampilkan juga boxplotnya untuk kolom/bagian yang bersesuaian.a. Nilai rata-rata Daerah di atas 4700?\n",
    "\n",
    "    b. Nilai Rata-rata Sumbu Utama tidak sama dengan 116?\n",
    "\n",
    "    c. Nilai Rata-rata 20 baris pertama kolom Sumbu Kecil bukan 50?\n",
    "\n",
    "    d. Proporsi nilai Diameter yang lebih dari 85, adalah tidak sama dengan 15% ?\n",
    "\n",
    "    e. Proporsi nilai Keliling yang kurang dari 100, adalah kurang dari 5% ?\n"
   ]
  },
  {
   "cell_type": "markdown",
   "metadata": {},
   "source": [
    "### Soal_5\n",
    "\n",
    "5. Melakukan test hipotesis 2 sampel, dengan menuliskan 6 langkah testing dan menampilkan juga boxplotnya untuk kolom/bagian yang bersesuaian.\n",
    "\n",
    "    a. Data kolom AreaBulatan dibagi 2 sama rata: bagian awal dan bagian akhir kolom. Benarkah rata-rata kedua bagian tersebut sama?\n",
    "    \n",
    "    b. Data kolom Kadar Air dibagi 2 sama rata: bagian awal dan bagian akhir kolom. Benarkah rata-rata bagian awal lebih besar dari pada bagian akhir sebesar 0.2?\n",
    "    \n",
    "    c. Rata-rata 20 baris pertama kolom Bulatan sama dengan 20 baris terakhirnya?\n",
    "    \n",
    "    d. Proporsi nilai bagian awal Ransum yang lebih dari 2, adalah lebih besar daripada, proporsi nilai yang sama di bagian akhir Ransum?\n",
    "    \n",
    "    e. Bagian awal kolom Diameter memiliki variansi yang sama dengan bagian akhirnya?\n"
   ]
  },
  {
   "cell_type": "markdown",
   "metadata": {},
   "source": [
    "### Soal_6\n",
    "\n",
    "6. Test korelasi: tentukan apakah setiap kolom non-target berkorelasi dengan kolom target, dengan menggambarkan juga scatter plot nya. Gunakan correlation test."
   ]
  }
 ],
 "metadata": {
  "kernelspec": {
   "display_name": "Python 3",
   "language": "python",
   "name": "python3"
  },
  "language_info": {
   "codemirror_mode": {
    "name": "ipython",
    "version": 3
   },
   "file_extension": ".py",
   "mimetype": "text/x-python",
   "name": "python",
   "nbconvert_exporter": "python",
   "pygments_lexer": "ipython3",
   "version": "3.7.4"
  }
 },
 "nbformat": 4,
 "nbformat_minor": 4
}
