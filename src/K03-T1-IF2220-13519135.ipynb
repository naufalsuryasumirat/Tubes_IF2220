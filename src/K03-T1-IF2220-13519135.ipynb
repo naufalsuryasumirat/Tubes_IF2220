{
 "cells": [
  {
   "cell_type": "markdown",
   "metadata": {},
   "source": [
    "# Tubes IF2220 Probabilitas dan Statistika\n",
    "Naufal Alexander Suryasumirat - 13519135\n",
    "\n",
    "Naufal Yahya Kurnianto - 13519141"
   ]
  },
  {
   "cell_type": "markdown",
   "metadata": {},
   "source": [
    "* [Soal_1](#Soal_1)\n",
    "* [Soal_2](#Soal_2)"
   ]
  },
  {
   "cell_type": "code",
   "execution_count": 1,
   "metadata": {},
   "outputs": [],
   "source": [
    "import pandas\n",
    "import matplotlib.pyplot\n",
    "import numpy"
   ]
  },
  {
   "cell_type": "code",
   "execution_count": 2,
   "metadata": {},
   "outputs": [
    {
     "data": {
      "text/html": [
       "<div>\n",
       "<style scoped>\n",
       "    .dataframe tbody tr th:only-of-type {\n",
       "        vertical-align: middle;\n",
       "    }\n",
       "\n",
       "    .dataframe tbody tr th {\n",
       "        vertical-align: top;\n",
       "    }\n",
       "\n",
       "    .dataframe thead th {\n",
       "        text-align: right;\n",
       "    }\n",
       "</style>\n",
       "<table border=\"1\" class=\"dataframe\">\n",
       "  <thead>\n",
       "    <tr style=\"text-align: right;\">\n",
       "      <th></th>\n",
       "      <th>id</th>\n",
       "      <th>Daerah</th>\n",
       "      <th>SumbuUtama</th>\n",
       "      <th>SumbuKecil</th>\n",
       "      <th>Keunikan</th>\n",
       "      <th>AreaBulatan</th>\n",
       "      <th>Diameter</th>\n",
       "      <th>KadarAir</th>\n",
       "      <th>Keliling</th>\n",
       "      <th>Bulatan</th>\n",
       "      <th>Ransum</th>\n",
       "      <th>Kelas</th>\n",
       "    </tr>\n",
       "  </thead>\n",
       "  <tbody>\n",
       "    <tr>\n",
       "      <th>0</th>\n",
       "      <td>1</td>\n",
       "      <td>5781</td>\n",
       "      <td>128.288875</td>\n",
       "      <td>58.470846</td>\n",
       "      <td>0.890095</td>\n",
       "      <td>5954</td>\n",
       "      <td>85.793926</td>\n",
       "      <td>0.674090</td>\n",
       "      <td>316.756</td>\n",
       "      <td>0.724041</td>\n",
       "      <td>2.194066</td>\n",
       "      <td>1</td>\n",
       "    </tr>\n",
       "    <tr>\n",
       "      <th>1</th>\n",
       "      <td>2</td>\n",
       "      <td>4176</td>\n",
       "      <td>109.348294</td>\n",
       "      <td>49.837688</td>\n",
       "      <td>0.890098</td>\n",
       "      <td>4277</td>\n",
       "      <td>72.918093</td>\n",
       "      <td>0.596231</td>\n",
       "      <td>260.346</td>\n",
       "      <td>0.774227</td>\n",
       "      <td>2.194088</td>\n",
       "      <td>1</td>\n",
       "    </tr>\n",
       "    <tr>\n",
       "      <th>2</th>\n",
       "      <td>3</td>\n",
       "      <td>4555</td>\n",
       "      <td>114.427991</td>\n",
       "      <td>52.151207</td>\n",
       "      <td>0.890105</td>\n",
       "      <td>4706</td>\n",
       "      <td>76.155145</td>\n",
       "      <td>0.776641</td>\n",
       "      <td>279.606</td>\n",
       "      <td>0.732159</td>\n",
       "      <td>2.194158</td>\n",
       "      <td>1</td>\n",
       "    </tr>\n",
       "    <tr>\n",
       "      <th>3</th>\n",
       "      <td>4</td>\n",
       "      <td>4141</td>\n",
       "      <td>108.701191</td>\n",
       "      <td>49.457349</td>\n",
       "      <td>0.890499</td>\n",
       "      <td>4236</td>\n",
       "      <td>72.611879</td>\n",
       "      <td>0.633180</td>\n",
       "      <td>260.478</td>\n",
       "      <td>0.766960</td>\n",
       "      <td>2.197877</td>\n",
       "      <td>1</td>\n",
       "    </tr>\n",
       "    <tr>\n",
       "      <th>4</th>\n",
       "      <td>5</td>\n",
       "      <td>5273</td>\n",
       "      <td>122.747869</td>\n",
       "      <td>55.757848</td>\n",
       "      <td>0.890876</td>\n",
       "      <td>5431</td>\n",
       "      <td>81.937733</td>\n",
       "      <td>0.669842</td>\n",
       "      <td>302.730</td>\n",
       "      <td>0.723031</td>\n",
       "      <td>2.201446</td>\n",
       "      <td>1</td>\n",
       "    </tr>\n",
       "    <tr>\n",
       "      <th>...</th>\n",
       "      <td>...</td>\n",
       "      <td>...</td>\n",
       "      <td>...</td>\n",
       "      <td>...</td>\n",
       "      <td>...</td>\n",
       "      <td>...</td>\n",
       "      <td>...</td>\n",
       "      <td>...</td>\n",
       "      <td>...</td>\n",
       "      <td>...</td>\n",
       "      <td>...</td>\n",
       "      <td>...</td>\n",
       "    </tr>\n",
       "    <tr>\n",
       "      <th>495</th>\n",
       "      <td>496</td>\n",
       "      <td>5083</td>\n",
       "      <td>120.083450</td>\n",
       "      <td>54.821580</td>\n",
       "      <td>0.889709</td>\n",
       "      <td>5179</td>\n",
       "      <td>80.447975</td>\n",
       "      <td>0.534827</td>\n",
       "      <td>286.377</td>\n",
       "      <td>0.778850</td>\n",
       "      <td>2.190441</td>\n",
       "      <td>2</td>\n",
       "    </tr>\n",
       "    <tr>\n",
       "      <th>496</th>\n",
       "      <td>497</td>\n",
       "      <td>4432</td>\n",
       "      <td>112.367050</td>\n",
       "      <td>51.294914</td>\n",
       "      <td>0.889726</td>\n",
       "      <td>4550</td>\n",
       "      <td>75.119889</td>\n",
       "      <td>0.601194</td>\n",
       "      <td>270.823</td>\n",
       "      <td>0.759344</td>\n",
       "      <td>2.190608</td>\n",
       "      <td>2</td>\n",
       "    </tr>\n",
       "    <tr>\n",
       "      <th>497</th>\n",
       "      <td>498</td>\n",
       "      <td>5020</td>\n",
       "      <td>119.873742</td>\n",
       "      <td>54.718545</td>\n",
       "      <td>0.889740</td>\n",
       "      <td>5104</td>\n",
       "      <td>79.947874</td>\n",
       "      <td>0.528421</td>\n",
       "      <td>285.799</td>\n",
       "      <td>0.772311</td>\n",
       "      <td>2.190733</td>\n",
       "      <td>2</td>\n",
       "    </tr>\n",
       "    <tr>\n",
       "      <th>498</th>\n",
       "      <td>499</td>\n",
       "      <td>4035</td>\n",
       "      <td>107.311728</td>\n",
       "      <td>48.930802</td>\n",
       "      <td>0.889996</td>\n",
       "      <td>4150</td>\n",
       "      <td>71.676506</td>\n",
       "      <td>0.584698</td>\n",
       "      <td>258.503</td>\n",
       "      <td>0.758791</td>\n",
       "      <td>2.193132</td>\n",
       "      <td>2</td>\n",
       "    </tr>\n",
       "    <tr>\n",
       "      <th>499</th>\n",
       "      <td>500</td>\n",
       "      <td>3379</td>\n",
       "      <td>99.014789</td>\n",
       "      <td>44.631551</td>\n",
       "      <td>0.892647</td>\n",
       "      <td>3491</td>\n",
       "      <td>65.591741</td>\n",
       "      <td>0.653578</td>\n",
       "      <td>237.593</td>\n",
       "      <td>0.752196</td>\n",
       "      <td>2.218493</td>\n",
       "      <td>2</td>\n",
       "    </tr>\n",
       "  </tbody>\n",
       "</table>\n",
       "<p>500 rows × 12 columns</p>\n",
       "</div>"
      ],
      "text/plain": [
       "      id  Daerah  SumbuUtama  SumbuKecil  Keunikan  AreaBulatan   Diameter  \\\n",
       "0      1    5781  128.288875   58.470846  0.890095         5954  85.793926   \n",
       "1      2    4176  109.348294   49.837688  0.890098         4277  72.918093   \n",
       "2      3    4555  114.427991   52.151207  0.890105         4706  76.155145   \n",
       "3      4    4141  108.701191   49.457349  0.890499         4236  72.611879   \n",
       "4      5    5273  122.747869   55.757848  0.890876         5431  81.937733   \n",
       "..   ...     ...         ...         ...       ...          ...        ...   \n",
       "495  496    5083  120.083450   54.821580  0.889709         5179  80.447975   \n",
       "496  497    4432  112.367050   51.294914  0.889726         4550  75.119889   \n",
       "497  498    5020  119.873742   54.718545  0.889740         5104  79.947874   \n",
       "498  499    4035  107.311728   48.930802  0.889996         4150  71.676506   \n",
       "499  500    3379   99.014789   44.631551  0.892647         3491  65.591741   \n",
       "\n",
       "     KadarAir  Keliling   Bulatan    Ransum  Kelas  \n",
       "0    0.674090   316.756  0.724041  2.194066      1  \n",
       "1    0.596231   260.346  0.774227  2.194088      1  \n",
       "2    0.776641   279.606  0.732159  2.194158      1  \n",
       "3    0.633180   260.478  0.766960  2.197877      1  \n",
       "4    0.669842   302.730  0.723031  2.201446      1  \n",
       "..        ...       ...       ...       ...    ...  \n",
       "495  0.534827   286.377  0.778850  2.190441      2  \n",
       "496  0.601194   270.823  0.759344  2.190608      2  \n",
       "497  0.528421   285.799  0.772311  2.190733      2  \n",
       "498  0.584698   258.503  0.758791  2.193132      2  \n",
       "499  0.653578   237.593  0.752196  2.218493      2  \n",
       "\n",
       "[500 rows x 12 columns]"
      ]
     },
     "execution_count": 2,
     "metadata": {},
     "output_type": "execute_result"
    }
   ],
   "source": [
    "column_names = [\"id\", \"Daerah\", \"SumbuUtama\", \"SumbuKecil\", \"Keunikan\", \"AreaBulatan\", \"Diameter\", \"KadarAir\", \"Keliling\", \"Bulatan\", \"Ransum\", \"Kelas\"]\n",
    "gandum = pandas.read_csv(\"./../test/Gandum.csv\", header = None, names = column_names)\n",
    "gandum  # Memperlihatkan Gandum.csv\n",
    "        # Kolom 2 - 11 adalah kolom atribut (non-target), kolom 12 adalah target"
   ]
  },
  {
   "cell_type": "code",
   "execution_count": 3,
   "metadata": {},
   "outputs": [
    {
     "data": {
      "text/plain": [
       "RangeIndex(start=0, stop=500, step=1)"
      ]
     },
     "execution_count": 3,
     "metadata": {},
     "output_type": "execute_result"
    }
   ],
   "source": [
    "gandum.index # RangeIndex"
   ]
  },
  {
   "cell_type": "code",
   "execution_count": 4,
   "metadata": {
    "scrolled": true
   },
   "outputs": [
    {
     "data": {
      "text/html": [
       "<div>\n",
       "<style scoped>\n",
       "    .dataframe tbody tr th:only-of-type {\n",
       "        vertical-align: middle;\n",
       "    }\n",
       "\n",
       "    .dataframe tbody tr th {\n",
       "        vertical-align: top;\n",
       "    }\n",
       "\n",
       "    .dataframe thead th {\n",
       "        text-align: right;\n",
       "    }\n",
       "</style>\n",
       "<table border=\"1\" class=\"dataframe\">\n",
       "  <thead>\n",
       "    <tr style=\"text-align: right;\">\n",
       "      <th></th>\n",
       "      <th>id</th>\n",
       "      <th>Daerah</th>\n",
       "      <th>SumbuUtama</th>\n",
       "      <th>SumbuKecil</th>\n",
       "      <th>Keunikan</th>\n",
       "      <th>AreaBulatan</th>\n",
       "      <th>Diameter</th>\n",
       "      <th>KadarAir</th>\n",
       "      <th>Keliling</th>\n",
       "      <th>Bulatan</th>\n",
       "      <th>Ransum</th>\n",
       "      <th>Kelas</th>\n",
       "    </tr>\n",
       "  </thead>\n",
       "  <tbody>\n",
       "    <tr>\n",
       "      <th>0</th>\n",
       "      <td>1</td>\n",
       "      <td>5781</td>\n",
       "      <td>128.288875</td>\n",
       "      <td>58.470846</td>\n",
       "      <td>0.890095</td>\n",
       "      <td>5954</td>\n",
       "      <td>85.793926</td>\n",
       "      <td>0.674090</td>\n",
       "      <td>316.756</td>\n",
       "      <td>0.724041</td>\n",
       "      <td>2.194066</td>\n",
       "      <td>1</td>\n",
       "    </tr>\n",
       "    <tr>\n",
       "      <th>1</th>\n",
       "      <td>2</td>\n",
       "      <td>4176</td>\n",
       "      <td>109.348294</td>\n",
       "      <td>49.837688</td>\n",
       "      <td>0.890098</td>\n",
       "      <td>4277</td>\n",
       "      <td>72.918093</td>\n",
       "      <td>0.596231</td>\n",
       "      <td>260.346</td>\n",
       "      <td>0.774227</td>\n",
       "      <td>2.194088</td>\n",
       "      <td>1</td>\n",
       "    </tr>\n",
       "    <tr>\n",
       "      <th>2</th>\n",
       "      <td>3</td>\n",
       "      <td>4555</td>\n",
       "      <td>114.427991</td>\n",
       "      <td>52.151207</td>\n",
       "      <td>0.890105</td>\n",
       "      <td>4706</td>\n",
       "      <td>76.155145</td>\n",
       "      <td>0.776641</td>\n",
       "      <td>279.606</td>\n",
       "      <td>0.732159</td>\n",
       "      <td>2.194158</td>\n",
       "      <td>1</td>\n",
       "    </tr>\n",
       "    <tr>\n",
       "      <th>3</th>\n",
       "      <td>4</td>\n",
       "      <td>4141</td>\n",
       "      <td>108.701191</td>\n",
       "      <td>49.457349</td>\n",
       "      <td>0.890499</td>\n",
       "      <td>4236</td>\n",
       "      <td>72.611879</td>\n",
       "      <td>0.633180</td>\n",
       "      <td>260.478</td>\n",
       "      <td>0.766960</td>\n",
       "      <td>2.197877</td>\n",
       "      <td>1</td>\n",
       "    </tr>\n",
       "    <tr>\n",
       "      <th>4</th>\n",
       "      <td>5</td>\n",
       "      <td>5273</td>\n",
       "      <td>122.747869</td>\n",
       "      <td>55.757848</td>\n",
       "      <td>0.890876</td>\n",
       "      <td>5431</td>\n",
       "      <td>81.937733</td>\n",
       "      <td>0.669842</td>\n",
       "      <td>302.730</td>\n",
       "      <td>0.723031</td>\n",
       "      <td>2.201446</td>\n",
       "      <td>1</td>\n",
       "    </tr>\n",
       "    <tr>\n",
       "      <th>5</th>\n",
       "      <td>6</td>\n",
       "      <td>5371</td>\n",
       "      <td>123.943530</td>\n",
       "      <td>56.235398</td>\n",
       "      <td>0.891145</td>\n",
       "      <td>5531</td>\n",
       "      <td>82.695644</td>\n",
       "      <td>0.734144</td>\n",
       "      <td>297.114</td>\n",
       "      <td>0.764573</td>\n",
       "      <td>2.204013</td>\n",
       "      <td>1</td>\n",
       "    </tr>\n",
       "    <tr>\n",
       "      <th>6</th>\n",
       "      <td>7</td>\n",
       "      <td>6332</td>\n",
       "      <td>135.249060</td>\n",
       "      <td>61.312148</td>\n",
       "      <td>0.891344</td>\n",
       "      <td>6528</td>\n",
       "      <td>89.789492</td>\n",
       "      <td>0.579747</td>\n",
       "      <td>328.799</td>\n",
       "      <td>0.736020</td>\n",
       "      <td>2.205910</td>\n",
       "      <td>1</td>\n",
       "    </tr>\n",
       "    <tr>\n",
       "      <th>7</th>\n",
       "      <td>8</td>\n",
       "      <td>5595</td>\n",
       "      <td>126.292008</td>\n",
       "      <td>57.238214</td>\n",
       "      <td>0.891398</td>\n",
       "      <td>5745</td>\n",
       "      <td>84.402460</td>\n",
       "      <td>0.621046</td>\n",
       "      <td>303.285</td>\n",
       "      <td>0.764378</td>\n",
       "      <td>2.206428</td>\n",
       "      <td>1</td>\n",
       "    </tr>\n",
       "    <tr>\n",
       "      <th>8</th>\n",
       "      <td>9</td>\n",
       "      <td>4664</td>\n",
       "      <td>115.859780</td>\n",
       "      <td>52.493440</td>\n",
       "      <td>0.891471</td>\n",
       "      <td>4826</td>\n",
       "      <td>77.060945</td>\n",
       "      <td>0.712170</td>\n",
       "      <td>282.980</td>\n",
       "      <td>0.731909</td>\n",
       "      <td>2.207129</td>\n",
       "      <td>1</td>\n",
       "    </tr>\n",
       "    <tr>\n",
       "      <th>9</th>\n",
       "      <td>10</td>\n",
       "      <td>5762</td>\n",
       "      <td>128.482339</td>\n",
       "      <td>58.165177</td>\n",
       "      <td>0.891658</td>\n",
       "      <td>5932</td>\n",
       "      <td>85.652824</td>\n",
       "      <td>0.659872</td>\n",
       "      <td>312.678</td>\n",
       "      <td>0.740608</td>\n",
       "      <td>2.208922</td>\n",
       "      <td>1</td>\n",
       "    </tr>\n",
       "  </tbody>\n",
       "</table>\n",
       "</div>"
      ],
      "text/plain": [
       "   id  Daerah  SumbuUtama  SumbuKecil  Keunikan  AreaBulatan   Diameter  \\\n",
       "0   1    5781  128.288875   58.470846  0.890095         5954  85.793926   \n",
       "1   2    4176  109.348294   49.837688  0.890098         4277  72.918093   \n",
       "2   3    4555  114.427991   52.151207  0.890105         4706  76.155145   \n",
       "3   4    4141  108.701191   49.457349  0.890499         4236  72.611879   \n",
       "4   5    5273  122.747869   55.757848  0.890876         5431  81.937733   \n",
       "5   6    5371  123.943530   56.235398  0.891145         5531  82.695644   \n",
       "6   7    6332  135.249060   61.312148  0.891344         6528  89.789492   \n",
       "7   8    5595  126.292008   57.238214  0.891398         5745  84.402460   \n",
       "8   9    4664  115.859780   52.493440  0.891471         4826  77.060945   \n",
       "9  10    5762  128.482339   58.165177  0.891658         5932  85.652824   \n",
       "\n",
       "   KadarAir  Keliling   Bulatan    Ransum  Kelas  \n",
       "0  0.674090   316.756  0.724041  2.194066      1  \n",
       "1  0.596231   260.346  0.774227  2.194088      1  \n",
       "2  0.776641   279.606  0.732159  2.194158      1  \n",
       "3  0.633180   260.478  0.766960  2.197877      1  \n",
       "4  0.669842   302.730  0.723031  2.201446      1  \n",
       "5  0.734144   297.114  0.764573  2.204013      1  \n",
       "6  0.579747   328.799  0.736020  2.205910      1  \n",
       "7  0.621046   303.285  0.764378  2.206428      1  \n",
       "8  0.712170   282.980  0.731909  2.207129      1  \n",
       "9  0.659872   312.678  0.740608  2.208922      1  "
      ]
     },
     "execution_count": 4,
     "metadata": {},
     "output_type": "execute_result"
    }
   ],
   "source": [
    "gandum.head(10) # 10 Baris pertama"
   ]
  },
  {
   "cell_type": "markdown",
   "metadata": {},
   "source": [
    "### Soal_1\n",
    "1. Menulis deskripsi statistika (Descriptive Statistics) dari semua kolom pada data yang bersifat numerik, terdiri dari mean, median, modus, standar deviasi, variansi, range, nilai minimum, maksimum, kuartil, IQR, skewness dan kurtosis. Boleh juga ditambahkan deskripsi lain."
   ]
  },
  {
   "cell_type": "code",
   "execution_count": 5,
   "metadata": {
    "scrolled": true
   },
   "outputs": [
    {
     "data": {
      "text/html": [
       "<div>\n",
       "<style scoped>\n",
       "    .dataframe tbody tr th:only-of-type {\n",
       "        vertical-align: middle;\n",
       "    }\n",
       "\n",
       "    .dataframe tbody tr th {\n",
       "        vertical-align: top;\n",
       "    }\n",
       "\n",
       "    .dataframe thead th {\n",
       "        text-align: right;\n",
       "    }\n",
       "</style>\n",
       "<table border=\"1\" class=\"dataframe\">\n",
       "  <thead>\n",
       "    <tr style=\"text-align: right;\">\n",
       "      <th></th>\n",
       "      <th>Mean</th>\n",
       "      <th>Median</th>\n",
       "      <th>Modus</th>\n",
       "      <th>Std.Deviasi</th>\n",
       "      <th>Variansi</th>\n",
       "      <th>Range</th>\n",
       "      <th>Maksimum</th>\n",
       "      <th>Minimum</th>\n",
       "      <th>Q1</th>\n",
       "      <th>Q3</th>\n",
       "      <th>IQR</th>\n",
       "      <th>Skewness</th>\n",
       "      <th>Kurtosis</th>\n",
       "    </tr>\n",
       "  </thead>\n",
       "  <tbody>\n",
       "    <tr>\n",
       "      <th>Daerah</th>\n",
       "      <td>4801.246000</td>\n",
       "      <td>4735.000000</td>\n",
       "      <td>3992.000000</td>\n",
       "      <td>986.395491</td>\n",
       "      <td>9.729761e+05</td>\n",
       "      <td>4932.000000</td>\n",
       "      <td>7453.000000</td>\n",
       "      <td>2522.000000</td>\n",
       "      <td>4042.750000</td>\n",
       "      <td>5495.500000</td>\n",
       "      <td>1452.750000</td>\n",
       "      <td>0.238144</td>\n",
       "      <td>-0.434631</td>\n",
       "    </tr>\n",
       "    <tr>\n",
       "      <th>SumbuUtama</th>\n",
       "      <td>116.045171</td>\n",
       "      <td>115.405140</td>\n",
       "      <td>74.133114</td>\n",
       "      <td>18.282626</td>\n",
       "      <td>3.342544e+02</td>\n",
       "      <td>154.795469</td>\n",
       "      <td>227.928583</td>\n",
       "      <td>74.133114</td>\n",
       "      <td>104.116098</td>\n",
       "      <td>129.046792</td>\n",
       "      <td>24.930694</td>\n",
       "      <td>0.761529</td>\n",
       "      <td>4.330534</td>\n",
       "    </tr>\n",
       "    <tr>\n",
       "      <th>SumbuKecil</th>\n",
       "      <td>53.715246</td>\n",
       "      <td>53.731199</td>\n",
       "      <td>39.906517</td>\n",
       "      <td>4.071075</td>\n",
       "      <td>1.657365e+01</td>\n",
       "      <td>30.071182</td>\n",
       "      <td>68.977700</td>\n",
       "      <td>39.906517</td>\n",
       "      <td>51.193576</td>\n",
       "      <td>56.325158</td>\n",
       "      <td>5.131582</td>\n",
       "      <td>-0.010828</td>\n",
       "      <td>0.475568</td>\n",
       "    </tr>\n",
       "    <tr>\n",
       "      <th>Keunikan</th>\n",
       "      <td>0.878764</td>\n",
       "      <td>0.890045</td>\n",
       "      <td>0.719916</td>\n",
       "      <td>0.036586</td>\n",
       "      <td>1.338528e-03</td>\n",
       "      <td>1.194085</td>\n",
       "      <td>0.914001</td>\n",
       "      <td>0.719916</td>\n",
       "      <td>0.863676</td>\n",
       "      <td>0.907578</td>\n",
       "      <td>0.043902</td>\n",
       "      <td>-1.623472</td>\n",
       "      <td>2.917256</td>\n",
       "    </tr>\n",
       "    <tr>\n",
       "      <th>AreaBulatan</th>\n",
       "      <td>4937.048000</td>\n",
       "      <td>4857.000000</td>\n",
       "      <td>3802.000000</td>\n",
       "      <td>1011.696255</td>\n",
       "      <td>1.023529e+06</td>\n",
       "      <td>5142.000000</td>\n",
       "      <td>7720.000000</td>\n",
       "      <td>2579.000000</td>\n",
       "      <td>4170.250000</td>\n",
       "      <td>5654.250000</td>\n",
       "      <td>1484.000000</td>\n",
       "      <td>0.257560</td>\n",
       "      <td>-0.409685</td>\n",
       "    </tr>\n",
       "    <tr>\n",
       "      <th>Diameter</th>\n",
       "      <td>77.771158</td>\n",
       "      <td>77.645277</td>\n",
       "      <td>71.293564</td>\n",
       "      <td>8.056867</td>\n",
       "      <td>6.491311e+01</td>\n",
       "      <td>41.747172</td>\n",
       "      <td>97.413830</td>\n",
       "      <td>56.666658</td>\n",
       "      <td>71.745308</td>\n",
       "      <td>83.648598</td>\n",
       "      <td>11.903290</td>\n",
       "      <td>0.002725</td>\n",
       "      <td>-0.466455</td>\n",
       "    </tr>\n",
       "    <tr>\n",
       "      <th>KadarAir</th>\n",
       "      <td>0.648372</td>\n",
       "      <td>0.626117</td>\n",
       "      <td>0.735849</td>\n",
       "      <td>0.094367</td>\n",
       "      <td>8.905149e-03</td>\n",
       "      <td>1.468972</td>\n",
       "      <td>0.878899</td>\n",
       "      <td>0.409927</td>\n",
       "      <td>0.572632</td>\n",
       "      <td>0.726633</td>\n",
       "      <td>0.154001</td>\n",
       "      <td>0.493661</td>\n",
       "      <td>-0.740326</td>\n",
       "    </tr>\n",
       "    <tr>\n",
       "      <th>Keliling</th>\n",
       "      <td>281.479722</td>\n",
       "      <td>280.045500</td>\n",
       "      <td>197.015000</td>\n",
       "      <td>37.335402</td>\n",
       "      <td>1.393932e+03</td>\n",
       "      <td>292.822000</td>\n",
       "      <td>488.837000</td>\n",
       "      <td>197.015000</td>\n",
       "      <td>255.883000</td>\n",
       "      <td>306.062500</td>\n",
       "      <td>50.179500</td>\n",
       "      <td>0.733627</td>\n",
       "      <td>2.272685</td>\n",
       "    </tr>\n",
       "    <tr>\n",
       "      <th>Bulatan</th>\n",
       "      <td>0.761737</td>\n",
       "      <td>0.761288</td>\n",
       "      <td>0.174590</td>\n",
       "      <td>0.061702</td>\n",
       "      <td>3.807194e-03</td>\n",
       "      <td>1.730158</td>\n",
       "      <td>0.904748</td>\n",
       "      <td>0.174590</td>\n",
       "      <td>0.731991</td>\n",
       "      <td>0.796361</td>\n",
       "      <td>0.064370</td>\n",
       "      <td>-3.599237</td>\n",
       "      <td>29.975096</td>\n",
       "    </tr>\n",
       "    <tr>\n",
       "      <th>Ransum</th>\n",
       "      <td>2.150915</td>\n",
       "      <td>2.193599</td>\n",
       "      <td>1.440796</td>\n",
       "      <td>0.249767</td>\n",
       "      <td>6.238350e-02</td>\n",
       "      <td>2.024013</td>\n",
       "      <td>2.464809</td>\n",
       "      <td>1.440796</td>\n",
       "      <td>1.983939</td>\n",
       "      <td>2.381612</td>\n",
       "      <td>0.397673</td>\n",
       "      <td>-0.658188</td>\n",
       "      <td>-0.428656</td>\n",
       "    </tr>\n",
       "  </tbody>\n",
       "</table>\n",
       "</div>"
      ],
      "text/plain": [
       "                    Mean       Median        Modus  Std.Deviasi      Variansi  \\\n",
       "Daerah       4801.246000  4735.000000  3992.000000   986.395491  9.729761e+05   \n",
       "SumbuUtama    116.045171   115.405140    74.133114    18.282626  3.342544e+02   \n",
       "SumbuKecil     53.715246    53.731199    39.906517     4.071075  1.657365e+01   \n",
       "Keunikan        0.878764     0.890045     0.719916     0.036586  1.338528e-03   \n",
       "AreaBulatan  4937.048000  4857.000000  3802.000000  1011.696255  1.023529e+06   \n",
       "Diameter       77.771158    77.645277    71.293564     8.056867  6.491311e+01   \n",
       "KadarAir        0.648372     0.626117     0.735849     0.094367  8.905149e-03   \n",
       "Keliling      281.479722   280.045500   197.015000    37.335402  1.393932e+03   \n",
       "Bulatan         0.761737     0.761288     0.174590     0.061702  3.807194e-03   \n",
       "Ransum          2.150915     2.193599     1.440796     0.249767  6.238350e-02   \n",
       "\n",
       "                   Range     Maksimum      Minimum           Q1           Q3  \\\n",
       "Daerah       4932.000000  7453.000000  2522.000000  4042.750000  5495.500000   \n",
       "SumbuUtama    154.795469   227.928583    74.133114   104.116098   129.046792   \n",
       "SumbuKecil     30.071182    68.977700    39.906517    51.193576    56.325158   \n",
       "Keunikan        1.194085     0.914001     0.719916     0.863676     0.907578   \n",
       "AreaBulatan  5142.000000  7720.000000  2579.000000  4170.250000  5654.250000   \n",
       "Diameter       41.747172    97.413830    56.666658    71.745308    83.648598   \n",
       "KadarAir        1.468972     0.878899     0.409927     0.572632     0.726633   \n",
       "Keliling      292.822000   488.837000   197.015000   255.883000   306.062500   \n",
       "Bulatan         1.730158     0.904748     0.174590     0.731991     0.796361   \n",
       "Ransum          2.024013     2.464809     1.440796     1.983939     2.381612   \n",
       "\n",
       "                     IQR  Skewness   Kurtosis  \n",
       "Daerah       1452.750000  0.238144  -0.434631  \n",
       "SumbuUtama     24.930694  0.761529   4.330534  \n",
       "SumbuKecil      5.131582 -0.010828   0.475568  \n",
       "Keunikan        0.043902 -1.623472   2.917256  \n",
       "AreaBulatan  1484.000000  0.257560  -0.409685  \n",
       "Diameter       11.903290  0.002725  -0.466455  \n",
       "KadarAir        0.154001  0.493661  -0.740326  \n",
       "Keliling       50.179500  0.733627   2.272685  \n",
       "Bulatan         0.064370 -3.599237  29.975096  \n",
       "Ransum          0.397673 -0.658188  -0.428656  "
      ]
     },
     "execution_count": 5,
     "metadata": {},
     "output_type": "execute_result"
    }
   ],
   "source": [
    "# Soal 1\n",
    "descGandum = gandum.drop(columns = [\"id\", \"Kelas\"]) # Drop kolom id dan Kelas\n",
    "statistik = pandas.DataFrame() # Membuat DataFrame baru\n",
    "statistik[\"Mean\"] = descGandum.mean() # Mean\n",
    "statistik[\"Median\"] = descGandum.median() # Median\n",
    "statistik[\"Modus\"] = descGandum.mode(axis = 0, numeric_only = True).dropna().iloc[0] # Modus\n",
    "statistik[\"Std.Deviasi\"] = descGandum.std() # Standar Deviasi\n",
    "statistik[\"Variansi\"] = descGandum.var() # Variansi\n",
    "statistik[\"Range\"] = descGandum.max() - descGandum.min() + 1 # Range\n",
    "statistik[\"Maksimum\"] = descGandum.max() # Maksimum\n",
    "statistik[\"Minimum\"] = descGandum.min() # Minimum\n",
    "statistik[\"Q1\"] = descGandum.quantile(.25) # Quartil pertama\n",
    "statistik[\"Q3\"] = descGandum.quantile(.75) # Quartil ketiga\n",
    "statistik[\"IQR\"] = statistik[\"Q3\"] - statistik[\"Q1\"] # Interquartile Range (IQR)\n",
    "statistik[\"Skewness\"] = descGandum.skew() # Skewness\n",
    "statistik[\"Kurtosis\"] = descGandum.kurtosis() # Kurtosis\n",
    "statistik # Memperlihatkan DataFrame 'statistik'"
   ]
  },
  {
   "cell_type": "markdown",
   "metadata": {},
   "source": [
    "### Soal_2\n",
    "2. Membuat Visualisasi plot distribusi, dalam bentuk histogram dan boxplot untuk setiap kolom numerik. Berikan uraian penjelasan kondisi setiap kolom berdasarkan kedua plot tersebut.\n",
    "\n",
    "### TODO Soal_2 : Deskripsi"
   ]
  },
  {
   "cell_type": "markdown",
   "metadata": {},
   "source": [
    "#### Kolom \"Daerah\""
   ]
  },
  {
   "cell_type": "code",
   "execution_count": 6,
   "metadata": {},
   "outputs": [
    {
     "data": {
      "text/plain": [
       "<AxesSubplot:ylabel='Frequency'>"
      ]
     },
     "execution_count": 6,
     "metadata": {},
     "output_type": "execute_result"
    },
    {
     "data": {
      "image/png": "[encoded data removed]",
      "text/plain": [
       "<Figure size 432x288 with 1 Axes>"
      ]
     },
     "metadata": {
      "needs_background": "light"
     },
     "output_type": "display_data"
    }
   ],
   "source": [
    "# Histogram Plot Kolom Daerah (Histogram)\n",
    "gandum[\"Daerah\"].plot(kind = 'hist')"
   ]
  },
  {
   "cell_type": "code",
   "execution_count": 7,
   "metadata": {},
   "outputs": [
    {
     "data": {
      "text/plain": [
       "<AxesSubplot:>"
      ]
     },
     "execution_count": 7,
     "metadata": {},
     "output_type": "execute_result"
    },
    {
     "data": {
      "image/png": "[encoded data removed]",
      "text/plain": [
       "<Figure size 432x288 with 1 Axes>"
      ]
     },
     "metadata": {
      "needs_background": "light"
     },
     "output_type": "display_data"
    }
   ],
   "source": [
    "# Histogram Plot Kolom Daerah (Box)\n",
    "gandum[\"Daerah\"].plot(kind = 'box')"
   ]
  },
  {
   "cell_type": "markdown",
   "metadata": {},
   "source": [
    "#### Kolom \"Sumbu Utama\""
   ]
  },
  {
   "cell_type": "code",
   "execution_count": 8,
   "metadata": {},
   "outputs": [
    {
     "data": {
      "text/plain": [
       "<AxesSubplot:ylabel='Frequency'>"
      ]
     },
     "execution_count": 8,
     "metadata": {},
     "output_type": "execute_result"
    },
    {
     "data": {
      "image/png": "[encoded data removed]",
      "text/plain": [
       "<Figure size 432x288 with 1 Axes>"
      ]
     },
     "metadata": {
      "needs_background": "light"
     },
     "output_type": "display_data"
    }
   ],
   "source": [
    "# Histogram Plot Kolom Daerah (Histogram)\n",
    "gandum[\"SumbuUtama\"].plot(kind = 'hist')"
   ]
  },
  {
   "cell_type": "code",
   "execution_count": 9,
   "metadata": {},
   "outputs": [
    {
     "data": {
      "text/plain": [
       "<AxesSubplot:>"
      ]
     },
     "execution_count": 9,
     "metadata": {},
     "output_type": "execute_result"
    },
    {
     "data": {
      "image/png": "[encoded data removed]",
      "text/plain": [
       "<Figure size 432x288 with 1 Axes>"
      ]
     },
     "metadata": {
      "needs_background": "light"
     },
     "output_type": "display_data"
    }
   ],
   "source": [
    "# Histogram Plot Kolom Daerah (Box)\n",
    "gandum[\"SumbuUtama\"].plot(kind = 'box')"
   ]
  },
  {
   "cell_type": "markdown",
   "metadata": {},
   "source": [
    "#### Kolom \"Sumbu Kecil\""
   ]
  },
  {
   "cell_type": "code",
   "execution_count": 10,
   "metadata": {},
   "outputs": [
    {
     "data": {
      "text/plain": [
       "<AxesSubplot:ylabel='Frequency'>"
      ]
     },
     "execution_count": 10,
     "metadata": {},
     "output_type": "execute_result"
    },
    {
     "data": {
      "image/png": "[encoded data removed]",
      "text/plain": [
       "<Figure size 432x288 with 1 Axes>"
      ]
     },
     "metadata": {
      "needs_background": "light"
     },
     "output_type": "display_data"
    }
   ],
   "source": [
    "# Histogram Plot Kolom Daerah (Histogram)\n",
    "gandum[\"SumbuKecil\"].plot(kind = 'hist')"
   ]
  },
  {
   "cell_type": "code",
   "execution_count": 11,
   "metadata": {},
   "outputs": [
    {
     "data": {
      "text/plain": [
       "<AxesSubplot:>"
      ]
     },
     "execution_count": 11,
     "metadata": {},
     "output_type": "execute_result"
    },
    {
     "data": {
      "image/png": "[encoded data removed]",
      "text/plain": [
       "<Figure size 432x288 with 1 Axes>"
      ]
     },
     "metadata": {
      "needs_background": "light"
     },
     "output_type": "display_data"
    }
   ],
   "source": [
    "# Histogram Plot Kolom Daerah (Box)\n",
    "gandum[\"SumbuKecil\"].plot(kind = 'box')"
   ]
  },
  {
   "cell_type": "markdown",
   "metadata": {},
   "source": [
    "#### Kolom \"Keunikan\""
   ]
  },
  {
   "cell_type": "code",
   "execution_count": 12,
   "metadata": {
    "scrolled": true
   },
   "outputs": [
    {
     "data": {
      "text/plain": [
       "<AxesSubplot:ylabel='Frequency'>"
      ]
     },
     "execution_count": 12,
     "metadata": {},
     "output_type": "execute_result"
    },
    {
     "data": {
      "image/png": "[encoded data removed]",
      "text/plain": [
       "<Figure size 432x288 with 1 Axes>"
      ]
     },
     "metadata": {
      "needs_background": "light"
     },
     "output_type": "display_data"
    }
   ],
   "source": [
    "# Histogram Plot Kolom Daerah (Histogram)\n",
    "gandum[\"Keunikan\"].plot(kind = 'hist')"
   ]
  },
  {
   "cell_type": "code",
   "execution_count": 13,
   "metadata": {
    "scrolled": false
   },
   "outputs": [
    {
     "data": {
      "text/plain": [
       "<AxesSubplot:>"
      ]
     },
     "execution_count": 13,
     "metadata": {},
     "output_type": "execute_result"
    },
    {
     "data": {
      "image/png": "[encoded data removed]",
      "text/plain": [
       "<Figure size 432x288 with 1 Axes>"
      ]
     },
     "metadata": {
      "needs_background": "light"
     },
     "output_type": "display_data"
    }
   ],
   "source": [
    "# Histogram Plot Kolom Daerah (Box)\n",
    "gandum[\"Keunikan\"].plot(kind = 'box')"
   ]
  },
  {
   "cell_type": "markdown",
   "metadata": {},
   "source": [
    "#### Kolom \"Area Bulatan\""
   ]
  },
  {
   "cell_type": "code",
   "execution_count": 14,
   "metadata": {
    "scrolled": true
   },
   "outputs": [
    {
     "data": {
      "text/plain": [
       "<AxesSubplot:ylabel='Frequency'>"
      ]
     },
     "execution_count": 14,
     "metadata": {},
     "output_type": "execute_result"
    },
    {
     "data": {
      "image/png": "[encoded data removed]",
      "text/plain": [
       "<Figure size 432x288 with 1 Axes>"
      ]
     },
     "metadata": {
      "needs_background": "light"
     },
     "output_type": "display_data"
    }
   ],
   "source": [
    "# Histogram Plot Kolom Daerah (Histogram)\n",
    "gandum[\"AreaBulatan\"].plot(kind = 'hist')"
   ]
  },
  {
   "cell_type": "code",
   "execution_count": 15,
   "metadata": {
    "scrolled": false
   },
   "outputs": [
    {
     "data": {
      "text/plain": [
       "<AxesSubplot:>"
      ]
     },
     "execution_count": 15,
     "metadata": {},
     "output_type": "execute_result"
    },
    {
     "data": {
      "image/png": "[encoded data removed]",
      "text/plain": [
       "<Figure size 432x288 with 1 Axes>"
      ]
     },
     "metadata": {
      "needs_background": "light"
     },
     "output_type": "display_data"
    }
   ],
   "source": [
    "# Histogram Plot Kolom Daerah (Box)\n",
    "gandum[\"AreaBulatan\"].plot(kind = 'box')"
   ]
  },
  {
   "cell_type": "markdown",
   "metadata": {},
   "source": [
    "#### Kolom \"Diameter\""
   ]
  },
  {
   "cell_type": "code",
   "execution_count": 16,
   "metadata": {
    "scrolled": true
   },
   "outputs": [
    {
     "data": {
      "text/plain": [
       "<AxesSubplot:ylabel='Frequency'>"
      ]
     },
     "execution_count": 16,
     "metadata": {},
     "output_type": "execute_result"
    },
    {
     "data": {
      "image/png": "[encoded data removed]",
      "text/plain": [
       "<Figure size 432x288 with 1 Axes>"
      ]
     },
     "metadata": {
      "needs_background": "light"
     },
     "output_type": "display_data"
    }
   ],
   "source": [
    "# Histogram Plot Kolom Daerah (Histogram)\n",
    "gandum[\"Diameter\"].plot(kind = 'hist')"
   ]
  },
  {
   "cell_type": "code",
   "execution_count": 17,
   "metadata": {
    "scrolled": false
   },
   "outputs": [
    {
     "data": {
      "text/plain": [
       "<AxesSubplot:>"
      ]
     },
     "execution_count": 17,
     "metadata": {},
     "output_type": "execute_result"
    },
    {
     "data": {
      "image/png": "[encoded data removed]",
      "text/plain": [
       "<Figure size 432x288 with 1 Axes>"
      ]
     },
     "metadata": {
      "needs_background": "light"
     },
     "output_type": "display_data"
    }
   ],
   "source": [
    "# Histogram Plot Kolom Daerah (Box)\n",
    "gandum[\"Diameter\"].plot(kind = 'box')"
   ]
  },
  {
   "cell_type": "markdown",
   "metadata": {},
   "source": [
    "#### Kolom \"Kadar Air\""
   ]
  },
  {
   "cell_type": "code",
   "execution_count": 18,
   "metadata": {
    "scrolled": true
   },
   "outputs": [
    {
     "data": {
      "text/plain": [
       "<AxesSubplot:ylabel='Frequency'>"
      ]
     },
     "execution_count": 18,
     "metadata": {},
     "output_type": "execute_result"
    },
    {
     "data": {
      "image/png": "[encoded data removed]",
      "text/plain": [
       "<Figure size 432x288 with 1 Axes>"
      ]
     },
     "metadata": {
      "needs_background": "light"
     },
     "output_type": "display_data"
    }
   ],
   "source": [
    "# Histogram Plot Kolom Daerah (Histogram)\n",
    "gandum[\"KadarAir\"].plot(kind = 'hist')"
   ]
  },
  {
   "cell_type": "code",
   "execution_count": 19,
   "metadata": {
    "scrolled": true
   },
   "outputs": [
    {
     "data": {
      "text/plain": [
       "<AxesSubplot:>"
      ]
     },
     "execution_count": 19,
     "metadata": {},
     "output_type": "execute_result"
    },
    {
     "data": {
      "image/png": "[encoded data removed]",
      "text/plain": [
       "<Figure size 432x288 with 1 Axes>"
      ]
     },
     "metadata": {
      "needs_background": "light"
     },
     "output_type": "display_data"
    }
   ],
   "source": [
    "# Histogram Plot Kolom Daerah (Box)\n",
    "gandum[\"KadarAir\"].plot(kind = 'box')"
   ]
  },
  {
   "cell_type": "markdown",
   "metadata": {},
   "source": [
    "#### Kolom \"Keliling\""
   ]
  },
  {
   "cell_type": "code",
   "execution_count": 20,
   "metadata": {
    "scrolled": true
   },
   "outputs": [
    {
     "data": {
      "text/plain": [
       "<AxesSubplot:ylabel='Frequency'>"
      ]
     },
     "execution_count": 20,
     "metadata": {},
     "output_type": "execute_result"
    },
    {
     "data": {
      "image/png": "[encoded data removed]",
      "text/plain": [
       "<Figure size 432x288 with 1 Axes>"
      ]
     },
     "metadata": {
      "needs_background": "light"
     },
     "output_type": "display_data"
    }
   ],
   "source": [
    "# Histogram Plot Kolom Daerah (Histogram)\n",
    "gandum[\"Keliling\"].plot(kind = 'hist')"
   ]
  },
  {
   "cell_type": "code",
   "execution_count": 21,
   "metadata": {
    "scrolled": false
   },
   "outputs": [
    {
     "data": {
      "text/plain": [
       "<AxesSubplot:>"
      ]
     },
     "execution_count": 21,
     "metadata": {},
     "output_type": "execute_result"
    },
    {
     "data": {
      "image/png": "[encoded data removed]",
      "text/plain": [
       "<Figure size 432x288 with 1 Axes>"
      ]
     },
     "metadata": {
      "needs_background": "light"
     },
     "output_type": "display_data"
    }
   ],
   "source": [
    "# Histogram Plot Kolom Daerah (Box)\n",
    "gandum[\"Keliling\"].plot(kind = 'box')"
   ]
  },
  {
   "cell_type": "markdown",
   "metadata": {},
   "source": [
    "#### Kolom \"Bulatan\""
   ]
  },
  {
   "cell_type": "code",
   "execution_count": 22,
   "metadata": {
    "scrolled": true
   },
   "outputs": [
    {
     "data": {
      "text/plain": [
       "<AxesSubplot:ylabel='Frequency'>"
      ]
     },
     "execution_count": 22,
     "metadata": {},
     "output_type": "execute_result"
    },
    {
     "data": {
      "image/png": "[encoded data removed]",
      "text/plain": [
       "<Figure size 432x288 with 1 Axes>"
      ]
     },
     "metadata": {
      "needs_background": "light"
     },
     "output_type": "display_data"
    }
   ],
   "source": [
    "# Histogram Plot Kolom Daerah (Histogram)\n",
    "gandum[\"Bulatan\"].plot(kind = 'hist')"
   ]
  },
  {
   "cell_type": "code",
   "execution_count": 23,
   "metadata": {
    "scrolled": false
   },
   "outputs": [
    {
     "data": {
      "text/plain": [
       "<AxesSubplot:>"
      ]
     },
     "execution_count": 23,
     "metadata": {},
     "output_type": "execute_result"
    },
    {
     "data": {
      "image/png": "[encoded data removed]",
      "text/plain": [
       "<Figure size 432x288 with 1 Axes>"
      ]
     },
     "metadata": {
      "needs_background": "light"
     },
     "output_type": "display_data"
    }
   ],
   "source": [
    "# Histogram Plot Kolom Daerah (Box)\n",
    "gandum[\"Bulatan\"].plot(kind = 'box')"
   ]
  },
  {
   "cell_type": "markdown",
   "metadata": {},
   "source": [
    "#### Kolom \"Ransum\""
   ]
  },
  {
   "cell_type": "code",
   "execution_count": 24,
   "metadata": {
    "scrolled": true
   },
   "outputs": [
    {
     "data": {
      "text/plain": [
       "<AxesSubplot:ylabel='Frequency'>"
      ]
     },
     "execution_count": 24,
     "metadata": {},
     "output_type": "execute_result"
    },
    {
     "data": {
      "image/png": "[encoded data removed]",
      "text/plain": [
       "<Figure size 432x288 with 1 Axes>"
      ]
     },
     "metadata": {
      "needs_background": "light"
     },
     "output_type": "display_data"
    }
   ],
   "source": [
    "# Histogram Plot Kolom Daerah (Histogram)\n",
    "gandum[\"Ransum\"].plot(kind = 'hist')"
   ]
  },
  {
   "cell_type": "code",
   "execution_count": 25,
   "metadata": {
    "scrolled": false
   },
   "outputs": [
    {
     "data": {
      "text/plain": [
       "<AxesSubplot:>"
      ]
     },
     "execution_count": 25,
     "metadata": {},
     "output_type": "execute_result"
    },
    {
     "data": {
      "image/png": "[encoded data removed]",
      "text/plain": [
       "<Figure size 432x288 with 1 Axes>"
      ]
     },
     "metadata": {
      "needs_background": "light"
     },
     "output_type": "display_data"
    }
   ],
   "source": [
    "# Histogram Plot Kolom Daerah (Box)\n",
    "gandum[\"Ransum\"].plot(kind = 'box')"
   ]
  },
  {
   "cell_type": "code",
   "execution_count": 26,
   "metadata": {
    "scrolled": true
   },
   "outputs": [
    {
     "data": {
      "text/plain": [
       "0        1\n",
       "1        2\n",
       "2        3\n",
       "3        4\n",
       "4        5\n",
       "      ... \n",
       "495    496\n",
       "496    497\n",
       "497    498\n",
       "498    499\n",
       "499    500\n",
       "Name: id, Length: 500, dtype: int64"
      ]
     },
     "execution_count": 26,
     "metadata": {},
     "output_type": "execute_result"
    }
   ],
   "source": [
    "gandum.iloc[:,0] # indeks 0 (kolom 0)"
   ]
  },
  {
   "cell_type": "code",
   "execution_count": 27,
   "metadata": {},
   "outputs": [
    {
     "data": {
      "text/html": [
       "<div>\n",
       "<style scoped>\n",
       "    .dataframe tbody tr th:only-of-type {\n",
       "        vertical-align: middle;\n",
       "    }\n",
       "\n",
       "    .dataframe tbody tr th {\n",
       "        vertical-align: top;\n",
       "    }\n",
       "\n",
       "    .dataframe thead th {\n",
       "        text-align: right;\n",
       "    }\n",
       "</style>\n",
       "<table border=\"1\" class=\"dataframe\">\n",
       "  <thead>\n",
       "    <tr style=\"text-align: right;\">\n",
       "      <th></th>\n",
       "      <th>Daerah</th>\n",
       "      <th>SumbuUtama</th>\n",
       "      <th>SumbuKecil</th>\n",
       "      <th>Keunikan</th>\n",
       "      <th>AreaBulatan</th>\n",
       "      <th>Diameter</th>\n",
       "      <th>KadarAir</th>\n",
       "      <th>Keliling</th>\n",
       "      <th>Bulatan</th>\n",
       "      <th>Ransum</th>\n",
       "    </tr>\n",
       "  </thead>\n",
       "  <tbody>\n",
       "    <tr>\n",
       "      <th>0</th>\n",
       "      <td>3992.0</td>\n",
       "      <td>74.133114</td>\n",
       "      <td>39.906517</td>\n",
       "      <td>0.719916</td>\n",
       "      <td>3802.0</td>\n",
       "      <td>71.293564</td>\n",
       "      <td>0.735849</td>\n",
       "      <td>197.015</td>\n",
       "      <td>0.174590</td>\n",
       "      <td>1.440796</td>\n",
       "    </tr>\n",
       "    <tr>\n",
       "      <th>1</th>\n",
       "      <td>4881.0</td>\n",
       "      <td>74.364021</td>\n",
       "      <td>41.436419</td>\n",
       "      <td>0.725553</td>\n",
       "      <td>4913.0</td>\n",
       "      <td>78.833256</td>\n",
       "      <td>0.824405</td>\n",
       "      <td>200.587</td>\n",
       "      <td>0.261297</td>\n",
       "      <td>1.453137</td>\n",
       "    </tr>\n",
       "    <tr>\n",
       "      <th>2</th>\n",
       "      <td>5642.0</td>\n",
       "      <td>74.691881</td>\n",
       "      <td>42.871879</td>\n",
       "      <td>0.731211</td>\n",
       "      <td>NaN</td>\n",
       "      <td>84.756224</td>\n",
       "      <td>NaN</td>\n",
       "      <td>202.456</td>\n",
       "      <td>0.299298</td>\n",
       "      <td>1.465950</td>\n",
       "    </tr>\n",
       "    <tr>\n",
       "      <th>3</th>\n",
       "      <td>6083.0</td>\n",
       "      <td>76.293164</td>\n",
       "      <td>43.284979</td>\n",
       "      <td>0.738639</td>\n",
       "      <td>NaN</td>\n",
       "      <td>88.006342</td>\n",
       "      <td>NaN</td>\n",
       "      <td>207.325</td>\n",
       "      <td>0.589146</td>\n",
       "      <td>1.483456</td>\n",
       "    </tr>\n",
       "    <tr>\n",
       "      <th>4</th>\n",
       "      <td>NaN</td>\n",
       "      <td>76.789043</td>\n",
       "      <td>44.119355</td>\n",
       "      <td>0.749282</td>\n",
       "      <td>NaN</td>\n",
       "      <td>NaN</td>\n",
       "      <td>NaN</td>\n",
       "      <td>207.697</td>\n",
       "      <td>0.603807</td>\n",
       "      <td>1.510000</td>\n",
       "    </tr>\n",
       "    <tr>\n",
       "      <th>...</th>\n",
       "      <td>...</td>\n",
       "      <td>...</td>\n",
       "      <td>...</td>\n",
       "      <td>...</td>\n",
       "      <td>...</td>\n",
       "      <td>...</td>\n",
       "      <td>...</td>\n",
       "      <td>...</td>\n",
       "      <td>...</td>\n",
       "      <td>...</td>\n",
       "    </tr>\n",
       "    <tr>\n",
       "      <th>495</th>\n",
       "      <td>NaN</td>\n",
       "      <td>152.068440</td>\n",
       "      <td>63.322854</td>\n",
       "      <td>0.913724</td>\n",
       "      <td>NaN</td>\n",
       "      <td>NaN</td>\n",
       "      <td>NaN</td>\n",
       "      <td>375.651</td>\n",
       "      <td>0.872417</td>\n",
       "      <td>2.461017</td>\n",
       "    </tr>\n",
       "    <tr>\n",
       "      <th>496</th>\n",
       "      <td>NaN</td>\n",
       "      <td>152.113491</td>\n",
       "      <td>63.762307</td>\n",
       "      <td>0.913760</td>\n",
       "      <td>NaN</td>\n",
       "      <td>NaN</td>\n",
       "      <td>NaN</td>\n",
       "      <td>390.125</td>\n",
       "      <td>0.874243</td>\n",
       "      <td>2.461510</td>\n",
       "    </tr>\n",
       "    <tr>\n",
       "      <th>497</th>\n",
       "      <td>NaN</td>\n",
       "      <td>153.583387</td>\n",
       "      <td>64.012769</td>\n",
       "      <td>0.913891</td>\n",
       "      <td>NaN</td>\n",
       "      <td>NaN</td>\n",
       "      <td>NaN</td>\n",
       "      <td>434.235</td>\n",
       "      <td>0.874743</td>\n",
       "      <td>2.463297</td>\n",
       "    </tr>\n",
       "    <tr>\n",
       "      <th>498</th>\n",
       "      <td>NaN</td>\n",
       "      <td>227.105462</td>\n",
       "      <td>65.738475</td>\n",
       "      <td>0.913909</td>\n",
       "      <td>NaN</td>\n",
       "      <td>NaN</td>\n",
       "      <td>NaN</td>\n",
       "      <td>448.305</td>\n",
       "      <td>0.891706</td>\n",
       "      <td>2.463546</td>\n",
       "    </tr>\n",
       "    <tr>\n",
       "      <th>499</th>\n",
       "      <td>NaN</td>\n",
       "      <td>227.928583</td>\n",
       "      <td>68.977700</td>\n",
       "      <td>0.914001</td>\n",
       "      <td>NaN</td>\n",
       "      <td>NaN</td>\n",
       "      <td>NaN</td>\n",
       "      <td>488.837</td>\n",
       "      <td>0.904748</td>\n",
       "      <td>2.464809</td>\n",
       "    </tr>\n",
       "  </tbody>\n",
       "</table>\n",
       "<p>500 rows × 10 columns</p>\n",
       "</div>"
      ],
      "text/plain": [
       "     Daerah  SumbuUtama  SumbuKecil  Keunikan  AreaBulatan   Diameter  \\\n",
       "0    3992.0   74.133114   39.906517  0.719916       3802.0  71.293564   \n",
       "1    4881.0   74.364021   41.436419  0.725553       4913.0  78.833256   \n",
       "2    5642.0   74.691881   42.871879  0.731211          NaN  84.756224   \n",
       "3    6083.0   76.293164   43.284979  0.738639          NaN  88.006342   \n",
       "4       NaN   76.789043   44.119355  0.749282          NaN        NaN   \n",
       "..      ...         ...         ...       ...          ...        ...   \n",
       "495     NaN  152.068440   63.322854  0.913724          NaN        NaN   \n",
       "496     NaN  152.113491   63.762307  0.913760          NaN        NaN   \n",
       "497     NaN  153.583387   64.012769  0.913891          NaN        NaN   \n",
       "498     NaN  227.105462   65.738475  0.913909          NaN        NaN   \n",
       "499     NaN  227.928583   68.977700  0.914001          NaN        NaN   \n",
       "\n",
       "     KadarAir  Keliling   Bulatan    Ransum  \n",
       "0    0.735849   197.015  0.174590  1.440796  \n",
       "1    0.824405   200.587  0.261297  1.453137  \n",
       "2         NaN   202.456  0.299298  1.465950  \n",
       "3         NaN   207.325  0.589146  1.483456  \n",
       "4         NaN   207.697  0.603807  1.510000  \n",
       "..        ...       ...       ...       ...  \n",
       "495       NaN   375.651  0.872417  2.461017  \n",
       "496       NaN   390.125  0.874243  2.461510  \n",
       "497       NaN   434.235  0.874743  2.463297  \n",
       "498       NaN   448.305  0.891706  2.463546  \n",
       "499       NaN   488.837  0.904748  2.464809  \n",
       "\n",
       "[500 rows x 10 columns]"
      ]
     },
     "execution_count": 27,
     "metadata": {},
     "output_type": "execute_result"
    }
   ],
   "source": [
    "descGandum.mode(axis = 0, numeric_only = True)"
   ]
  },
  {
   "cell_type": "code",
   "execution_count": 28,
   "metadata": {},
   "outputs": [],
   "source": [
    "# comments\n",
    "# desc = gandum[\"id\"].describe()\n",
    "# popped = gandum.drop(\"id\", inplace = True, axis = 1)\n",
    "# description.pop(\"id\")\n",
    "# description = gandum.pop(\"id\")\n",
    "# description.pop(\"Kelas\")\n",
    "# description = description.describe()\n",
    "# description"
   ]
  }
 ],
 "metadata": {
  "kernelspec": {
   "display_name": "Python 3",
   "language": "python",
   "name": "python3"
  },
  "language_info": {
   "codemirror_mode": {
    "name": "ipython",
    "version": 3
   },
   "file_extension": ".py",
   "mimetype": "text/x-python",
   "name": "python",
   "nbconvert_exporter": "python",
   "pygments_lexer": "ipython3",
   "version": "3.8.5"
  }
 },
 "nbformat": 4,
 "nbformat_minor": 4
}
